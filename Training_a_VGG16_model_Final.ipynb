{
  "cells": [
    {
      "cell_type": "code",
      "execution_count": 7,
      "metadata": {
        "id": "EH48JpkBD2fY"
      },
      "outputs": [],
      "source": [
        "import tensorflow as tf\n",
        "import numpy as np\n",
        "import zipfile\n",
        "import os\n",
        "import cv2\n",
        "import pandas as pd\n",
        "from tensorflow.keras import layers\n",
        "from tensorflow.keras import callbacks\n",
        "from tensorflow.keras.preprocessing.image import ImageDataGenerator"
      ]
    },
    {
      "cell_type": "code",
      "execution_count": 9,
      "metadata": {
        "id": "hRJF_3St_9TJ"
      },
      "outputs": [],
      "source": [
        "def dataGen(path_train, batch, classes, path_validate=None):\n",
        "   ''' the dataGen() function creates an ImageDataGenerator of both the the train dataset and validation dataset,\n",
        "   with it you can specify the type of classification(Binary or Categorical) for the images, and choose its batch size.\n",
        "\n",
        "   args:\n",
        "   path_train = string of train dataset path,\n",
        "   path_validate(optional) = validation dataset path,\n",
        "   batch = integer of the batch size.\n",
        "   classes = integer of classes number.\n",
        "\n",
        "   returns:\n",
        "   train_generator = ImageDataGenerator of the train dataset,\n",
        "   validate_generator = ImageDataGenerator of the validation dataset.'''\n",
        "\n",
        "   # variable to specify the type of classification of our problem.\n",
        "   c_mode = 'categorical'\n",
        "   if classes == 2:\n",
        "         c_mode = 'binary'\n",
        "   # if statement to check if the user have given a validation path.\n",
        "   if path_validate == None:\n",
        "      train_generator = ImageDataGenerator(\n",
        "          rescale = 1./255,\n",
        "          shear_range = 0.2,\n",
        "          zoom_range = 0.3,\n",
        "          horizontal_flip = True,\n",
        "          validation_split=0.2\n",
        "      )\n",
        "\n",
        "      train_data = train_generator.flow_from_directory(\n",
        "          directory = path_train,\n",
        "          target_size = (224, 224),\n",
        "          batch_size = batch,\n",
        "          class_mode = c_mode,\n",
        "          subset = 'training'\n",
        "      )\n",
        "\n",
        "      validate_data = train_generator.flow_from_directory(\n",
        "          directory = path_train,\n",
        "          target_size = (224, 224),\n",
        "          batch_size = batch,\n",
        "          class_mode = c_mode,\n",
        "          subset = 'validation'\n",
        "      )\n",
        "\n",
        "      return train_data, validate_data\n",
        "\n",
        "   else:\n",
        "      train_generator = ImageDataGenerator( rescale= 1./255,\n",
        "                                        shear_range = 0.2,\n",
        "                                        zoom_range = 0.3,\n",
        "                                        horizontal_flip = True)\n",
        "\n",
        "      validate_generator = ImageDataGenerator(rescale= 1./255,\n",
        "                                          shear_range = 0.2,\n",
        "                                          zoom_range = 0.3,\n",
        "                                          horizontal_flip = True)\n",
        "\n",
        "      train_data = train_generator.flow_from_directory(\n",
        "            directory = path_train,\n",
        "            target_size = (224,224),\n",
        "            batch_size = batch,\n",
        "            class_mode = c_mode\n",
        "        )\n",
        "\n",
        "      validate_data = validate_generator.flow_from_directory(\n",
        "            directory = path_validate,\n",
        "            target_size = (224,224),\n",
        "            batch_size = batch,\n",
        "            class_mode = c_mode\n",
        "        )\n",
        "\n",
        "      return train_data, validate_data"
      ]
    },
    {
      "cell_type": "code",
      "execution_count": 10,
      "metadata": {
        "id": "0_FXDQ6RG7s_"
      },
      "outputs": [],
      "source": [
        "def build(name_of_model, classes):\n",
        "  ''' the bulid() function creates a keras model based on the VGG-16 architecture, with the build() function you can\n",
        "  specify the type of classification(Binary or categorical) with the specified integer of classes.\n",
        "\n",
        "  args:\n",
        "  name_of_model = string of the desired name of the model,\n",
        "  num_of_classes = integer of the number of classes for the model.\n",
        "\n",
        "  returns:\n",
        "  keras.model object with VGG-16 architecture and the specified number of classes.'''\n",
        "\n",
        "  # Intialising variables\n",
        "  (w, h ,c) = 224, 224, 3\n",
        "\n",
        "  # First block\n",
        "  input = tf.keras.Input(shape=(w, h, c), name=\"Input\")\n",
        "\n",
        "  x = layers.Conv2D(filters = 64, kernel_size = 3, padding = \"same\", activation = \"relu\", name = \"Conv1\")(input)\n",
        "  x = layers.Conv2D(filters = 64, kernel_size = 3, padding = \"same\", activation = \"relu\", name = \"Conv2\")(x)\n",
        "  x = layers.MaxPooling2D(pool_size=(2,2), strides=(2,2), padding=\"same\", name=\"Max_pool1\")(x)\n",
        "\n",
        "  # Second block\n",
        "  x = layers.Conv2D(filters = 128,kernel_size = 3, padding = \"same\", activation = \"relu\", name = \"Conv3\")(x)\n",
        "  x = layers.Conv2D(filters = 128,kernel_size = 3, padding = \"same\", activation = \"relu\", name = \"Conv4\")(x)\n",
        "  x = layers.MaxPooling2D(pool_size=(2,2), strides=(2,2), padding=\"same\", name=\"Max_pool2\")(x)\n",
        "\n",
        "  # Third block\n",
        "  x = layers.Conv2D(filters = 256, kernel_size = 3, padding = \"same\", activation=\"relu\", name = \"Conv5\")(x)\n",
        "  x = layers.Conv2D(filters = 256, kernel_size = 3, padding = \"same\", activation=\"relu\", name = \"Conv6\")(x)\n",
        "  x = layers.Conv2D(filters = 256, kernel_size = 3, padding = \"same\", activation=\"relu\", name = \"Conv7\")(x)\n",
        "  x = layers.MaxPooling2D(pool_size=(2,2), strides=(2,2), padding=\"same\", name=\"Max_pool3\")(x)\n",
        "\n",
        "  # Fourth block\n",
        "  x = layers.Conv2D(filters = 512, kernel_size = 3, padding = \"same\", activation = \"relu\", name = \"Conv8\")(x)\n",
        "  x = layers.Conv2D(filters = 512, kernel_size = 3, padding = \"same\", activation = \"relu\", name = \"Conv9\")(x)\n",
        "  x = layers.Conv2D(filters = 512, kernel_size = 3, padding = \"same\", activation = \"relu\", name = \"Conv10\")(x)\n",
        "  x = layers.MaxPooling2D(pool_size=(2,2), strides=(2,2), padding=\"same\", name=\"Max_pool4\")(x)\n",
        "\n",
        "  # Fifth block\n",
        "  x = layers.Conv2D(filters = 512, kernel_size = 3, padding = \"same\", activation = \"relu\", name = \"Conv11\")(x)\n",
        "  x = layers.Conv2D(filters = 512, kernel_size = 3, padding = \"same\", activation = \"relu\", name = \"Conv12\")(x)\n",
        "  x = layers.Conv2D(filters = 512, kernel_size = 3, padding = \"same\", activation = \"relu\", name = \"Conv13\")(x)\n",
        "  x = layers.MaxPooling2D(pool_size=(2,2), strides=(2,2), padding=\"same\", name=\"Max_pool5\")(x)\n",
        "\n",
        "  # Fully connected layers\n",
        "  x = layers.Flatten()(x)\n",
        "  x = layers.Dense(4096, activation=\"relu\", name=\"Dense1\")(x)\n",
        "  x = layers.Dropout(.35, name=\"Dropout1\")(x)\n",
        "  x = layers.Dense(4096, activation=\"relu\", name=\"Dense2\")(x)\n",
        "  x = layers.Dropout(.35, name=\"Dropout2\")(x)\n",
        "  x = layers.Dense(1000, activation=\"relu\", name=\"Dense3\")(x)\n",
        "  x = layers.Dropout(.35, name=\"Dropout3\")(x)\n",
        "\n",
        "  # checking the type of classification.\n",
        "  if classes == 2:\n",
        "       output = layers.Dense(1, activation=\"sigmoid\", name=\"Output\")(x)\n",
        "  else:\n",
        "       output = layers.Dense(classes, activation=\"softmax\", name=\"Output\")(x)\n",
        "\n",
        "  model = tf.keras.Model(inputs=input, outputs=output, name=name_of_model)\n",
        "  return model"
      ]
    },
    {
      "cell_type": "code",
      "execution_count": 11,
      "metadata": {
        "id": "aEkJctP2CMLE"
      },
      "outputs": [],
      "source": [
        "def modelCompile(model, classes, learning_rate):\n",
        "  ''' the modelCompile() function compiles the model based on the number of classes it has.\n",
        "\n",
        "  args:\n",
        "  model = keras.model object of the model to be compiled,\n",
        "  classes = integer of the number of classes the model has.\n",
        "\n",
        "  returns:\n",
        "  a compiled keras model.\n",
        "  '''\n",
        "\n",
        "  # checking the type of classification done on the model.\n",
        "  if classes == 2:\n",
        "    c_mode = tf.keras.losses.BinaryCrossentropy()\n",
        "  else:\n",
        "    c_mode = tf.keras.losses.CategoricalCrossentropy()\n",
        "\n",
        "  # applying decay to the weights and biases.\n",
        "  lr_schedule = tf.keras.optimizers.schedules.ExponentialDecay(\n",
        "    initial_learning_rate=learning_rate,\n",
        "    decay_steps=10000,\n",
        "    decay_rate=0.0005)\n",
        "\n",
        "  # compiling the model.\n",
        "  model.compile(\n",
        "      loss = c_mode,\n",
        "      optimizer=tf.keras.optimizers.Adam(learning_rate=lr_schedule),\n",
        "      metrics = 'accuracy'\n",
        "  )"
      ]
    },
    {
      "cell_type": "code",
      "execution_count": 12,
      "metadata": {
        "id": "SM1uxNZtEXNa"
      },
      "outputs": [],
      "source": [
        "def modelEvalution(model, test_path, batch, classes):\n",
        "   ''' the modelEvalution() function takes a model and a test set to evaluate it's loss and accuracy.\n",
        "\n",
        "   args:\n",
        "   model = keras.model object used for evalution,\n",
        "   test_path = string of the path for the test dataset,\n",
        "   batch = integer of the batch size,\n",
        "   classes = integer number of classes\n",
        "\n",
        "   returns:\n",
        "   prints evalution of the model's performance.\n",
        "   '''\n",
        "   # variable to specify the type of classification of our problem\n",
        "   if classes == 2:\n",
        "    c_mode = \"binary\"\n",
        "   else:\n",
        "    c_mode = \"categorical\"\n",
        "\n",
        "   # generating a test data set with the ImageDataGenerator()\n",
        "   test_data = ImageDataGenerator(\n",
        "       rescale=1./255,\n",
        "       shear_range=0.2,\n",
        "       zoom_range=0.3,\n",
        "       horizontal_flip=True\n",
        "\n",
        "   )\n",
        "\n",
        "   test_generator = test_data.flow_from_directory(\n",
        "       directory = test_path,\n",
        "       target_size = (224,224),\n",
        "       batch_size = batch,\n",
        "       class_mode = c_mode\n",
        "\n",
        "   )\n",
        "\n",
        "   # print the evaluation of the model\n",
        "   print(model.evaluate(test_generator))\n"
      ]
    },
    {
      "cell_type": "code",
      "execution_count": 13,
      "metadata": {
        "id": "XHqr9w3J9elt"
      },
      "outputs": [],
      "source": [
        "def main():\n",
        "  ''' the main() function is the main function that calls the other function.'''\n",
        "\n",
        "  # variables for when calling the functions.\n",
        "  NAME = input(\"now please enter the name of the model: \")\n",
        "  CLASSES = int(input(\"please enter the number of classes: \"))\n",
        "\n",
        "  model = build(NAME, CLASSES)\n",
        "  model.summary()\n",
        "\n",
        "  train_data_path = input(\"please enter the path of the train dataset: \")\n",
        "\n",
        "  # check if the user wants to add validtion set path.\n",
        "  validation_data_path = None\n",
        "  validate_y_or_no = input(\"want to include a validation set, y or n? \")\n",
        "  if validate_y_or_no == 'y':\n",
        "      validation_data_path = input(\"then please enter the path of the validation dataset: \")\n",
        "\n",
        "  # batch size and learning rate variables.\n",
        "  BATCH_SIZE = int(input(\"enter the batch size: \"))\n",
        "  LEARNING_RATE = float(input(\"please enter the learning rate:\"))\n",
        "\n",
        "  # generating the train and validation data.\n",
        "  train_gen, valid_gen = dataGen(train_data_path, path_validate=validation_data_path, batch = BATCH_SIZE, classes = CLASSES)\n",
        "\n",
        "  # compiling the model.\n",
        "  modelCompile(model, CLASSES, LEARNING_RATE)\n",
        "\n",
        "  EPOCHS = int(input(\"please enter the number of epochs: \"))\n",
        "\n",
        "  # adding callbacks for early stopping and saving the best performance of each test.\n",
        "  EARLYSTOP = callbacks.EarlyStopping(monitor = 'val_accuracy', min_delta=0.005, patience = 10, mode = 'auto')\n",
        "  CHECKPOINT = callbacks.ModelCheckpoint(f'{NAME}_model.keras', save_best_only=True, monitor='val_accuracy', mode='auto')\n",
        "\n",
        "  # fitting the generated data.\n",
        "  model.fit(train_gen,\n",
        "            batch_size = BATCH_SIZE,\n",
        "            epochs = EPOCHS,\n",
        "            validation_data = valid_gen,\n",
        "            validation_batch_size = BATCH_SIZE,\n",
        "            callbacks=[EARLYSTOP,CHECKPOINT])\n",
        "\n",
        "  # asking the user if they want an evaluation.\n",
        "  evaluate_or_not = input(\"do want to evaluate the model, y or n? \")\n",
        "  if evaluate_or_not == 'y':\n",
        "    test_data_path = input(\"please provide the path for the testing dataset: \")\n",
        "    modelEvalution(model, test_data_path, BATCH_SIZE, CLASSES)\n",
        "\n",
        "  # print statement declaring the program is done.\n",
        "  print(\"training done successfully!!\")"
      ]
    },
    {
      "cell_type": "code",
      "source": [
        "def modelLoad(path):\n",
        "  ''' modelLoad() function loads a pre-trained keras model.\n",
        "\n",
        "  args:\n",
        "  path = string of the keras model path.\n",
        "\n",
        "  returns:\n",
        "  a keras.model object of the pre-trained model.'''\n",
        "  model = tf.keras.models.load_model(path)\n",
        "\n",
        "  return model"
      ],
      "metadata": {
        "id": "UZRY9b7MivA3"
      },
      "execution_count": 1,
      "outputs": []
    },
    {
      "cell_type": "code",
      "execution_count": 2,
      "metadata": {
        "id": "Mc9EyOxAD72q"
      },
      "outputs": [],
      "source": [
        "def singleImageClassification(path, model):\n",
        "  ''' the singleImageClassification() takes a single image and classifies it.\n",
        "\n",
        "  args:\n",
        "  path = string of the image path,\n",
        "  model = keras.model object used for classification.\n",
        "\n",
        "  returns:\n",
        "  tensor of the predicted class of the image.'''\n",
        "\n",
        "  # try function tries to fetch ih the path of the image is correct.\n",
        "  try:\n",
        "\n",
        "  # preprocessing the image before feeding it to the model(e.g. rescale, resizing etc.).\n",
        "    img = cv2.imread(path)\n",
        "    img = cv2.resize(img, (224,224))\n",
        "    img = tf.constant(img)\n",
        "    img = tf.expand_dims(img, axis=0)/255\n",
        "\n",
        "    logit = model.predict(img)\n",
        "    prediction = tf.nn.softmax(logit)\n",
        "\n",
        "    return np.argmax(prediction, 1)\n",
        "\n",
        "  except:\n",
        "    print(\"incorrect path, please try again.\")"
      ]
    },
    {
      "cell_type": "code",
      "source": [
        "def classifyPath(path, model):\n",
        "  ''' the classifyPath() function takes a path full of images and returns a dictionary of predictions for\n",
        "   all the images in given path.\n",
        "\n",
        "   args:\n",
        "   path = a string of the path containing the images to classify,\n",
        "   model = keras.model object of the trained model to use for prediction.\n",
        "\n",
        "   returns:\n",
        "   a dictionary of al the predictions.'''\n",
        "\n",
        "  listOfFiles = {}\n",
        "\n",
        "  # os.listdir to go through the whole file.\n",
        "  for filename in os.listdir(path):\n",
        "    if filename.endswith('.jpg'):\n",
        "     listOfFiles[filename] = singleImageClassification(os.path.join(path, filename), model)\n",
        "\n",
        "  return listOfFiles"
      ],
      "metadata": {
        "id": "2xDmZDENizUV"
      },
      "execution_count": 3,
      "outputs": []
    },
    {
      "cell_type": "code",
      "source": [
        "model = build(\"VGG-16\", 2)\n",
        "model.summary()"
      ],
      "metadata": {
        "colab": {
          "base_uri": "https://localhost:8080/"
        },
        "id": "t4FhIEYM5iYe",
        "outputId": "ce4ad2c9-0211-4b83-dbee-bead4fbee02f"
      },
      "execution_count": null,
      "outputs": [
        {
          "output_type": "stream",
          "name": "stdout",
          "text": [
            "Model: \"VGG-16\"\n",
            "_________________________________________________________________\n",
            " Layer (type)                Output Shape              Param #   \n",
            "=================================================================\n",
            " Input (InputLayer)          [(None, 224, 224, 3)]     0         \n",
            "                                                                 \n",
            " Conv1 (Conv2D)              (None, 224, 224, 64)      1792      \n",
            "                                                                 \n",
            " Conv2 (Conv2D)              (None, 224, 224, 64)      36928     \n",
            "                                                                 \n",
            " Max_pool1 (MaxPooling2D)    (None, 112, 112, 64)      0         \n",
            "                                                                 \n",
            " Conv3 (Conv2D)              (None, 112, 112, 128)     73856     \n",
            "                                                                 \n",
            " Conv4 (Conv2D)              (None, 112, 112, 128)     147584    \n",
            "                                                                 \n",
            " Max_pool2 (MaxPooling2D)    (None, 56, 56, 128)       0         \n",
            "                                                                 \n",
            " Conv5 (Conv2D)              (None, 56, 56, 256)       295168    \n",
            "                                                                 \n",
            " Conv6 (Conv2D)              (None, 56, 56, 256)       590080    \n",
            "                                                                 \n",
            " Conv7 (Conv2D)              (None, 56, 56, 256)       590080    \n",
            "                                                                 \n",
            " Max_pool3 (MaxPooling2D)    (None, 28, 28, 256)       0         \n",
            "                                                                 \n",
            " Conv8 (Conv2D)              (None, 28, 28, 512)       1180160   \n",
            "                                                                 \n",
            " Conv9 (Conv2D)              (None, 28, 28, 512)       2359808   \n",
            "                                                                 \n",
            " Conv10 (Conv2D)             (None, 28, 28, 512)       2359808   \n",
            "                                                                 \n",
            " Max_pool4 (MaxPooling2D)    (None, 14, 14, 512)       0         \n",
            "                                                                 \n",
            " Conv11 (Conv2D)             (None, 14, 14, 512)       2359808   \n",
            "                                                                 \n",
            " Conv12 (Conv2D)             (None, 14, 14, 512)       2359808   \n",
            "                                                                 \n",
            " Conv13 (Conv2D)             (None, 14, 14, 512)       2359808   \n",
            "                                                                 \n",
            " Max_pool5 (MaxPooling2D)    (None, 7, 7, 512)         0         \n",
            "                                                                 \n",
            " flatten (Flatten)           (None, 25088)             0         \n",
            "                                                                 \n",
            " Dense1 (Dense)              (None, 4096)              102764544 \n",
            "                                                                 \n",
            " Dropout1 (Dropout)          (None, 4096)              0         \n",
            "                                                                 \n",
            " Dense2 (Dense)              (None, 4096)              16781312  \n",
            "                                                                 \n",
            " Dropout2 (Dropout)          (None, 4096)              0         \n",
            "                                                                 \n",
            " Dense3 (Dense)              (None, 1000)              4097000   \n",
            "                                                                 \n",
            " Dropout3 (Dropout)          (None, 1000)              0         \n",
            "                                                                 \n",
            " Output (Dense)              (None, 1)                 1001      \n",
            "                                                                 \n",
            "=================================================================\n",
            "Total params: 138358545 (527.80 MB)\n",
            "Trainable params: 138358545 (527.80 MB)\n",
            "Non-trainable params: 0 (0.00 Byte)\n",
            "_________________________________________________________________\n"
          ]
        }
      ]
    },
    {
      "cell_type": "code",
      "source": [
        "# Extracting the dataset file\n",
        "zip_ref = zipfile.ZipFile('/content/catsvsdogs_small.zip')\n",
        "zip_ref.extractall()\n",
        "zip_ref.close()"
      ],
      "metadata": {
        "id": "xcSCI5me19_e"
      },
      "execution_count": null,
      "outputs": []
    },
    {
      "cell_type": "markdown",
      "source": [
        "# Testing the Model:\n",
        "\n",
        "here we'll be conducting several tests on multiple datasets to measure the effictivness of the model.\n",
        "\n",
        "> Dataset [1] : a small dataset of only 557 pictures belonging to 2 classes, class zero being cats and class one being dogs.\n",
        "\n",
        "> Dataset [2] : a medium dataset of 5494 images with 12 classes, these classes being different type of pests.\n",
        "\n",
        "> Dataset [3] : a large dataset with 14034 training images and validation set of 3000 images, with 6 different classes, the classes are different types of sceneries."
      ],
      "metadata": {
        "id": "MTaDpy5TkOKV"
      }
    },
    {
      "cell_type": "markdown",
      "source": [
        "# Dataset 1:\n",
        "\n",
        "the model was too complex for the amount of data we have, even after multiple fine tuning and hyperparameter adjustments, the results were terrible. the model went into overfitting in all tests, best result achieved a validation accuracy of 67.2 % and a loss of 0.66, but when put in evaluation it resulted in an accuracy of 57%."
      ],
      "metadata": {
        "id": "2VsC2zkXmiCj"
      }
    },
    {
      "cell_type": "code",
      "source": [
        "main()"
      ],
      "metadata": {
        "colab": {
          "base_uri": "https://localhost:8080/"
        },
        "id": "umYFfQkE17YG",
        "outputId": "a62bab45-cd34-482c-fb6c-1d1cf22f023e"
      },
      "execution_count": null,
      "outputs": [
        {
          "output_type": "stream",
          "name": "stdout",
          "text": [
            "now please enter the name of the model: Cats-vs-Dogs\n",
            "please enter the number of classes: 2\n",
            "Model: \"Cats-vs-Dogs\"\n",
            "_________________________________________________________________\n",
            " Layer (type)                Output Shape              Param #   \n",
            "=================================================================\n",
            " Input (InputLayer)          [(None, 224, 224, 3)]     0         \n",
            "                                                                 \n",
            " Conv1 (Conv2D)              (None, 224, 224, 64)      1792      \n",
            "                                                                 \n",
            " Conv2 (Conv2D)              (None, 224, 224, 64)      36928     \n",
            "                                                                 \n",
            " Max_pool1 (MaxPooling2D)    (None, 112, 112, 64)      0         \n",
            "                                                                 \n",
            " Conv3 (Conv2D)              (None, 112, 112, 128)     73856     \n",
            "                                                                 \n",
            " Conv4 (Conv2D)              (None, 112, 112, 128)     147584    \n",
            "                                                                 \n",
            " Max_pool2 (MaxPooling2D)    (None, 56, 56, 128)       0         \n",
            "                                                                 \n",
            " Conv5 (Conv2D)              (None, 56, 56, 256)       295168    \n",
            "                                                                 \n",
            " Conv6 (Conv2D)              (None, 56, 56, 256)       590080    \n",
            "                                                                 \n",
            " Conv7 (Conv2D)              (None, 56, 56, 256)       590080    \n",
            "                                                                 \n",
            " Max_pool3 (MaxPooling2D)    (None, 28, 28, 256)       0         \n",
            "                                                                 \n",
            " Conv8 (Conv2D)              (None, 28, 28, 512)       1180160   \n",
            "                                                                 \n",
            " Conv9 (Conv2D)              (None, 28, 28, 512)       2359808   \n",
            "                                                                 \n",
            " Conv10 (Conv2D)             (None, 28, 28, 512)       2359808   \n",
            "                                                                 \n",
            " Max_pool4 (MaxPooling2D)    (None, 14, 14, 512)       0         \n",
            "                                                                 \n",
            " Conv11 (Conv2D)             (None, 14, 14, 512)       2359808   \n",
            "                                                                 \n",
            " Conv12 (Conv2D)             (None, 14, 14, 512)       2359808   \n",
            "                                                                 \n",
            " Conv13 (Conv2D)             (None, 14, 14, 512)       2359808   \n",
            "                                                                 \n",
            " Max_pool5 (MaxPooling2D)    (None, 7, 7, 512)         0         \n",
            "                                                                 \n",
            " flatten_2 (Flatten)         (None, 25088)             0         \n",
            "                                                                 \n",
            " Dense1 (Dense)              (None, 4096)              102764544 \n",
            "                                                                 \n",
            " Dropout1 (Dropout)          (None, 4096)              0         \n",
            "                                                                 \n",
            " Dense2 (Dense)              (None, 4096)              16781312  \n",
            "                                                                 \n",
            " Dropout2 (Dropout)          (None, 4096)              0         \n",
            "                                                                 \n",
            " Dense3 (Dense)              (None, 1000)              4097000   \n",
            "                                                                 \n",
            " Dropout3 (Dropout)          (None, 1000)              0         \n",
            "                                                                 \n",
            " Output (Dense)              (None, 1)                 1001      \n",
            "                                                                 \n",
            "=================================================================\n",
            "Total params: 138358545 (527.80 MB)\n",
            "Trainable params: 138358545 (527.80 MB)\n",
            "Non-trainable params: 0 (0.00 Byte)\n",
            "_________________________________________________________________\n",
            "please enter the path of the train dataset: /content/train\n",
            "want to include a validation set, y or n? n\n",
            "enter the batch size: 10\n",
            "enter the metric to monitored: accuracy\n",
            "please enter the learning rate:0.000001\n",
            "Found 447 images belonging to 2 classes.\n",
            "Found 110 images belonging to 2 classes.\n",
            "please enter the number of epochs: 100\n",
            "Epoch 1/100\n",
            "45/45 [==============================] - ETA: 0s - loss: 0.6931 - accuracy: 0.5123"
          ]
        },
        {
          "output_type": "stream",
          "name": "stderr",
          "text": [
            "WARNING:tensorflow:Early stopping conditioned on metric `val_acc` which is not available. Available metrics are: loss,accuracy,val_loss,val_accuracy\n",
            "WARNING:tensorflow:Can save best model only with val_acc available, skipping.\n"
          ]
        },
        {
          "output_type": "stream",
          "name": "stdout",
          "text": [
            "\b\b\b\b\b\b\b\b\b\b\b\b\b\b\b\b\b\b\b\b\b\b\b\b\b\b\b\b\b\b\b\b\b\b\b\b\b\b\b\b\b\b\b\b\b\b\b\b\b\b\b\b\b\b\b\b\b\b\b\b\b\b\b\b\b\b\b\b\b\b\b\b\b\b\b\b\b\b\b\b\b\b\r45/45 [==============================] - 33s 446ms/step - loss: 0.6931 - accuracy: 0.5123 - val_loss: 0.6931 - val_accuracy: 0.5000\n",
            "Epoch 2/100\n",
            "45/45 [==============================] - ETA: 0s - loss: 0.6931 - accuracy: 0.5034"
          ]
        },
        {
          "output_type": "stream",
          "name": "stderr",
          "text": [
            "WARNING:tensorflow:Early stopping conditioned on metric `val_acc` which is not available. Available metrics are: loss,accuracy,val_loss,val_accuracy\n",
            "WARNING:tensorflow:Can save best model only with val_acc available, skipping.\n"
          ]
        },
        {
          "output_type": "stream",
          "name": "stdout",
          "text": [
            "\b\b\b\b\b\b\b\b\b\b\b\b\b\b\b\b\b\b\b\b\b\b\b\b\b\b\b\b\b\b\b\b\b\b\b\b\b\b\b\b\b\b\b\b\b\b\b\b\b\b\b\b\b\b\b\b\b\b\b\b\b\b\b\b\b\b\b\b\b\b\b\b\b\b\b\b\b\b\b\b\b\b\r45/45 [==============================] - 12s 260ms/step - loss: 0.6931 - accuracy: 0.5034 - val_loss: 0.6931 - val_accuracy: 0.5000\n",
            "Epoch 3/100\n",
            "45/45 [==============================] - ETA: 0s - loss: 0.6931 - accuracy: 0.5078"
          ]
        },
        {
          "output_type": "stream",
          "name": "stderr",
          "text": [
            "WARNING:tensorflow:Early stopping conditioned on metric `val_acc` which is not available. Available metrics are: loss,accuracy,val_loss,val_accuracy\n",
            "WARNING:tensorflow:Can save best model only with val_acc available, skipping.\n"
          ]
        },
        {
          "output_type": "stream",
          "name": "stdout",
          "text": [
            "\b\b\b\b\b\b\b\b\b\b\b\b\b\b\b\b\b\b\b\b\b\b\b\b\b\b\b\b\b\b\b\b\b\b\b\b\b\b\b\b\b\b\b\b\b\b\b\b\b\b\b\b\b\b\b\b\b\b\b\b\b\b\b\b\b\b\b\b\b\b\b\b\b\b\b\b\b\b\b\b\b\b\r45/45 [==============================] - 12s 269ms/step - loss: 0.6931 - accuracy: 0.5078 - val_loss: 0.6931 - val_accuracy: 0.5000\n",
            "Epoch 4/100\n",
            "45/45 [==============================] - ETA: 0s - loss: 0.6931 - accuracy: 0.4989"
          ]
        },
        {
          "output_type": "stream",
          "name": "stderr",
          "text": [
            "WARNING:tensorflow:Early stopping conditioned on metric `val_acc` which is not available. Available metrics are: loss,accuracy,val_loss,val_accuracy\n",
            "WARNING:tensorflow:Can save best model only with val_acc available, skipping.\n"
          ]
        },
        {
          "output_type": "stream",
          "name": "stdout",
          "text": [
            "\b\b\b\b\b\b\b\b\b\b\b\b\b\b\b\b\b\b\b\b\b\b\b\b\b\b\b\b\b\b\b\b\b\b\b\b\b\b\b\b\b\b\b\b\b\b\b\b\b\b\b\b\b\b\b\b\b\b\b\b\b\b\b\b\b\b\b\b\b\b\b\b\b\b\b\b\b\b\b\b\b\b\r45/45 [==============================] - 12s 271ms/step - loss: 0.6931 - accuracy: 0.4989 - val_loss: 0.6931 - val_accuracy: 0.5000\n",
            "Epoch 5/100\n",
            "45/45 [==============================] - ETA: 0s - loss: 0.6931 - accuracy: 0.5034"
          ]
        },
        {
          "output_type": "stream",
          "name": "stderr",
          "text": [
            "WARNING:tensorflow:Early stopping conditioned on metric `val_acc` which is not available. Available metrics are: loss,accuracy,val_loss,val_accuracy\n",
            "WARNING:tensorflow:Can save best model only with val_acc available, skipping.\n"
          ]
        },
        {
          "output_type": "stream",
          "name": "stdout",
          "text": [
            "\b\b\b\b\b\b\b\b\b\b\b\b\b\b\b\b\b\b\b\b\b\b\b\b\b\b\b\b\b\b\b\b\b\b\b\b\b\b\b\b\b\b\b\b\b\b\b\b\b\b\b\b\b\b\b\b\b\b\b\b\b\b\b\b\b\b\b\b\b\b\b\b\b\b\b\b\b\b\b\b\b\b\r45/45 [==============================] - 12s 273ms/step - loss: 0.6931 - accuracy: 0.5034 - val_loss: 0.6930 - val_accuracy: 0.5000\n",
            "Epoch 6/100\n",
            "45/45 [==============================] - ETA: 0s - loss: 0.6931 - accuracy: 0.4989"
          ]
        },
        {
          "output_type": "stream",
          "name": "stderr",
          "text": [
            "WARNING:tensorflow:Early stopping conditioned on metric `val_acc` which is not available. Available metrics are: loss,accuracy,val_loss,val_accuracy\n",
            "WARNING:tensorflow:Can save best model only with val_acc available, skipping.\n"
          ]
        },
        {
          "output_type": "stream",
          "name": "stdout",
          "text": [
            "\b\b\b\b\b\b\b\b\b\b\b\b\b\b\b\b\b\b\b\b\b\b\b\b\b\b\b\b\b\b\b\b\b\b\b\b\b\b\b\b\b\b\b\b\b\b\b\b\b\b\b\b\b\b\b\b\b\b\b\b\b\b\b\b\b\b\b\b\b\b\b\b\b\b\b\b\b\b\b\b\b\b\r45/45 [==============================] - 12s 273ms/step - loss: 0.6931 - accuracy: 0.4989 - val_loss: 0.6930 - val_accuracy: 0.5000\n",
            "Epoch 7/100\n",
            "45/45 [==============================] - ETA: 0s - loss: 0.6931 - accuracy: 0.4989"
          ]
        },
        {
          "output_type": "stream",
          "name": "stderr",
          "text": [
            "WARNING:tensorflow:Early stopping conditioned on metric `val_acc` which is not available. Available metrics are: loss,accuracy,val_loss,val_accuracy\n",
            "WARNING:tensorflow:Can save best model only with val_acc available, skipping.\n"
          ]
        },
        {
          "output_type": "stream",
          "name": "stdout",
          "text": [
            "\b\b\b\b\b\b\b\b\b\b\b\b\b\b\b\b\b\b\b\b\b\b\b\b\b\b\b\b\b\b\b\b\b\b\b\b\b\b\b\b\b\b\b\b\b\b\b\b\b\b\b\b\b\b\b\b\b\b\b\b\b\b\b\b\b\b\b\b\b\b\b\b\b\b\b\b\b\b\b\b\b\b\r45/45 [==============================] - 12s 275ms/step - loss: 0.6931 - accuracy: 0.4989 - val_loss: 0.6930 - val_accuracy: 0.5000\n",
            "Epoch 8/100\n",
            "45/45 [==============================] - ETA: 0s - loss: 0.6931 - accuracy: 0.4989"
          ]
        },
        {
          "output_type": "stream",
          "name": "stderr",
          "text": [
            "WARNING:tensorflow:Early stopping conditioned on metric `val_acc` which is not available. Available metrics are: loss,accuracy,val_loss,val_accuracy\n",
            "WARNING:tensorflow:Can save best model only with val_acc available, skipping.\n"
          ]
        },
        {
          "output_type": "stream",
          "name": "stdout",
          "text": [
            "\b\b\b\b\b\b\b\b\b\b\b\b\b\b\b\b\b\b\b\b\b\b\b\b\b\b\b\b\b\b\b\b\b\b\b\b\b\b\b\b\b\b\b\b\b\b\b\b\b\b\b\b\b\b\b\b\b\b\b\b\b\b\b\b\b\b\b\b\b\b\b\b\b\b\b\b\b\b\b\b\b\b\r45/45 [==============================] - 12s 269ms/step - loss: 0.6931 - accuracy: 0.4989 - val_loss: 0.6930 - val_accuracy: 0.5000\n",
            "Epoch 9/100\n",
            "45/45 [==============================] - ETA: 0s - loss: 0.6930 - accuracy: 0.4989"
          ]
        },
        {
          "output_type": "stream",
          "name": "stderr",
          "text": [
            "WARNING:tensorflow:Early stopping conditioned on metric `val_acc` which is not available. Available metrics are: loss,accuracy,val_loss,val_accuracy\n",
            "WARNING:tensorflow:Can save best model only with val_acc available, skipping.\n"
          ]
        },
        {
          "output_type": "stream",
          "name": "stdout",
          "text": [
            "\b\b\b\b\b\b\b\b\b\b\b\b\b\b\b\b\b\b\b\b\b\b\b\b\b\b\b\b\b\b\b\b\b\b\b\b\b\b\b\b\b\b\b\b\b\b\b\b\b\b\b\b\b\b\b\b\b\b\b\b\b\b\b\b\b\b\b\b\b\b\b\b\b\b\b\b\b\b\b\b\b\b\r45/45 [==============================] - 12s 272ms/step - loss: 0.6930 - accuracy: 0.4989 - val_loss: 0.6930 - val_accuracy: 0.5000\n",
            "Epoch 10/100\n",
            "45/45 [==============================] - ETA: 0s - loss: 0.6930 - accuracy: 0.4989"
          ]
        },
        {
          "output_type": "stream",
          "name": "stderr",
          "text": [
            "WARNING:tensorflow:Early stopping conditioned on metric `val_acc` which is not available. Available metrics are: loss,accuracy,val_loss,val_accuracy\n",
            "WARNING:tensorflow:Can save best model only with val_acc available, skipping.\n"
          ]
        },
        {
          "output_type": "stream",
          "name": "stdout",
          "text": [
            "\b\b\b\b\b\b\b\b\b\b\b\b\b\b\b\b\b\b\b\b\b\b\b\b\b\b\b\b\b\b\b\b\b\b\b\b\b\b\b\b\b\b\b\b\b\b\b\b\b\b\b\b\b\b\b\b\b\b\b\b\b\b\b\b\b\b\b\b\b\b\b\b\b\b\b\b\b\b\b\b\b\b\r45/45 [==============================] - 12s 276ms/step - loss: 0.6930 - accuracy: 0.4989 - val_loss: 0.6929 - val_accuracy: 0.5000\n",
            "Epoch 11/100\n",
            "45/45 [==============================] - ETA: 0s - loss: 0.6930 - accuracy: 0.4989"
          ]
        },
        {
          "output_type": "stream",
          "name": "stderr",
          "text": [
            "WARNING:tensorflow:Early stopping conditioned on metric `val_acc` which is not available. Available metrics are: loss,accuracy,val_loss,val_accuracy\n",
            "WARNING:tensorflow:Can save best model only with val_acc available, skipping.\n"
          ]
        },
        {
          "output_type": "stream",
          "name": "stdout",
          "text": [
            "\b\b\b\b\b\b\b\b\b\b\b\b\b\b\b\b\b\b\b\b\b\b\b\b\b\b\b\b\b\b\b\b\b\b\b\b\b\b\b\b\b\b\b\b\b\b\b\b\b\b\b\b\b\b\b\b\b\b\b\b\b\b\b\b\b\b\b\b\b\b\b\b\b\b\b\b\b\b\b\b\b\b\r45/45 [==============================] - 12s 273ms/step - loss: 0.6930 - accuracy: 0.4989 - val_loss: 0.6929 - val_accuracy: 0.5000\n",
            "Epoch 12/100\n",
            "45/45 [==============================] - ETA: 0s - loss: 0.6929 - accuracy: 0.4989"
          ]
        },
        {
          "output_type": "stream",
          "name": "stderr",
          "text": [
            "WARNING:tensorflow:Early stopping conditioned on metric `val_acc` which is not available. Available metrics are: loss,accuracy,val_loss,val_accuracy\n",
            "WARNING:tensorflow:Can save best model only with val_acc available, skipping.\n"
          ]
        },
        {
          "output_type": "stream",
          "name": "stdout",
          "text": [
            "\b\b\b\b\b\b\b\b\b\b\b\b\b\b\b\b\b\b\b\b\b\b\b\b\b\b\b\b\b\b\b\b\b\b\b\b\b\b\b\b\b\b\b\b\b\b\b\b\b\b\b\b\b\b\b\b\b\b\b\b\b\b\b\b\b\b\b\b\b\b\b\b\b\b\b\b\b\b\b\b\b\b\r45/45 [==============================] - 12s 270ms/step - loss: 0.6929 - accuracy: 0.4989 - val_loss: 0.6928 - val_accuracy: 0.5000\n",
            "Epoch 13/100\n",
            "45/45 [==============================] - ETA: 0s - loss: 0.6930 - accuracy: 0.4989"
          ]
        },
        {
          "output_type": "stream",
          "name": "stderr",
          "text": [
            "WARNING:tensorflow:Early stopping conditioned on metric `val_acc` which is not available. Available metrics are: loss,accuracy,val_loss,val_accuracy\n",
            "WARNING:tensorflow:Can save best model only with val_acc available, skipping.\n"
          ]
        },
        {
          "output_type": "stream",
          "name": "stdout",
          "text": [
            "\b\b\b\b\b\b\b\b\b\b\b\b\b\b\b\b\b\b\b\b\b\b\b\b\b\b\b\b\b\b\b\b\b\b\b\b\b\b\b\b\b\b\b\b\b\b\b\b\b\b\b\b\b\b\b\b\b\b\b\b\b\b\b\b\b\b\b\b\b\b\b\b\b\b\b\b\b\b\b\b\b\b\r45/45 [==============================] - 13s 278ms/step - loss: 0.6930 - accuracy: 0.4989 - val_loss: 0.6928 - val_accuracy: 0.5000\n",
            "Epoch 14/100\n",
            "45/45 [==============================] - ETA: 0s - loss: 0.6929 - accuracy: 0.4989"
          ]
        },
        {
          "output_type": "stream",
          "name": "stderr",
          "text": [
            "WARNING:tensorflow:Early stopping conditioned on metric `val_acc` which is not available. Available metrics are: loss,accuracy,val_loss,val_accuracy\n",
            "WARNING:tensorflow:Can save best model only with val_acc available, skipping.\n"
          ]
        },
        {
          "output_type": "stream",
          "name": "stdout",
          "text": [
            "\b\b\b\b\b\b\b\b\b\b\b\b\b\b\b\b\b\b\b\b\b\b\b\b\b\b\b\b\b\b\b\b\b\b\b\b\b\b\b\b\b\b\b\b\b\b\b\b\b\b\b\b\b\b\b\b\b\b\b\b\b\b\b\b\b\b\b\b\b\b\b\b\b\b\b\b\b\b\b\b\b\b\r45/45 [==============================] - 12s 274ms/step - loss: 0.6929 - accuracy: 0.4989 - val_loss: 0.6928 - val_accuracy: 0.5000\n",
            "Epoch 15/100\n",
            "45/45 [==============================] - ETA: 0s - loss: 0.6929 - accuracy: 0.4989"
          ]
        },
        {
          "output_type": "stream",
          "name": "stderr",
          "text": [
            "WARNING:tensorflow:Early stopping conditioned on metric `val_acc` which is not available. Available metrics are: loss,accuracy,val_loss,val_accuracy\n",
            "WARNING:tensorflow:Can save best model only with val_acc available, skipping.\n"
          ]
        },
        {
          "output_type": "stream",
          "name": "stdout",
          "text": [
            "\b\b\b\b\b\b\b\b\b\b\b\b\b\b\b\b\b\b\b\b\b\b\b\b\b\b\b\b\b\b\b\b\b\b\b\b\b\b\b\b\b\b\b\b\b\b\b\b\b\b\b\b\b\b\b\b\b\b\b\b\b\b\b\b\b\b\b\b\b\b\b\b\b\b\b\b\b\b\b\b\b\b\r45/45 [==============================] - 12s 274ms/step - loss: 0.6929 - accuracy: 0.4989 - val_loss: 0.6927 - val_accuracy: 0.5000\n",
            "Epoch 16/100\n",
            "45/45 [==============================] - ETA: 0s - loss: 0.6928 - accuracy: 0.4989"
          ]
        },
        {
          "output_type": "stream",
          "name": "stderr",
          "text": [
            "WARNING:tensorflow:Early stopping conditioned on metric `val_acc` which is not available. Available metrics are: loss,accuracy,val_loss,val_accuracy\n",
            "WARNING:tensorflow:Can save best model only with val_acc available, skipping.\n"
          ]
        },
        {
          "output_type": "stream",
          "name": "stdout",
          "text": [
            "\b\b\b\b\b\b\b\b\b\b\b\b\b\b\b\b\b\b\b\b\b\b\b\b\b\b\b\b\b\b\b\b\b\b\b\b\b\b\b\b\b\b\b\b\b\b\b\b\b\b\b\b\b\b\b\b\b\b\b\b\b\b\b\b\b\b\b\b\b\b\b\b\b\b\b\b\b\b\b\b\b\b\r45/45 [==============================] - 12s 263ms/step - loss: 0.6928 - accuracy: 0.4989 - val_loss: 0.6927 - val_accuracy: 0.5000\n",
            "Epoch 17/100\n",
            "45/45 [==============================] - ETA: 0s - loss: 0.6928 - accuracy: 0.4989"
          ]
        },
        {
          "output_type": "stream",
          "name": "stderr",
          "text": [
            "WARNING:tensorflow:Early stopping conditioned on metric `val_acc` which is not available. Available metrics are: loss,accuracy,val_loss,val_accuracy\n",
            "WARNING:tensorflow:Can save best model only with val_acc available, skipping.\n"
          ]
        },
        {
          "output_type": "stream",
          "name": "stdout",
          "text": [
            "\b\b\b\b\b\b\b\b\b\b\b\b\b\b\b\b\b\b\b\b\b\b\b\b\b\b\b\b\b\b\b\b\b\b\b\b\b\b\b\b\b\b\b\b\b\b\b\b\b\b\b\b\b\b\b\b\b\b\b\b\b\b\b\b\b\b\b\b\b\b\b\b\b\b\b\b\b\b\b\b\b\b\r45/45 [==============================] - 12s 271ms/step - loss: 0.6928 - accuracy: 0.4989 - val_loss: 0.6926 - val_accuracy: 0.5000\n",
            "Epoch 18/100\n",
            "45/45 [==============================] - ETA: 0s - loss: 0.6928 - accuracy: 0.4989"
          ]
        },
        {
          "output_type": "stream",
          "name": "stderr",
          "text": [
            "WARNING:tensorflow:Early stopping conditioned on metric `val_acc` which is not available. Available metrics are: loss,accuracy,val_loss,val_accuracy\n",
            "WARNING:tensorflow:Can save best model only with val_acc available, skipping.\n"
          ]
        },
        {
          "output_type": "stream",
          "name": "stdout",
          "text": [
            "\b\b\b\b\b\b\b\b\b\b\b\b\b\b\b\b\b\b\b\b\b\b\b\b\b\b\b\b\b\b\b\b\b\b\b\b\b\b\b\b\b\b\b\b\b\b\b\b\b\b\b\b\b\b\b\b\b\b\b\b\b\b\b\b\b\b\b\b\b\b\b\b\b\b\b\b\b\b\b\b\b\b\r45/45 [==============================] - 13s 278ms/step - loss: 0.6928 - accuracy: 0.4989 - val_loss: 0.6925 - val_accuracy: 0.5000\n",
            "Epoch 19/100\n",
            "45/45 [==============================] - ETA: 0s - loss: 0.6927 - accuracy: 0.4989"
          ]
        },
        {
          "output_type": "stream",
          "name": "stderr",
          "text": [
            "WARNING:tensorflow:Early stopping conditioned on metric `val_acc` which is not available. Available metrics are: loss,accuracy,val_loss,val_accuracy\n",
            "WARNING:tensorflow:Can save best model only with val_acc available, skipping.\n"
          ]
        },
        {
          "output_type": "stream",
          "name": "stdout",
          "text": [
            "\b\b\b\b\b\b\b\b\b\b\b\b\b\b\b\b\b\b\b\b\b\b\b\b\b\b\b\b\b\b\b\b\b\b\b\b\b\b\b\b\b\b\b\b\b\b\b\b\b\b\b\b\b\b\b\b\b\b\b\b\b\b\b\b\b\b\b\b\b\b\b\b\b\b\b\b\b\b\b\b\b\b\r45/45 [==============================] - 12s 276ms/step - loss: 0.6927 - accuracy: 0.4989 - val_loss: 0.6925 - val_accuracy: 0.5000\n",
            "Epoch 20/100\n",
            "45/45 [==============================] - ETA: 0s - loss: 0.6925 - accuracy: 0.4989"
          ]
        },
        {
          "output_type": "stream",
          "name": "stderr",
          "text": [
            "WARNING:tensorflow:Early stopping conditioned on metric `val_acc` which is not available. Available metrics are: loss,accuracy,val_loss,val_accuracy\n",
            "WARNING:tensorflow:Can save best model only with val_acc available, skipping.\n"
          ]
        },
        {
          "output_type": "stream",
          "name": "stdout",
          "text": [
            "\b\b\b\b\b\b\b\b\b\b\b\b\b\b\b\b\b\b\b\b\b\b\b\b\b\b\b\b\b\b\b\b\b\b\b\b\b\b\b\b\b\b\b\b\b\b\b\b\b\b\b\b\b\b\b\b\b\b\b\b\b\b\b\b\b\b\b\b\b\b\b\b\b\b\b\b\b\b\b\b\b\b\r45/45 [==============================] - 12s 272ms/step - loss: 0.6925 - accuracy: 0.4989 - val_loss: 0.6923 - val_accuracy: 0.5000\n",
            "Epoch 21/100\n",
            "45/45 [==============================] - ETA: 0s - loss: 0.6926 - accuracy: 0.4989"
          ]
        },
        {
          "output_type": "stream",
          "name": "stderr",
          "text": [
            "WARNING:tensorflow:Early stopping conditioned on metric `val_acc` which is not available. Available metrics are: loss,accuracy,val_loss,val_accuracy\n",
            "WARNING:tensorflow:Can save best model only with val_acc available, skipping.\n"
          ]
        },
        {
          "output_type": "stream",
          "name": "stdout",
          "text": [
            "\b\b\b\b\b\b\b\b\b\b\b\b\b\b\b\b\b\b\b\b\b\b\b\b\b\b\b\b\b\b\b\b\b\b\b\b\b\b\b\b\b\b\b\b\b\b\b\b\b\b\b\b\b\b\b\b\b\b\b\b\b\b\b\b\b\b\b\b\b\b\b\b\b\b\b\b\b\b\b\b\b\b\r45/45 [==============================] - 12s 260ms/step - loss: 0.6926 - accuracy: 0.4989 - val_loss: 0.6923 - val_accuracy: 0.5000\n",
            "Epoch 22/100\n",
            "45/45 [==============================] - ETA: 0s - loss: 0.6925 - accuracy: 0.4989"
          ]
        },
        {
          "output_type": "stream",
          "name": "stderr",
          "text": [
            "WARNING:tensorflow:Early stopping conditioned on metric `val_acc` which is not available. Available metrics are: loss,accuracy,val_loss,val_accuracy\n",
            "WARNING:tensorflow:Can save best model only with val_acc available, skipping.\n"
          ]
        },
        {
          "output_type": "stream",
          "name": "stdout",
          "text": [
            "\b\b\b\b\b\b\b\b\b\b\b\b\b\b\b\b\b\b\b\b\b\b\b\b\b\b\b\b\b\b\b\b\b\b\b\b\b\b\b\b\b\b\b\b\b\b\b\b\b\b\b\b\b\b\b\b\b\b\b\b\b\b\b\b\b\b\b\b\b\b\b\b\b\b\b\b\b\b\b\b\b\b\r45/45 [==============================] - 12s 266ms/step - loss: 0.6925 - accuracy: 0.4989 - val_loss: 0.6922 - val_accuracy: 0.5000\n",
            "Epoch 23/100\n",
            "45/45 [==============================] - ETA: 0s - loss: 0.6925 - accuracy: 0.4989"
          ]
        },
        {
          "output_type": "stream",
          "name": "stderr",
          "text": [
            "WARNING:tensorflow:Early stopping conditioned on metric `val_acc` which is not available. Available metrics are: loss,accuracy,val_loss,val_accuracy\n",
            "WARNING:tensorflow:Can save best model only with val_acc available, skipping.\n"
          ]
        },
        {
          "output_type": "stream",
          "name": "stdout",
          "text": [
            "\b\b\b\b\b\b\b\b\b\b\b\b\b\b\b\b\b\b\b\b\b\b\b\b\b\b\b\b\b\b\b\b\b\b\b\b\b\b\b\b\b\b\b\b\b\b\b\b\b\b\b\b\b\b\b\b\b\b\b\b\b\b\b\b\b\b\b\b\b\b\b\b\b\b\b\b\b\b\b\b\b\b\r45/45 [==============================] - 12s 275ms/step - loss: 0.6925 - accuracy: 0.4989 - val_loss: 0.6919 - val_accuracy: 0.5000\n",
            "Epoch 24/100\n",
            "45/45 [==============================] - ETA: 0s - loss: 0.6923 - accuracy: 0.4989"
          ]
        },
        {
          "output_type": "stream",
          "name": "stderr",
          "text": [
            "WARNING:tensorflow:Early stopping conditioned on metric `val_acc` which is not available. Available metrics are: loss,accuracy,val_loss,val_accuracy\n",
            "WARNING:tensorflow:Can save best model only with val_acc available, skipping.\n"
          ]
        },
        {
          "output_type": "stream",
          "name": "stdout",
          "text": [
            "\b\b\b\b\b\b\b\b\b\b\b\b\b\b\b\b\b\b\b\b\b\b\b\b\b\b\b\b\b\b\b\b\b\b\b\b\b\b\b\b\b\b\b\b\b\b\b\b\b\b\b\b\b\b\b\b\b\b\b\b\b\b\b\b\b\b\b\b\b\b\b\b\b\b\b\b\b\b\b\b\b\b\r45/45 [==============================] - 12s 273ms/step - loss: 0.6923 - accuracy: 0.4989 - val_loss: 0.6919 - val_accuracy: 0.5000\n",
            "Epoch 25/100\n",
            "45/45 [==============================] - ETA: 0s - loss: 0.6923 - accuracy: 0.4989"
          ]
        },
        {
          "output_type": "stream",
          "name": "stderr",
          "text": [
            "WARNING:tensorflow:Early stopping conditioned on metric `val_acc` which is not available. Available metrics are: loss,accuracy,val_loss,val_accuracy\n",
            "WARNING:tensorflow:Can save best model only with val_acc available, skipping.\n"
          ]
        },
        {
          "output_type": "stream",
          "name": "stdout",
          "text": [
            "\b\b\b\b\b\b\b\b\b\b\b\b\b\b\b\b\b\b\b\b\b\b\b\b\b\b\b\b\b\b\b\b\b\b\b\b\b\b\b\b\b\b\b\b\b\b\b\b\b\b\b\b\b\b\b\b\b\b\b\b\b\b\b\b\b\b\b\b\b\b\b\b\b\b\b\b\b\b\b\b\b\b\r45/45 [==============================] - 12s 272ms/step - loss: 0.6923 - accuracy: 0.4989 - val_loss: 0.6916 - val_accuracy: 0.5000\n",
            "Epoch 26/100\n",
            "45/45 [==============================] - ETA: 0s - loss: 0.6922 - accuracy: 0.4989"
          ]
        },
        {
          "output_type": "stream",
          "name": "stderr",
          "text": [
            "WARNING:tensorflow:Early stopping conditioned on metric `val_acc` which is not available. Available metrics are: loss,accuracy,val_loss,val_accuracy\n",
            "WARNING:tensorflow:Can save best model only with val_acc available, skipping.\n"
          ]
        },
        {
          "output_type": "stream",
          "name": "stdout",
          "text": [
            "\b\b\b\b\b\b\b\b\b\b\b\b\b\b\b\b\b\b\b\b\b\b\b\b\b\b\b\b\b\b\b\b\b\b\b\b\b\b\b\b\b\b\b\b\b\b\b\b\b\b\b\b\b\b\b\b\b\b\b\b\b\b\b\b\b\b\b\b\b\b\b\b\b\b\b\b\b\b\b\b\b\b\r45/45 [==============================] - 12s 272ms/step - loss: 0.6922 - accuracy: 0.4989 - val_loss: 0.6914 - val_accuracy: 0.5000\n",
            "Epoch 27/100\n",
            "45/45 [==============================] - ETA: 0s - loss: 0.6920 - accuracy: 0.4989"
          ]
        },
        {
          "output_type": "stream",
          "name": "stderr",
          "text": [
            "WARNING:tensorflow:Early stopping conditioned on metric `val_acc` which is not available. Available metrics are: loss,accuracy,val_loss,val_accuracy\n",
            "WARNING:tensorflow:Can save best model only with val_acc available, skipping.\n"
          ]
        },
        {
          "output_type": "stream",
          "name": "stdout",
          "text": [
            "\b\b\b\b\b\b\b\b\b\b\b\b\b\b\b\b\b\b\b\b\b\b\b\b\b\b\b\b\b\b\b\b\b\b\b\b\b\b\b\b\b\b\b\b\b\b\b\b\b\b\b\b\b\b\b\b\b\b\b\b\b\b\b\b\b\b\b\b\b\b\b\b\b\b\b\b\b\b\b\b\b\b\r45/45 [==============================] - 15s 329ms/step - loss: 0.6920 - accuracy: 0.4989 - val_loss: 0.6913 - val_accuracy: 0.5000\n",
            "Epoch 28/100\n",
            "45/45 [==============================] - ETA: 0s - loss: 0.6919 - accuracy: 0.4989"
          ]
        },
        {
          "output_type": "stream",
          "name": "stderr",
          "text": [
            "WARNING:tensorflow:Early stopping conditioned on metric `val_acc` which is not available. Available metrics are: loss,accuracy,val_loss,val_accuracy\n",
            "WARNING:tensorflow:Can save best model only with val_acc available, skipping.\n"
          ]
        },
        {
          "output_type": "stream",
          "name": "stdout",
          "text": [
            "\b\b\b\b\b\b\b\b\b\b\b\b\b\b\b\b\b\b\b\b\b\b\b\b\b\b\b\b\b\b\b\b\b\b\b\b\b\b\b\b\b\b\b\b\b\b\b\b\b\b\b\b\b\b\b\b\b\b\b\b\b\b\b\b\b\b\b\b\b\b\b\b\b\b\b\b\b\b\b\b\b\b\r45/45 [==============================] - 12s 275ms/step - loss: 0.6919 - accuracy: 0.4989 - val_loss: 0.6911 - val_accuracy: 0.5000\n",
            "Epoch 29/100\n",
            "45/45 [==============================] - ETA: 0s - loss: 0.6917 - accuracy: 0.4989"
          ]
        },
        {
          "output_type": "stream",
          "name": "stderr",
          "text": [
            "WARNING:tensorflow:Early stopping conditioned on metric `val_acc` which is not available. Available metrics are: loss,accuracy,val_loss,val_accuracy\n",
            "WARNING:tensorflow:Can save best model only with val_acc available, skipping.\n"
          ]
        },
        {
          "output_type": "stream",
          "name": "stdout",
          "text": [
            "\b\b\b\b\b\b\b\b\b\b\b\b\b\b\b\b\b\b\b\b\b\b\b\b\b\b\b\b\b\b\b\b\b\b\b\b\b\b\b\b\b\b\b\b\b\b\b\b\b\b\b\b\b\b\b\b\b\b\b\b\b\b\b\b\b\b\b\b\b\b\b\b\b\b\b\b\b\b\b\b\b\b\r45/45 [==============================] - 12s 273ms/step - loss: 0.6917 - accuracy: 0.4989 - val_loss: 0.6908 - val_accuracy: 0.5000\n",
            "Epoch 30/100\n",
            "45/45 [==============================] - ETA: 0s - loss: 0.6915 - accuracy: 0.4989"
          ]
        },
        {
          "output_type": "stream",
          "name": "stderr",
          "text": [
            "WARNING:tensorflow:Early stopping conditioned on metric `val_acc` which is not available. Available metrics are: loss,accuracy,val_loss,val_accuracy\n",
            "WARNING:tensorflow:Can save best model only with val_acc available, skipping.\n"
          ]
        },
        {
          "output_type": "stream",
          "name": "stdout",
          "text": [
            "\b\b\b\b\b\b\b\b\b\b\b\b\b\b\b\b\b\b\b\b\b\b\b\b\b\b\b\b\b\b\b\b\b\b\b\b\b\b\b\b\b\b\b\b\b\b\b\b\b\b\b\b\b\b\b\b\b\b\b\b\b\b\b\b\b\b\b\b\b\b\b\b\b\b\b\b\b\b\b\b\b\b\r45/45 [==============================] - 12s 276ms/step - loss: 0.6915 - accuracy: 0.4989 - val_loss: 0.6906 - val_accuracy: 0.5000\n",
            "Epoch 31/100\n",
            "45/45 [==============================] - ETA: 0s - loss: 0.6912 - accuracy: 0.4989"
          ]
        },
        {
          "output_type": "stream",
          "name": "stderr",
          "text": [
            "WARNING:tensorflow:Early stopping conditioned on metric `val_acc` which is not available. Available metrics are: loss,accuracy,val_loss,val_accuracy\n",
            "WARNING:tensorflow:Can save best model only with val_acc available, skipping.\n"
          ]
        },
        {
          "output_type": "stream",
          "name": "stdout",
          "text": [
            "\b\b\b\b\b\b\b\b\b\b\b\b\b\b\b\b\b\b\b\b\b\b\b\b\b\b\b\b\b\b\b\b\b\b\b\b\b\b\b\b\b\b\b\b\b\b\b\b\b\b\b\b\b\b\b\b\b\b\b\b\b\b\b\b\b\b\b\b\b\b\b\b\b\b\b\b\b\b\b\b\b\b\r45/45 [==============================] - 15s 327ms/step - loss: 0.6912 - accuracy: 0.4989 - val_loss: 0.6903 - val_accuracy: 0.5000\n",
            "Epoch 32/100\n",
            "45/45 [==============================] - ETA: 0s - loss: 0.6910 - accuracy: 0.5011"
          ]
        },
        {
          "output_type": "stream",
          "name": "stderr",
          "text": [
            "WARNING:tensorflow:Early stopping conditioned on metric `val_acc` which is not available. Available metrics are: loss,accuracy,val_loss,val_accuracy\n",
            "WARNING:tensorflow:Can save best model only with val_acc available, skipping.\n"
          ]
        },
        {
          "output_type": "stream",
          "name": "stdout",
          "text": [
            "\b\b\b\b\b\b\b\b\b\b\b\b\b\b\b\b\b\b\b\b\b\b\b\b\b\b\b\b\b\b\b\b\b\b\b\b\b\b\b\b\b\b\b\b\b\b\b\b\b\b\b\b\b\b\b\b\b\b\b\b\b\b\b\b\b\b\b\b\b\b\b\b\b\b\b\b\b\b\b\b\b\b\r45/45 [==============================] - 12s 271ms/step - loss: 0.6910 - accuracy: 0.5011 - val_loss: 0.6899 - val_accuracy: 0.5000\n",
            "Epoch 33/100\n",
            "45/45 [==============================] - ETA: 0s - loss: 0.6909 - accuracy: 0.4989"
          ]
        },
        {
          "output_type": "stream",
          "name": "stderr",
          "text": [
            "WARNING:tensorflow:Early stopping conditioned on metric `val_acc` which is not available. Available metrics are: loss,accuracy,val_loss,val_accuracy\n",
            "WARNING:tensorflow:Can save best model only with val_acc available, skipping.\n"
          ]
        },
        {
          "output_type": "stream",
          "name": "stdout",
          "text": [
            "\b\b\b\b\b\b\b\b\b\b\b\b\b\b\b\b\b\b\b\b\b\b\b\b\b\b\b\b\b\b\b\b\b\b\b\b\b\b\b\b\b\b\b\b\b\b\b\b\b\b\b\b\b\b\b\b\b\b\b\b\b\b\b\b\b\b\b\b\b\b\b\b\b\b\b\b\b\b\b\b\b\b\r45/45 [==============================] - 12s 275ms/step - loss: 0.6909 - accuracy: 0.4989 - val_loss: 0.6899 - val_accuracy: 0.5000\n",
            "Epoch 34/100\n",
            "45/45 [==============================] - ETA: 0s - loss: 0.6907 - accuracy: 0.4989"
          ]
        },
        {
          "output_type": "stream",
          "name": "stderr",
          "text": [
            "WARNING:tensorflow:Early stopping conditioned on metric `val_acc` which is not available. Available metrics are: loss,accuracy,val_loss,val_accuracy\n",
            "WARNING:tensorflow:Can save best model only with val_acc available, skipping.\n"
          ]
        },
        {
          "output_type": "stream",
          "name": "stdout",
          "text": [
            "\b\b\b\b\b\b\b\b\b\b\b\b\b\b\b\b\b\b\b\b\b\b\b\b\b\b\b\b\b\b\b\b\b\b\b\b\b\b\b\b\b\b\b\b\b\b\b\b\b\b\b\b\b\b\b\b\b\b\b\b\b\b\b\b\b\b\b\b\b\b\b\b\b\b\b\b\b\b\b\b\b\b\r45/45 [==============================] - 12s 273ms/step - loss: 0.6907 - accuracy: 0.4989 - val_loss: 0.6891 - val_accuracy: 0.5273\n",
            "Epoch 35/100\n",
            "45/45 [==============================] - ETA: 0s - loss: 0.6902 - accuracy: 0.5123"
          ]
        },
        {
          "output_type": "stream",
          "name": "stderr",
          "text": [
            "WARNING:tensorflow:Early stopping conditioned on metric `val_acc` which is not available. Available metrics are: loss,accuracy,val_loss,val_accuracy\n",
            "WARNING:tensorflow:Can save best model only with val_acc available, skipping.\n"
          ]
        },
        {
          "output_type": "stream",
          "name": "stdout",
          "text": [
            "\b\b\b\b\b\b\b\b\b\b\b\b\b\b\b\b\b\b\b\b\b\b\b\b\b\b\b\b\b\b\b\b\b\b\b\b\b\b\b\b\b\b\b\b\b\b\b\b\b\b\b\b\b\b\b\b\b\b\b\b\b\b\b\b\b\b\b\b\b\b\b\b\b\b\b\b\b\b\b\b\b\b\r45/45 [==============================] - 15s 328ms/step - loss: 0.6902 - accuracy: 0.5123 - val_loss: 0.6886 - val_accuracy: 0.5182\n",
            "Epoch 36/100\n",
            "45/45 [==============================] - ETA: 0s - loss: 0.6902 - accuracy: 0.4922"
          ]
        },
        {
          "output_type": "stream",
          "name": "stderr",
          "text": [
            "WARNING:tensorflow:Early stopping conditioned on metric `val_acc` which is not available. Available metrics are: loss,accuracy,val_loss,val_accuracy\n",
            "WARNING:tensorflow:Can save best model only with val_acc available, skipping.\n"
          ]
        },
        {
          "output_type": "stream",
          "name": "stdout",
          "text": [
            "\b\b\b\b\b\b\b\b\b\b\b\b\b\b\b\b\b\b\b\b\b\b\b\b\b\b\b\b\b\b\b\b\b\b\b\b\b\b\b\b\b\b\b\b\b\b\b\b\b\b\b\b\b\b\b\b\b\b\b\b\b\b\b\b\b\b\b\b\b\b\b\b\b\b\b\b\b\b\b\b\b\b\r45/45 [==============================] - 12s 273ms/step - loss: 0.6902 - accuracy: 0.4922 - val_loss: 0.6886 - val_accuracy: 0.5545\n",
            "Epoch 37/100\n",
            "45/45 [==============================] - ETA: 0s - loss: 0.6895 - accuracy: 0.5034"
          ]
        },
        {
          "output_type": "stream",
          "name": "stderr",
          "text": [
            "WARNING:tensorflow:Early stopping conditioned on metric `val_acc` which is not available. Available metrics are: loss,accuracy,val_loss,val_accuracy\n",
            "WARNING:tensorflow:Can save best model only with val_acc available, skipping.\n"
          ]
        },
        {
          "output_type": "stream",
          "name": "stdout",
          "text": [
            "\b\b\b\b\b\b\b\b\b\b\b\b\b\b\b\b\b\b\b\b\b\b\b\b\b\b\b\b\b\b\b\b\b\b\b\b\b\b\b\b\b\b\b\b\b\b\b\b\b\b\b\b\b\b\b\b\b\b\b\b\b\b\b\b\b\b\b\b\b\b\b\b\b\b\b\b\b\b\b\b\b\b\r45/45 [==============================] - 12s 271ms/step - loss: 0.6895 - accuracy: 0.5034 - val_loss: 0.6880 - val_accuracy: 0.5364\n",
            "Epoch 38/100\n",
            "45/45 [==============================] - ETA: 0s - loss: 0.6894 - accuracy: 0.5257"
          ]
        },
        {
          "output_type": "stream",
          "name": "stderr",
          "text": [
            "WARNING:tensorflow:Early stopping conditioned on metric `val_acc` which is not available. Available metrics are: loss,accuracy,val_loss,val_accuracy\n",
            "WARNING:tensorflow:Can save best model only with val_acc available, skipping.\n"
          ]
        },
        {
          "output_type": "stream",
          "name": "stdout",
          "text": [
            "\b\b\b\b\b\b\b\b\b\b\b\b\b\b\b\b\b\b\b\b\b\b\b\b\b\b\b\b\b\b\b\b\b\b\b\b\b\b\b\b\b\b\b\b\b\b\b\b\b\b\b\b\b\b\b\b\b\b\b\b\b\b\b\b\b\b\b\b\b\b\b\b\b\b\b\b\b\b\b\b\b\b\r45/45 [==============================] - 12s 268ms/step - loss: 0.6894 - accuracy: 0.5257 - val_loss: 0.6869 - val_accuracy: 0.5545\n",
            "Epoch 39/100\n",
            "45/45 [==============================] - ETA: 0s - loss: 0.6892 - accuracy: 0.5168"
          ]
        },
        {
          "output_type": "stream",
          "name": "stderr",
          "text": [
            "WARNING:tensorflow:Early stopping conditioned on metric `val_acc` which is not available. Available metrics are: loss,accuracy,val_loss,val_accuracy\n",
            "WARNING:tensorflow:Can save best model only with val_acc available, skipping.\n"
          ]
        },
        {
          "output_type": "stream",
          "name": "stdout",
          "text": [
            "\b\b\b\b\b\b\b\b\b\b\b\b\b\b\b\b\b\b\b\b\b\b\b\b\b\b\b\b\b\b\b\b\b\b\b\b\b\b\b\b\b\b\b\b\b\b\b\b\b\b\b\b\b\b\b\b\b\b\b\b\b\b\b\b\b\b\b\b\b\b\b\b\b\b\b\b\b\b\b\b\b\b\r45/45 [==============================] - 12s 272ms/step - loss: 0.6892 - accuracy: 0.5168 - val_loss: 0.6872 - val_accuracy: 0.5455\n",
            "Epoch 40/100\n",
            "45/45 [==============================] - ETA: 0s - loss: 0.6886 - accuracy: 0.5302"
          ]
        },
        {
          "output_type": "stream",
          "name": "stderr",
          "text": [
            "WARNING:tensorflow:Early stopping conditioned on metric `val_acc` which is not available. Available metrics are: loss,accuracy,val_loss,val_accuracy\n",
            "WARNING:tensorflow:Can save best model only with val_acc available, skipping.\n"
          ]
        },
        {
          "output_type": "stream",
          "name": "stdout",
          "text": [
            "\b\b\b\b\b\b\b\b\b\b\b\b\b\b\b\b\b\b\b\b\b\b\b\b\b\b\b\b\b\b\b\b\b\b\b\b\b\b\b\b\b\b\b\b\b\b\b\b\b\b\b\b\b\b\b\b\b\b\b\b\b\b\b\b\b\b\b\b\b\b\b\b\b\b\b\b\b\b\b\b\b\b\r45/45 [==============================] - 12s 272ms/step - loss: 0.6886 - accuracy: 0.5302 - val_loss: 0.6865 - val_accuracy: 0.5455\n",
            "Epoch 41/100\n",
            "45/45 [==============================] - ETA: 0s - loss: 0.6882 - accuracy: 0.5101"
          ]
        },
        {
          "output_type": "stream",
          "name": "stderr",
          "text": [
            "WARNING:tensorflow:Early stopping conditioned on metric `val_acc` which is not available. Available metrics are: loss,accuracy,val_loss,val_accuracy\n",
            "WARNING:tensorflow:Can save best model only with val_acc available, skipping.\n"
          ]
        },
        {
          "output_type": "stream",
          "name": "stdout",
          "text": [
            "\b\b\b\b\b\b\b\b\b\b\b\b\b\b\b\b\b\b\b\b\b\b\b\b\b\b\b\b\b\b\b\b\b\b\b\b\b\b\b\b\b\b\b\b\b\b\b\b\b\b\b\b\b\b\b\b\b\b\b\b\b\b\b\b\b\b\b\b\b\b\b\b\b\b\b\b\b\b\b\b\b\b\r45/45 [==============================] - 12s 273ms/step - loss: 0.6882 - accuracy: 0.5101 - val_loss: 0.6854 - val_accuracy: 0.5455\n",
            "Epoch 42/100\n",
            "45/45 [==============================] - ETA: 0s - loss: 0.6873 - accuracy: 0.5548"
          ]
        },
        {
          "output_type": "stream",
          "name": "stderr",
          "text": [
            "WARNING:tensorflow:Early stopping conditioned on metric `val_acc` which is not available. Available metrics are: loss,accuracy,val_loss,val_accuracy\n",
            "WARNING:tensorflow:Can save best model only with val_acc available, skipping.\n"
          ]
        },
        {
          "output_type": "stream",
          "name": "stdout",
          "text": [
            "\b\b\b\b\b\b\b\b\b\b\b\b\b\b\b\b\b\b\b\b\b\b\b\b\b\b\b\b\b\b\b\b\b\b\b\b\b\b\b\b\b\b\b\b\b\b\b\b\b\b\b\b\b\b\b\b\b\b\b\b\b\b\b\b\b\b\b\b\b\b\b\b\b\b\b\b\b\b\b\b\b\b\r45/45 [==============================] - 12s 269ms/step - loss: 0.6873 - accuracy: 0.5548 - val_loss: 0.6853 - val_accuracy: 0.5636\n",
            "Epoch 43/100\n",
            "45/45 [==============================] - ETA: 0s - loss: 0.6872 - accuracy: 0.5391"
          ]
        },
        {
          "output_type": "stream",
          "name": "stderr",
          "text": [
            "WARNING:tensorflow:Early stopping conditioned on metric `val_acc` which is not available. Available metrics are: loss,accuracy,val_loss,val_accuracy\n",
            "WARNING:tensorflow:Can save best model only with val_acc available, skipping.\n"
          ]
        },
        {
          "output_type": "stream",
          "name": "stdout",
          "text": [
            "\b\b\b\b\b\b\b\b\b\b\b\b\b\b\b\b\b\b\b\b\b\b\b\b\b\b\b\b\b\b\b\b\b\b\b\b\b\b\b\b\b\b\b\b\b\b\b\b\b\b\b\b\b\b\b\b\b\b\b\b\b\b\b\b\b\b\b\b\b\b\b\b\b\b\b\b\b\b\b\b\b\b\r45/45 [==============================] - 12s 273ms/step - loss: 0.6872 - accuracy: 0.5391 - val_loss: 0.6845 - val_accuracy: 0.5545\n",
            "Epoch 44/100\n",
            "45/45 [==============================] - ETA: 0s - loss: 0.6871 - accuracy: 0.5257"
          ]
        },
        {
          "output_type": "stream",
          "name": "stderr",
          "text": [
            "WARNING:tensorflow:Early stopping conditioned on metric `val_acc` which is not available. Available metrics are: loss,accuracy,val_loss,val_accuracy\n",
            "WARNING:tensorflow:Can save best model only with val_acc available, skipping.\n"
          ]
        },
        {
          "output_type": "stream",
          "name": "stdout",
          "text": [
            "\b\b\b\b\b\b\b\b\b\b\b\b\b\b\b\b\b\b\b\b\b\b\b\b\b\b\b\b\b\b\b\b\b\b\b\b\b\b\b\b\b\b\b\b\b\b\b\b\b\b\b\b\b\b\b\b\b\b\b\b\b\b\b\b\b\b\b\b\b\b\b\b\b\b\b\b\b\b\b\b\b\b\r45/45 [==============================] - 12s 271ms/step - loss: 0.6871 - accuracy: 0.5257 - val_loss: 0.6835 - val_accuracy: 0.5818\n",
            "Epoch 45/100\n",
            "45/45 [==============================] - ETA: 0s - loss: 0.6862 - accuracy: 0.5391"
          ]
        },
        {
          "output_type": "stream",
          "name": "stderr",
          "text": [
            "WARNING:tensorflow:Early stopping conditioned on metric `val_acc` which is not available. Available metrics are: loss,accuracy,val_loss,val_accuracy\n",
            "WARNING:tensorflow:Can save best model only with val_acc available, skipping.\n"
          ]
        },
        {
          "output_type": "stream",
          "name": "stdout",
          "text": [
            "\b\b\b\b\b\b\b\b\b\b\b\b\b\b\b\b\b\b\b\b\b\b\b\b\b\b\b\b\b\b\b\b\b\b\b\b\b\b\b\b\b\b\b\b\b\b\b\b\b\b\b\b\b\b\b\b\b\b\b\b\b\b\b\b\b\b\b\b\b\b\b\b\b\b\b\b\b\b\b\b\b\b\r45/45 [==============================] - 12s 269ms/step - loss: 0.6862 - accuracy: 0.5391 - val_loss: 0.6831 - val_accuracy: 0.5727\n",
            "Epoch 46/100\n",
            "45/45 [==============================] - ETA: 0s - loss: 0.6858 - accuracy: 0.5727"
          ]
        },
        {
          "output_type": "stream",
          "name": "stderr",
          "text": [
            "WARNING:tensorflow:Early stopping conditioned on metric `val_acc` which is not available. Available metrics are: loss,accuracy,val_loss,val_accuracy\n",
            "WARNING:tensorflow:Can save best model only with val_acc available, skipping.\n"
          ]
        },
        {
          "output_type": "stream",
          "name": "stdout",
          "text": [
            "\b\b\b\b\b\b\b\b\b\b\b\b\b\b\b\b\b\b\b\b\b\b\b\b\b\b\b\b\b\b\b\b\b\b\b\b\b\b\b\b\b\b\b\b\b\b\b\b\b\b\b\b\b\b\b\b\b\b\b\b\b\b\b\b\b\b\b\b\b\b\b\b\b\b\b\b\b\b\b\b\b\b\r45/45 [==============================] - 12s 275ms/step - loss: 0.6858 - accuracy: 0.5727 - val_loss: 0.6825 - val_accuracy: 0.5636\n",
            "Epoch 47/100\n",
            "45/45 [==============================] - ETA: 0s - loss: 0.6858 - accuracy: 0.5593"
          ]
        },
        {
          "output_type": "stream",
          "name": "stderr",
          "text": [
            "WARNING:tensorflow:Early stopping conditioned on metric `val_acc` which is not available. Available metrics are: loss,accuracy,val_loss,val_accuracy\n",
            "WARNING:tensorflow:Can save best model only with val_acc available, skipping.\n"
          ]
        },
        {
          "output_type": "stream",
          "name": "stdout",
          "text": [
            "\b\b\b\b\b\b\b\b\b\b\b\b\b\b\b\b\b\b\b\b\b\b\b\b\b\b\b\b\b\b\b\b\b\b\b\b\b\b\b\b\b\b\b\b\b\b\b\b\b\b\b\b\b\b\b\b\b\b\b\b\b\b\b\b\b\b\b\b\b\b\b\b\b\b\b\b\b\b\b\b\b\b\r45/45 [==============================] - 15s 327ms/step - loss: 0.6858 - accuracy: 0.5593 - val_loss: 0.6813 - val_accuracy: 0.5909\n",
            "Epoch 48/100\n",
            "45/45 [==============================] - ETA: 0s - loss: 0.6850 - accuracy: 0.5459"
          ]
        },
        {
          "output_type": "stream",
          "name": "stderr",
          "text": [
            "WARNING:tensorflow:Early stopping conditioned on metric `val_acc` which is not available. Available metrics are: loss,accuracy,val_loss,val_accuracy\n",
            "WARNING:tensorflow:Can save best model only with val_acc available, skipping.\n"
          ]
        },
        {
          "output_type": "stream",
          "name": "stdout",
          "text": [
            "\b\b\b\b\b\b\b\b\b\b\b\b\b\b\b\b\b\b\b\b\b\b\b\b\b\b\b\b\b\b\b\b\b\b\b\b\b\b\b\b\b\b\b\b\b\b\b\b\b\b\b\b\b\b\b\b\b\b\b\b\b\b\b\b\b\b\b\b\b\b\b\b\b\b\b\b\b\b\b\b\b\b\r45/45 [==============================] - 12s 269ms/step - loss: 0.6850 - accuracy: 0.5459 - val_loss: 0.6802 - val_accuracy: 0.6091\n",
            "Epoch 49/100\n",
            "45/45 [==============================] - ETA: 0s - loss: 0.6842 - accuracy: 0.5638"
          ]
        },
        {
          "output_type": "stream",
          "name": "stderr",
          "text": [
            "WARNING:tensorflow:Early stopping conditioned on metric `val_acc` which is not available. Available metrics are: loss,accuracy,val_loss,val_accuracy\n",
            "WARNING:tensorflow:Can save best model only with val_acc available, skipping.\n"
          ]
        },
        {
          "output_type": "stream",
          "name": "stdout",
          "text": [
            "\b\b\b\b\b\b\b\b\b\b\b\b\b\b\b\b\b\b\b\b\b\b\b\b\b\b\b\b\b\b\b\b\b\b\b\b\b\b\b\b\b\b\b\b\b\b\b\b\b\b\b\b\b\b\b\b\b\b\b\b\b\b\b\b\b\b\b\b\b\b\b\b\b\b\b\b\b\b\b\b\b\b\r45/45 [==============================] - 12s 271ms/step - loss: 0.6842 - accuracy: 0.5638 - val_loss: 0.6798 - val_accuracy: 0.5727\n",
            "Epoch 50/100\n",
            "45/45 [==============================] - ETA: 0s - loss: 0.6846 - accuracy: 0.5839"
          ]
        },
        {
          "output_type": "stream",
          "name": "stderr",
          "text": [
            "WARNING:tensorflow:Early stopping conditioned on metric `val_acc` which is not available. Available metrics are: loss,accuracy,val_loss,val_accuracy\n",
            "WARNING:tensorflow:Can save best model only with val_acc available, skipping.\n"
          ]
        },
        {
          "output_type": "stream",
          "name": "stdout",
          "text": [
            "\b\b\b\b\b\b\b\b\b\b\b\b\b\b\b\b\b\b\b\b\b\b\b\b\b\b\b\b\b\b\b\b\b\b\b\b\b\b\b\b\b\b\b\b\b\b\b\b\b\b\b\b\b\b\b\b\b\b\b\b\b\b\b\b\b\b\b\b\b\b\b\b\b\b\b\b\b\b\b\b\b\b\r45/45 [==============================] - 12s 272ms/step - loss: 0.6846 - accuracy: 0.5839 - val_loss: 0.6812 - val_accuracy: 0.5636\n",
            "Epoch 51/100\n",
            "45/45 [==============================] - ETA: 0s - loss: 0.6832 - accuracy: 0.5682"
          ]
        },
        {
          "output_type": "stream",
          "name": "stderr",
          "text": [
            "WARNING:tensorflow:Early stopping conditioned on metric `val_acc` which is not available. Available metrics are: loss,accuracy,val_loss,val_accuracy\n",
            "WARNING:tensorflow:Can save best model only with val_acc available, skipping.\n"
          ]
        },
        {
          "output_type": "stream",
          "name": "stdout",
          "text": [
            "\b\b\b\b\b\b\b\b\b\b\b\b\b\b\b\b\b\b\b\b\b\b\b\b\b\b\b\b\b\b\b\b\b\b\b\b\b\b\b\b\b\b\b\b\b\b\b\b\b\b\b\b\b\b\b\b\b\b\b\b\b\b\b\b\b\b\b\b\b\b\b\b\b\b\b\b\b\b\b\b\b\b\r45/45 [==============================] - 12s 270ms/step - loss: 0.6832 - accuracy: 0.5682 - val_loss: 0.6789 - val_accuracy: 0.5727\n",
            "Epoch 52/100\n",
            "45/45 [==============================] - ETA: 0s - loss: 0.6828 - accuracy: 0.5615"
          ]
        },
        {
          "output_type": "stream",
          "name": "stderr",
          "text": [
            "WARNING:tensorflow:Early stopping conditioned on metric `val_acc` which is not available. Available metrics are: loss,accuracy,val_loss,val_accuracy\n",
            "WARNING:tensorflow:Can save best model only with val_acc available, skipping.\n"
          ]
        },
        {
          "output_type": "stream",
          "name": "stdout",
          "text": [
            "\b\b\b\b\b\b\b\b\b\b\b\b\b\b\b\b\b\b\b\b\b\b\b\b\b\b\b\b\b\b\b\b\b\b\b\b\b\b\b\b\b\b\b\b\b\b\b\b\b\b\b\b\b\b\b\b\b\b\b\b\b\b\b\b\b\b\b\b\b\b\b\b\b\b\b\b\b\b\b\b\b\b\r45/45 [==============================] - 12s 271ms/step - loss: 0.6828 - accuracy: 0.5615 - val_loss: 0.6787 - val_accuracy: 0.6000\n",
            "Epoch 53/100\n",
            "45/45 [==============================] - ETA: 0s - loss: 0.6824 - accuracy: 0.5593"
          ]
        },
        {
          "output_type": "stream",
          "name": "stderr",
          "text": [
            "WARNING:tensorflow:Early stopping conditioned on metric `val_acc` which is not available. Available metrics are: loss,accuracy,val_loss,val_accuracy\n",
            "WARNING:tensorflow:Can save best model only with val_acc available, skipping.\n"
          ]
        },
        {
          "output_type": "stream",
          "name": "stdout",
          "text": [
            "\b\b\b\b\b\b\b\b\b\b\b\b\b\b\b\b\b\b\b\b\b\b\b\b\b\b\b\b\b\b\b\b\b\b\b\b\b\b\b\b\b\b\b\b\b\b\b\b\b\b\b\b\b\b\b\b\b\b\b\b\b\b\b\b\b\b\b\b\b\b\b\b\b\b\b\b\b\b\b\b\b\b\r45/45 [==============================] - 12s 272ms/step - loss: 0.6824 - accuracy: 0.5593 - val_loss: 0.6774 - val_accuracy: 0.6091\n",
            "Epoch 54/100\n",
            "45/45 [==============================] - ETA: 0s - loss: 0.6815 - accuracy: 0.5861"
          ]
        },
        {
          "output_type": "stream",
          "name": "stderr",
          "text": [
            "WARNING:tensorflow:Early stopping conditioned on metric `val_acc` which is not available. Available metrics are: loss,accuracy,val_loss,val_accuracy\n",
            "WARNING:tensorflow:Can save best model only with val_acc available, skipping.\n"
          ]
        },
        {
          "output_type": "stream",
          "name": "stdout",
          "text": [
            "\b\b\b\b\b\b\b\b\b\b\b\b\b\b\b\b\b\b\b\b\b\b\b\b\b\b\b\b\b\b\b\b\b\b\b\b\b\b\b\b\b\b\b\b\b\b\b\b\b\b\b\b\b\b\b\b\b\b\b\b\b\b\b\b\b\b\b\b\b\b\b\b\b\b\b\b\b\b\b\b\b\b\r45/45 [==============================] - 12s 270ms/step - loss: 0.6815 - accuracy: 0.5861 - val_loss: 0.6769 - val_accuracy: 0.6000\n",
            "Epoch 55/100\n",
            "45/45 [==============================] - ETA: 0s - loss: 0.6813 - accuracy: 0.6063"
          ]
        },
        {
          "output_type": "stream",
          "name": "stderr",
          "text": [
            "WARNING:tensorflow:Early stopping conditioned on metric `val_acc` which is not available. Available metrics are: loss,accuracy,val_loss,val_accuracy\n",
            "WARNING:tensorflow:Can save best model only with val_acc available, skipping.\n"
          ]
        },
        {
          "output_type": "stream",
          "name": "stdout",
          "text": [
            "\b\b\b\b\b\b\b\b\b\b\b\b\b\b\b\b\b\b\b\b\b\b\b\b\b\b\b\b\b\b\b\b\b\b\b\b\b\b\b\b\b\b\b\b\b\b\b\b\b\b\b\b\b\b\b\b\b\b\b\b\b\b\b\b\b\b\b\b\b\b\b\b\b\b\b\b\b\b\b\b\b\b\r45/45 [==============================] - 12s 272ms/step - loss: 0.6813 - accuracy: 0.6063 - val_loss: 0.6762 - val_accuracy: 0.6091\n",
            "Epoch 56/100\n",
            "45/45 [==============================] - ETA: 0s - loss: 0.6808 - accuracy: 0.5682"
          ]
        },
        {
          "output_type": "stream",
          "name": "stderr",
          "text": [
            "WARNING:tensorflow:Early stopping conditioned on metric `val_acc` which is not available. Available metrics are: loss,accuracy,val_loss,val_accuracy\n",
            "WARNING:tensorflow:Can save best model only with val_acc available, skipping.\n"
          ]
        },
        {
          "output_type": "stream",
          "name": "stdout",
          "text": [
            "\b\b\b\b\b\b\b\b\b\b\b\b\b\b\b\b\b\b\b\b\b\b\b\b\b\b\b\b\b\b\b\b\b\b\b\b\b\b\b\b\b\b\b\b\b\b\b\b\b\b\b\b\b\b\b\b\b\b\b\b\b\b\b\b\b\b\b\b\b\b\b\b\b\b\b\b\b\b\b\b\b\b\r45/45 [==============================] - 12s 274ms/step - loss: 0.6808 - accuracy: 0.5682 - val_loss: 0.6752 - val_accuracy: 0.5909\n",
            "Epoch 57/100\n",
            "45/45 [==============================] - ETA: 0s - loss: 0.6812 - accuracy: 0.5839"
          ]
        },
        {
          "output_type": "stream",
          "name": "stderr",
          "text": [
            "WARNING:tensorflow:Early stopping conditioned on metric `val_acc` which is not available. Available metrics are: loss,accuracy,val_loss,val_accuracy\n",
            "WARNING:tensorflow:Can save best model only with val_acc available, skipping.\n"
          ]
        },
        {
          "output_type": "stream",
          "name": "stdout",
          "text": [
            "\b\b\b\b\b\b\b\b\b\b\b\b\b\b\b\b\b\b\b\b\b\b\b\b\b\b\b\b\b\b\b\b\b\b\b\b\b\b\b\b\b\b\b\b\b\b\b\b\b\b\b\b\b\b\b\b\b\b\b\b\b\b\b\b\b\b\b\b\b\b\b\b\b\b\b\b\b\b\b\b\b\b\r45/45 [==============================] - 12s 268ms/step - loss: 0.6812 - accuracy: 0.5839 - val_loss: 0.6755 - val_accuracy: 0.5636\n",
            "Epoch 58/100\n",
            "45/45 [==============================] - ETA: 0s - loss: 0.6800 - accuracy: 0.5839"
          ]
        },
        {
          "output_type": "stream",
          "name": "stderr",
          "text": [
            "WARNING:tensorflow:Early stopping conditioned on metric `val_acc` which is not available. Available metrics are: loss,accuracy,val_loss,val_accuracy\n",
            "WARNING:tensorflow:Can save best model only with val_acc available, skipping.\n"
          ]
        },
        {
          "output_type": "stream",
          "name": "stdout",
          "text": [
            "\b\b\b\b\b\b\b\b\b\b\b\b\b\b\b\b\b\b\b\b\b\b\b\b\b\b\b\b\b\b\b\b\b\b\b\b\b\b\b\b\b\b\b\b\b\b\b\b\b\b\b\b\b\b\b\b\b\b\b\b\b\b\b\b\b\b\b\b\b\b\b\b\b\b\b\b\b\b\b\b\b\b\r45/45 [==============================] - 13s 278ms/step - loss: 0.6800 - accuracy: 0.5839 - val_loss: 0.6743 - val_accuracy: 0.5909\n",
            "Epoch 59/100\n",
            "45/45 [==============================] - ETA: 0s - loss: 0.6794 - accuracy: 0.5615"
          ]
        },
        {
          "output_type": "stream",
          "name": "stderr",
          "text": [
            "WARNING:tensorflow:Early stopping conditioned on metric `val_acc` which is not available. Available metrics are: loss,accuracy,val_loss,val_accuracy\n",
            "WARNING:tensorflow:Can save best model only with val_acc available, skipping.\n"
          ]
        },
        {
          "output_type": "stream",
          "name": "stdout",
          "text": [
            "\b\b\b\b\b\b\b\b\b\b\b\b\b\b\b\b\b\b\b\b\b\b\b\b\b\b\b\b\b\b\b\b\b\b\b\b\b\b\b\b\b\b\b\b\b\b\b\b\b\b\b\b\b\b\b\b\b\b\b\b\b\b\b\b\b\b\b\b\b\b\b\b\b\b\b\b\b\b\b\b\b\b\r45/45 [==============================] - 12s 272ms/step - loss: 0.6794 - accuracy: 0.5615 - val_loss: 0.6754 - val_accuracy: 0.5909\n",
            "Epoch 60/100\n",
            "45/45 [==============================] - ETA: 0s - loss: 0.6796 - accuracy: 0.5727"
          ]
        },
        {
          "output_type": "stream",
          "name": "stderr",
          "text": [
            "WARNING:tensorflow:Early stopping conditioned on metric `val_acc` which is not available. Available metrics are: loss,accuracy,val_loss,val_accuracy\n",
            "WARNING:tensorflow:Can save best model only with val_acc available, skipping.\n"
          ]
        },
        {
          "output_type": "stream",
          "name": "stdout",
          "text": [
            "\b\b\b\b\b\b\b\b\b\b\b\b\b\b\b\b\b\b\b\b\b\b\b\b\b\b\b\b\b\b\b\b\b\b\b\b\b\b\b\b\b\b\b\b\b\b\b\b\b\b\b\b\b\b\b\b\b\b\b\b\b\b\b\b\b\b\b\b\b\b\b\b\b\b\b\b\b\b\b\b\b\b\r45/45 [==============================] - 12s 272ms/step - loss: 0.6796 - accuracy: 0.5727 - val_loss: 0.6735 - val_accuracy: 0.6091\n",
            "Epoch 61/100\n",
            "45/45 [==============================] - ETA: 0s - loss: 0.6786 - accuracy: 0.5839"
          ]
        },
        {
          "output_type": "stream",
          "name": "stderr",
          "text": [
            "WARNING:tensorflow:Early stopping conditioned on metric `val_acc` which is not available. Available metrics are: loss,accuracy,val_loss,val_accuracy\n",
            "WARNING:tensorflow:Can save best model only with val_acc available, skipping.\n"
          ]
        },
        {
          "output_type": "stream",
          "name": "stdout",
          "text": [
            "\b\b\b\b\b\b\b\b\b\b\b\b\b\b\b\b\b\b\b\b\b\b\b\b\b\b\b\b\b\b\b\b\b\b\b\b\b\b\b\b\b\b\b\b\b\b\b\b\b\b\b\b\b\b\b\b\b\b\b\b\b\b\b\b\b\b\b\b\b\b\b\b\b\b\b\b\b\b\b\b\b\b\r45/45 [==============================] - 12s 274ms/step - loss: 0.6786 - accuracy: 0.5839 - val_loss: 0.6739 - val_accuracy: 0.6364\n",
            "Epoch 62/100\n",
            "45/45 [==============================] - ETA: 0s - loss: 0.6786 - accuracy: 0.5884"
          ]
        },
        {
          "output_type": "stream",
          "name": "stderr",
          "text": [
            "WARNING:tensorflow:Early stopping conditioned on metric `val_acc` which is not available. Available metrics are: loss,accuracy,val_loss,val_accuracy\n",
            "WARNING:tensorflow:Can save best model only with val_acc available, skipping.\n"
          ]
        },
        {
          "output_type": "stream",
          "name": "stdout",
          "text": [
            "\b\b\b\b\b\b\b\b\b\b\b\b\b\b\b\b\b\b\b\b\b\b\b\b\b\b\b\b\b\b\b\b\b\b\b\b\b\b\b\b\b\b\b\b\b\b\b\b\b\b\b\b\b\b\b\b\b\b\b\b\b\b\b\b\b\b\b\b\b\b\b\b\b\b\b\b\b\b\b\b\b\b\r45/45 [==============================] - 12s 270ms/step - loss: 0.6786 - accuracy: 0.5884 - val_loss: 0.6725 - val_accuracy: 0.6455\n",
            "Epoch 63/100\n",
            "45/45 [==============================] - ETA: 0s - loss: 0.6778 - accuracy: 0.5839"
          ]
        },
        {
          "output_type": "stream",
          "name": "stderr",
          "text": [
            "WARNING:tensorflow:Early stopping conditioned on metric `val_acc` which is not available. Available metrics are: loss,accuracy,val_loss,val_accuracy\n",
            "WARNING:tensorflow:Can save best model only with val_acc available, skipping.\n"
          ]
        },
        {
          "output_type": "stream",
          "name": "stdout",
          "text": [
            "\b\b\b\b\b\b\b\b\b\b\b\b\b\b\b\b\b\b\b\b\b\b\b\b\b\b\b\b\b\b\b\b\b\b\b\b\b\b\b\b\b\b\b\b\b\b\b\b\b\b\b\b\b\b\b\b\b\b\b\b\b\b\b\b\b\b\b\b\b\b\b\b\b\b\b\b\b\b\b\b\b\b\r45/45 [==============================] - 12s 273ms/step - loss: 0.6778 - accuracy: 0.5839 - val_loss: 0.6722 - val_accuracy: 0.6091\n",
            "Epoch 64/100\n",
            "45/45 [==============================] - ETA: 0s - loss: 0.6774 - accuracy: 0.5996"
          ]
        },
        {
          "output_type": "stream",
          "name": "stderr",
          "text": [
            "WARNING:tensorflow:Early stopping conditioned on metric `val_acc` which is not available. Available metrics are: loss,accuracy,val_loss,val_accuracy\n",
            "WARNING:tensorflow:Can save best model only with val_acc available, skipping.\n"
          ]
        },
        {
          "output_type": "stream",
          "name": "stdout",
          "text": [
            "\b\b\b\b\b\b\b\b\b\b\b\b\b\b\b\b\b\b\b\b\b\b\b\b\b\b\b\b\b\b\b\b\b\b\b\b\b\b\b\b\b\b\b\b\b\b\b\b\b\b\b\b\b\b\b\b\b\b\b\b\b\b\b\b\b\b\b\b\b\b\b\b\b\b\b\b\b\b\b\b\b\b\r45/45 [==============================] - 12s 273ms/step - loss: 0.6774 - accuracy: 0.5996 - val_loss: 0.6723 - val_accuracy: 0.6636\n",
            "Epoch 65/100\n",
            "45/45 [==============================] - ETA: 0s - loss: 0.6775 - accuracy: 0.5839"
          ]
        },
        {
          "output_type": "stream",
          "name": "stderr",
          "text": [
            "WARNING:tensorflow:Early stopping conditioned on metric `val_acc` which is not available. Available metrics are: loss,accuracy,val_loss,val_accuracy\n",
            "WARNING:tensorflow:Can save best model only with val_acc available, skipping.\n"
          ]
        },
        {
          "output_type": "stream",
          "name": "stdout",
          "text": [
            "\b\b\b\b\b\b\b\b\b\b\b\b\b\b\b\b\b\b\b\b\b\b\b\b\b\b\b\b\b\b\b\b\b\b\b\b\b\b\b\b\b\b\b\b\b\b\b\b\b\b\b\b\b\b\b\b\b\b\b\b\b\b\b\b\b\b\b\b\b\b\b\b\b\b\b\b\b\b\b\b\b\b\r45/45 [==============================] - 12s 273ms/step - loss: 0.6775 - accuracy: 0.5839 - val_loss: 0.6727 - val_accuracy: 0.6091\n",
            "Epoch 66/100\n",
            "45/45 [==============================] - ETA: 0s - loss: 0.6770 - accuracy: 0.5928"
          ]
        },
        {
          "output_type": "stream",
          "name": "stderr",
          "text": [
            "WARNING:tensorflow:Early stopping conditioned on metric `val_acc` which is not available. Available metrics are: loss,accuracy,val_loss,val_accuracy\n",
            "WARNING:tensorflow:Can save best model only with val_acc available, skipping.\n"
          ]
        },
        {
          "output_type": "stream",
          "name": "stdout",
          "text": [
            "\b\b\b\b\b\b\b\b\b\b\b\b\b\b\b\b\b\b\b\b\b\b\b\b\b\b\b\b\b\b\b\b\b\b\b\b\b\b\b\b\b\b\b\b\b\b\b\b\b\b\b\b\b\b\b\b\b\b\b\b\b\b\b\b\b\b\b\b\b\b\b\b\b\b\b\b\b\b\b\b\b\b\r45/45 [==============================] - 12s 273ms/step - loss: 0.6770 - accuracy: 0.5928 - val_loss: 0.6694 - val_accuracy: 0.6364\n",
            "Epoch 67/100\n",
            "45/45 [==============================] - ETA: 0s - loss: 0.6764 - accuracy: 0.5861"
          ]
        },
        {
          "output_type": "stream",
          "name": "stderr",
          "text": [
            "WARNING:tensorflow:Early stopping conditioned on metric `val_acc` which is not available. Available metrics are: loss,accuracy,val_loss,val_accuracy\n",
            "WARNING:tensorflow:Can save best model only with val_acc available, skipping.\n"
          ]
        },
        {
          "output_type": "stream",
          "name": "stdout",
          "text": [
            "\b\b\b\b\b\b\b\b\b\b\b\b\b\b\b\b\b\b\b\b\b\b\b\b\b\b\b\b\b\b\b\b\b\b\b\b\b\b\b\b\b\b\b\b\b\b\b\b\b\b\b\b\b\b\b\b\b\b\b\b\b\b\b\b\b\b\b\b\b\b\b\b\b\b\b\b\b\b\b\b\b\b\r45/45 [==============================] - 12s 272ms/step - loss: 0.6764 - accuracy: 0.5861 - val_loss: 0.6699 - val_accuracy: 0.6091\n",
            "Epoch 68/100\n",
            "45/45 [==============================] - ETA: 0s - loss: 0.6763 - accuracy: 0.5996"
          ]
        },
        {
          "output_type": "stream",
          "name": "stderr",
          "text": [
            "WARNING:tensorflow:Early stopping conditioned on metric `val_acc` which is not available. Available metrics are: loss,accuracy,val_loss,val_accuracy\n",
            "WARNING:tensorflow:Can save best model only with val_acc available, skipping.\n"
          ]
        },
        {
          "output_type": "stream",
          "name": "stdout",
          "text": [
            "\b\b\b\b\b\b\b\b\b\b\b\b\b\b\b\b\b\b\b\b\b\b\b\b\b\b\b\b\b\b\b\b\b\b\b\b\b\b\b\b\b\b\b\b\b\b\b\b\b\b\b\b\b\b\b\b\b\b\b\b\b\b\b\b\b\b\b\b\b\b\b\b\b\b\b\b\b\b\b\b\b\b\r45/45 [==============================] - 12s 274ms/step - loss: 0.6763 - accuracy: 0.5996 - val_loss: 0.6685 - val_accuracy: 0.6273\n",
            "Epoch 69/100\n",
            "45/45 [==============================] - ETA: 0s - loss: 0.6762 - accuracy: 0.5906"
          ]
        },
        {
          "output_type": "stream",
          "name": "stderr",
          "text": [
            "WARNING:tensorflow:Early stopping conditioned on metric `val_acc` which is not available. Available metrics are: loss,accuracy,val_loss,val_accuracy\n",
            "WARNING:tensorflow:Can save best model only with val_acc available, skipping.\n"
          ]
        },
        {
          "output_type": "stream",
          "name": "stdout",
          "text": [
            "\b\b\b\b\b\b\b\b\b\b\b\b\b\b\b\b\b\b\b\b\b\b\b\b\b\b\b\b\b\b\b\b\b\b\b\b\b\b\b\b\b\b\b\b\b\b\b\b\b\b\b\b\b\b\b\b\b\b\b\b\b\b\b\b\b\b\b\b\b\b\b\b\b\b\b\b\b\b\b\b\b\b\r45/45 [==============================] - 12s 272ms/step - loss: 0.6762 - accuracy: 0.5906 - val_loss: 0.6683 - val_accuracy: 0.6091\n",
            "Epoch 70/100\n",
            "45/45 [==============================] - ETA: 0s - loss: 0.6750 - accuracy: 0.6107"
          ]
        },
        {
          "output_type": "stream",
          "name": "stderr",
          "text": [
            "WARNING:tensorflow:Early stopping conditioned on metric `val_acc` which is not available. Available metrics are: loss,accuracy,val_loss,val_accuracy\n",
            "WARNING:tensorflow:Can save best model only with val_acc available, skipping.\n"
          ]
        },
        {
          "output_type": "stream",
          "name": "stdout",
          "text": [
            "\b\b\b\b\b\b\b\b\b\b\b\b\b\b\b\b\b\b\b\b\b\b\b\b\b\b\b\b\b\b\b\b\b\b\b\b\b\b\b\b\b\b\b\b\b\b\b\b\b\b\b\b\b\b\b\b\b\b\b\b\b\b\b\b\b\b\b\b\b\b\b\b\b\b\b\b\b\b\b\b\b\b\r45/45 [==============================] - 12s 271ms/step - loss: 0.6750 - accuracy: 0.6107 - val_loss: 0.6698 - val_accuracy: 0.6455\n",
            "Epoch 71/100\n",
            "45/45 [==============================] - ETA: 0s - loss: 0.6759 - accuracy: 0.5928"
          ]
        },
        {
          "output_type": "stream",
          "name": "stderr",
          "text": [
            "WARNING:tensorflow:Early stopping conditioned on metric `val_acc` which is not available. Available metrics are: loss,accuracy,val_loss,val_accuracy\n",
            "WARNING:tensorflow:Can save best model only with val_acc available, skipping.\n"
          ]
        },
        {
          "output_type": "stream",
          "name": "stdout",
          "text": [
            "\b\b\b\b\b\b\b\b\b\b\b\b\b\b\b\b\b\b\b\b\b\b\b\b\b\b\b\b\b\b\b\b\b\b\b\b\b\b\b\b\b\b\b\b\b\b\b\b\b\b\b\b\b\b\b\b\b\b\b\b\b\b\b\b\b\b\b\b\b\b\b\b\b\b\b\b\b\b\b\b\b\b\r45/45 [==============================] - 12s 272ms/step - loss: 0.6759 - accuracy: 0.5928 - val_loss: 0.6679 - val_accuracy: 0.6273\n",
            "Epoch 72/100\n",
            "45/45 [==============================] - ETA: 0s - loss: 0.6758 - accuracy: 0.5928"
          ]
        },
        {
          "output_type": "stream",
          "name": "stderr",
          "text": [
            "WARNING:tensorflow:Early stopping conditioned on metric `val_acc` which is not available. Available metrics are: loss,accuracy,val_loss,val_accuracy\n",
            "WARNING:tensorflow:Can save best model only with val_acc available, skipping.\n"
          ]
        },
        {
          "output_type": "stream",
          "name": "stdout",
          "text": [
            "\b\b\b\b\b\b\b\b\b\b\b\b\b\b\b\b\b\b\b\b\b\b\b\b\b\b\b\b\b\b\b\b\b\b\b\b\b\b\b\b\b\b\b\b\b\b\b\b\b\b\b\b\b\b\b\b\b\b\b\b\b\b\b\b\b\b\b\b\b\b\b\b\b\b\b\b\b\b\b\b\b\b\r45/45 [==============================] - 12s 271ms/step - loss: 0.6758 - accuracy: 0.5928 - val_loss: 0.6684 - val_accuracy: 0.6182\n",
            "Epoch 73/100\n",
            "45/45 [==============================] - ETA: 0s - loss: 0.6746 - accuracy: 0.5884"
          ]
        },
        {
          "output_type": "stream",
          "name": "stderr",
          "text": [
            "WARNING:tensorflow:Early stopping conditioned on metric `val_acc` which is not available. Available metrics are: loss,accuracy,val_loss,val_accuracy\n",
            "WARNING:tensorflow:Can save best model only with val_acc available, skipping.\n"
          ]
        },
        {
          "output_type": "stream",
          "name": "stdout",
          "text": [
            "\b\b\b\b\b\b\b\b\b\b\b\b\b\b\b\b\b\b\b\b\b\b\b\b\b\b\b\b\b\b\b\b\b\b\b\b\b\b\b\b\b\b\b\b\b\b\b\b\b\b\b\b\b\b\b\b\b\b\b\b\b\b\b\b\b\b\b\b\b\b\b\b\b\b\b\b\b\b\b\b\b\b\r45/45 [==============================] - 12s 260ms/step - loss: 0.6746 - accuracy: 0.5884 - val_loss: 0.6690 - val_accuracy: 0.6455\n",
            "Epoch 74/100\n",
            "45/45 [==============================] - ETA: 0s - loss: 0.6741 - accuracy: 0.6018"
          ]
        },
        {
          "output_type": "stream",
          "name": "stderr",
          "text": [
            "WARNING:tensorflow:Early stopping conditioned on metric `val_acc` which is not available. Available metrics are: loss,accuracy,val_loss,val_accuracy\n",
            "WARNING:tensorflow:Can save best model only with val_acc available, skipping.\n"
          ]
        },
        {
          "output_type": "stream",
          "name": "stdout",
          "text": [
            "\b\b\b\b\b\b\b\b\b\b\b\b\b\b\b\b\b\b\b\b\b\b\b\b\b\b\b\b\b\b\b\b\b\b\b\b\b\b\b\b\b\b\b\b\b\b\b\b\b\b\b\b\b\b\b\b\b\b\b\b\b\b\b\b\b\b\b\b\b\b\b\b\b\b\b\b\b\b\b\b\b\b\r45/45 [==============================] - 12s 274ms/step - loss: 0.6741 - accuracy: 0.6018 - val_loss: 0.6676 - val_accuracy: 0.6273\n",
            "Epoch 75/100\n",
            "45/45 [==============================] - ETA: 0s - loss: 0.6735 - accuracy: 0.5996"
          ]
        },
        {
          "output_type": "stream",
          "name": "stderr",
          "text": [
            "WARNING:tensorflow:Early stopping conditioned on metric `val_acc` which is not available. Available metrics are: loss,accuracy,val_loss,val_accuracy\n",
            "WARNING:tensorflow:Can save best model only with val_acc available, skipping.\n"
          ]
        },
        {
          "output_type": "stream",
          "name": "stdout",
          "text": [
            "\b\b\b\b\b\b\b\b\b\b\b\b\b\b\b\b\b\b\b\b\b\b\b\b\b\b\b\b\b\b\b\b\b\b\b\b\b\b\b\b\b\b\b\b\b\b\b\b\b\b\b\b\b\b\b\b\b\b\b\b\b\b\b\b\b\b\b\b\b\b\b\b\b\b\b\b\b\b\b\b\b\b\r45/45 [==============================] - 12s 270ms/step - loss: 0.6735 - accuracy: 0.5996 - val_loss: 0.6671 - val_accuracy: 0.6545\n",
            "Epoch 76/100\n",
            "45/45 [==============================] - ETA: 0s - loss: 0.6739 - accuracy: 0.6040"
          ]
        },
        {
          "output_type": "stream",
          "name": "stderr",
          "text": [
            "WARNING:tensorflow:Early stopping conditioned on metric `val_acc` which is not available. Available metrics are: loss,accuracy,val_loss,val_accuracy\n",
            "WARNING:tensorflow:Can save best model only with val_acc available, skipping.\n"
          ]
        },
        {
          "output_type": "stream",
          "name": "stdout",
          "text": [
            "\b\b\b\b\b\b\b\b\b\b\b\b\b\b\b\b\b\b\b\b\b\b\b\b\b\b\b\b\b\b\b\b\b\b\b\b\b\b\b\b\b\b\b\b\b\b\b\b\b\b\b\b\b\b\b\b\b\b\b\b\b\b\b\b\b\b\b\b\b\b\b\b\b\b\b\b\b\b\b\b\b\b\r45/45 [==============================] - 12s 273ms/step - loss: 0.6739 - accuracy: 0.6040 - val_loss: 0.6670 - val_accuracy: 0.6091\n",
            "Epoch 77/100\n",
            "45/45 [==============================] - ETA: 0s - loss: 0.6731 - accuracy: 0.6152"
          ]
        },
        {
          "output_type": "stream",
          "name": "stderr",
          "text": [
            "WARNING:tensorflow:Early stopping conditioned on metric `val_acc` which is not available. Available metrics are: loss,accuracy,val_loss,val_accuracy\n",
            "WARNING:tensorflow:Can save best model only with val_acc available, skipping.\n"
          ]
        },
        {
          "output_type": "stream",
          "name": "stdout",
          "text": [
            "\b\b\b\b\b\b\b\b\b\b\b\b\b\b\b\b\b\b\b\b\b\b\b\b\b\b\b\b\b\b\b\b\b\b\b\b\b\b\b\b\b\b\b\b\b\b\b\b\b\b\b\b\b\b\b\b\b\b\b\b\b\b\b\b\b\b\b\b\b\b\b\b\b\b\b\b\b\b\b\b\b\b\r45/45 [==============================] - 12s 270ms/step - loss: 0.6731 - accuracy: 0.6152 - val_loss: 0.6681 - val_accuracy: 0.6545\n",
            "Epoch 78/100\n",
            "45/45 [==============================] - ETA: 0s - loss: 0.6734 - accuracy: 0.6040"
          ]
        },
        {
          "output_type": "stream",
          "name": "stderr",
          "text": [
            "WARNING:tensorflow:Early stopping conditioned on metric `val_acc` which is not available. Available metrics are: loss,accuracy,val_loss,val_accuracy\n",
            "WARNING:tensorflow:Can save best model only with val_acc available, skipping.\n"
          ]
        },
        {
          "output_type": "stream",
          "name": "stdout",
          "text": [
            "\b\b\b\b\b\b\b\b\b\b\b\b\b\b\b\b\b\b\b\b\b\b\b\b\b\b\b\b\b\b\b\b\b\b\b\b\b\b\b\b\b\b\b\b\b\b\b\b\b\b\b\b\b\b\b\b\b\b\b\b\b\b\b\b\b\b\b\b\b\b\b\b\b\b\b\b\b\b\b\b\b\b\r45/45 [==============================] - 12s 273ms/step - loss: 0.6734 - accuracy: 0.6040 - val_loss: 0.6650 - val_accuracy: 0.6182\n",
            "Epoch 79/100\n",
            "45/45 [==============================] - ETA: 0s - loss: 0.6731 - accuracy: 0.6130"
          ]
        },
        {
          "output_type": "stream",
          "name": "stderr",
          "text": [
            "WARNING:tensorflow:Early stopping conditioned on metric `val_acc` which is not available. Available metrics are: loss,accuracy,val_loss,val_accuracy\n",
            "WARNING:tensorflow:Can save best model only with val_acc available, skipping.\n"
          ]
        },
        {
          "output_type": "stream",
          "name": "stdout",
          "text": [
            "\b\b\b\b\b\b\b\b\b\b\b\b\b\b\b\b\b\b\b\b\b\b\b\b\b\b\b\b\b\b\b\b\b\b\b\b\b\b\b\b\b\b\b\b\b\b\b\b\b\b\b\b\b\b\b\b\b\b\b\b\b\b\b\b\b\b\b\b\b\b\b\b\b\b\b\b\b\b\b\b\b\b\r45/45 [==============================] - 12s 262ms/step - loss: 0.6731 - accuracy: 0.6130 - val_loss: 0.6654 - val_accuracy: 0.6455\n",
            "Epoch 80/100\n",
            "45/45 [==============================] - ETA: 0s - loss: 0.6736 - accuracy: 0.5951"
          ]
        },
        {
          "output_type": "stream",
          "name": "stderr",
          "text": [
            "WARNING:tensorflow:Early stopping conditioned on metric `val_acc` which is not available. Available metrics are: loss,accuracy,val_loss,val_accuracy\n",
            "WARNING:tensorflow:Can save best model only with val_acc available, skipping.\n"
          ]
        },
        {
          "output_type": "stream",
          "name": "stdout",
          "text": [
            "\b\b\b\b\b\b\b\b\b\b\b\b\b\b\b\b\b\b\b\b\b\b\b\b\b\b\b\b\b\b\b\b\b\b\b\b\b\b\b\b\b\b\b\b\b\b\b\b\b\b\b\b\b\b\b\b\b\b\b\b\b\b\b\b\b\b\b\b\b\b\b\b\b\b\b\b\b\b\b\b\b\b\r45/45 [==============================] - 12s 269ms/step - loss: 0.6736 - accuracy: 0.5951 - val_loss: 0.6639 - val_accuracy: 0.6545\n",
            "Epoch 81/100\n",
            "45/45 [==============================] - ETA: 0s - loss: 0.6729 - accuracy: 0.6040"
          ]
        },
        {
          "output_type": "stream",
          "name": "stderr",
          "text": [
            "WARNING:tensorflow:Early stopping conditioned on metric `val_acc` which is not available. Available metrics are: loss,accuracy,val_loss,val_accuracy\n",
            "WARNING:tensorflow:Can save best model only with val_acc available, skipping.\n"
          ]
        },
        {
          "output_type": "stream",
          "name": "stdout",
          "text": [
            "\b\b\b\b\b\b\b\b\b\b\b\b\b\b\b\b\b\b\b\b\b\b\b\b\b\b\b\b\b\b\b\b\b\b\b\b\b\b\b\b\b\b\b\b\b\b\b\b\b\b\b\b\b\b\b\b\b\b\b\b\b\b\b\b\b\b\b\b\b\b\b\b\b\b\b\b\b\b\b\b\b\b\r45/45 [==============================] - 12s 272ms/step - loss: 0.6729 - accuracy: 0.6040 - val_loss: 0.6647 - val_accuracy: 0.6545\n",
            "Epoch 82/100\n",
            "45/45 [==============================] - ETA: 0s - loss: 0.6718 - accuracy: 0.5973"
          ]
        },
        {
          "output_type": "stream",
          "name": "stderr",
          "text": [
            "WARNING:tensorflow:Early stopping conditioned on metric `val_acc` which is not available. Available metrics are: loss,accuracy,val_loss,val_accuracy\n",
            "WARNING:tensorflow:Can save best model only with val_acc available, skipping.\n"
          ]
        },
        {
          "output_type": "stream",
          "name": "stdout",
          "text": [
            "\b\b\b\b\b\b\b\b\b\b\b\b\b\b\b\b\b\b\b\b\b\b\b\b\b\b\b\b\b\b\b\b\b\b\b\b\b\b\b\b\b\b\b\b\b\b\b\b\b\b\b\b\b\b\b\b\b\b\b\b\b\b\b\b\b\b\b\b\b\b\b\b\b\b\b\b\b\b\b\b\b\b\r45/45 [==============================] - 13s 278ms/step - loss: 0.6718 - accuracy: 0.5973 - val_loss: 0.6654 - val_accuracy: 0.6455\n",
            "Epoch 83/100\n",
            "45/45 [==============================] - ETA: 0s - loss: 0.6724 - accuracy: 0.6018"
          ]
        },
        {
          "output_type": "stream",
          "name": "stderr",
          "text": [
            "WARNING:tensorflow:Early stopping conditioned on metric `val_acc` which is not available. Available metrics are: loss,accuracy,val_loss,val_accuracy\n",
            "WARNING:tensorflow:Can save best model only with val_acc available, skipping.\n"
          ]
        },
        {
          "output_type": "stream",
          "name": "stdout",
          "text": [
            "\b\b\b\b\b\b\b\b\b\b\b\b\b\b\b\b\b\b\b\b\b\b\b\b\b\b\b\b\b\b\b\b\b\b\b\b\b\b\b\b\b\b\b\b\b\b\b\b\b\b\b\b\b\b\b\b\b\b\b\b\b\b\b\b\b\b\b\b\b\b\b\b\b\b\b\b\b\b\b\b\b\b\r45/45 [==============================] - 12s 262ms/step - loss: 0.6724 - accuracy: 0.6018 - val_loss: 0.6638 - val_accuracy: 0.6636\n",
            "Epoch 84/100\n",
            "45/45 [==============================] - ETA: 0s - loss: 0.6713 - accuracy: 0.6130"
          ]
        },
        {
          "output_type": "stream",
          "name": "stderr",
          "text": [
            "WARNING:tensorflow:Early stopping conditioned on metric `val_acc` which is not available. Available metrics are: loss,accuracy,val_loss,val_accuracy\n",
            "WARNING:tensorflow:Can save best model only with val_acc available, skipping.\n"
          ]
        },
        {
          "output_type": "stream",
          "name": "stdout",
          "text": [
            "\b\b\b\b\b\b\b\b\b\b\b\b\b\b\b\b\b\b\b\b\b\b\b\b\b\b\b\b\b\b\b\b\b\b\b\b\b\b\b\b\b\b\b\b\b\b\b\b\b\b\b\b\b\b\b\b\b\b\b\b\b\b\b\b\b\b\b\b\b\b\b\b\b\b\b\b\b\b\b\b\b\b\r45/45 [==============================] - 12s 271ms/step - loss: 0.6713 - accuracy: 0.6130 - val_loss: 0.6661 - val_accuracy: 0.6727\n",
            "Epoch 85/100\n",
            "45/45 [==============================] - ETA: 0s - loss: 0.6723 - accuracy: 0.6063"
          ]
        },
        {
          "output_type": "stream",
          "name": "stderr",
          "text": [
            "WARNING:tensorflow:Early stopping conditioned on metric `val_acc` which is not available. Available metrics are: loss,accuracy,val_loss,val_accuracy\n",
            "WARNING:tensorflow:Can save best model only with val_acc available, skipping.\n"
          ]
        },
        {
          "output_type": "stream",
          "name": "stdout",
          "text": [
            "\b\b\b\b\b\b\b\b\b\b\b\b\b\b\b\b\b\b\b\b\b\b\b\b\b\b\b\b\b\b\b\b\b\b\b\b\b\b\b\b\b\b\b\b\b\b\b\b\b\b\b\b\b\b\b\b\b\b\b\b\b\b\b\b\b\b\b\b\b\b\b\b\b\b\b\b\b\b\b\b\b\b\r45/45 [==============================] - 12s 270ms/step - loss: 0.6723 - accuracy: 0.6063 - val_loss: 0.6634 - val_accuracy: 0.6636\n",
            "Epoch 86/100\n",
            "45/45 [==============================] - ETA: 0s - loss: 0.6719 - accuracy: 0.5996"
          ]
        },
        {
          "output_type": "stream",
          "name": "stderr",
          "text": [
            "WARNING:tensorflow:Early stopping conditioned on metric `val_acc` which is not available. Available metrics are: loss,accuracy,val_loss,val_accuracy\n",
            "WARNING:tensorflow:Can save best model only with val_acc available, skipping.\n"
          ]
        },
        {
          "output_type": "stream",
          "name": "stdout",
          "text": [
            "\b\b\b\b\b\b\b\b\b\b\b\b\b\b\b\b\b\b\b\b\b\b\b\b\b\b\b\b\b\b\b\b\b\b\b\b\b\b\b\b\b\b\b\b\b\b\b\b\b\b\b\b\b\b\b\b\b\b\b\b\b\b\b\b\b\b\b\b\b\b\b\b\b\b\b\b\b\b\b\b\b\b\r45/45 [==============================] - 12s 270ms/step - loss: 0.6719 - accuracy: 0.5996 - val_loss: 0.6616 - val_accuracy: 0.6545\n",
            "Epoch 87/100\n",
            "45/45 [==============================] - ETA: 0s - loss: 0.6719 - accuracy: 0.5906"
          ]
        },
        {
          "output_type": "stream",
          "name": "stderr",
          "text": [
            "WARNING:tensorflow:Early stopping conditioned on metric `val_acc` which is not available. Available metrics are: loss,accuracy,val_loss,val_accuracy\n",
            "WARNING:tensorflow:Can save best model only with val_acc available, skipping.\n"
          ]
        },
        {
          "output_type": "stream",
          "name": "stdout",
          "text": [
            "\b\b\b\b\b\b\b\b\b\b\b\b\b\b\b\b\b\b\b\b\b\b\b\b\b\b\b\b\b\b\b\b\b\b\b\b\b\b\b\b\b\b\b\b\b\b\b\b\b\b\b\b\b\b\b\b\b\b\b\b\b\b\b\b\b\b\b\b\b\b\b\b\b\b\b\b\b\b\b\b\b\b\r45/45 [==============================] - 12s 271ms/step - loss: 0.6719 - accuracy: 0.5906 - val_loss: 0.6641 - val_accuracy: 0.6273\n",
            "Epoch 88/100\n",
            "45/45 [==============================] - ETA: 0s - loss: 0.6710 - accuracy: 0.6174"
          ]
        },
        {
          "output_type": "stream",
          "name": "stderr",
          "text": [
            "WARNING:tensorflow:Early stopping conditioned on metric `val_acc` which is not available. Available metrics are: loss,accuracy,val_loss,val_accuracy\n",
            "WARNING:tensorflow:Can save best model only with val_acc available, skipping.\n"
          ]
        },
        {
          "output_type": "stream",
          "name": "stdout",
          "text": [
            "\b\b\b\b\b\b\b\b\b\b\b\b\b\b\b\b\b\b\b\b\b\b\b\b\b\b\b\b\b\b\b\b\b\b\b\b\b\b\b\b\b\b\b\b\b\b\b\b\b\b\b\b\b\b\b\b\b\b\b\b\b\b\b\b\b\b\b\b\b\b\b\b\b\b\b\b\b\b\b\b\b\b\r45/45 [==============================] - 12s 269ms/step - loss: 0.6710 - accuracy: 0.6174 - val_loss: 0.6634 - val_accuracy: 0.6818\n",
            "Epoch 89/100\n",
            "45/45 [==============================] - ETA: 0s - loss: 0.6711 - accuracy: 0.6107"
          ]
        },
        {
          "output_type": "stream",
          "name": "stderr",
          "text": [
            "WARNING:tensorflow:Early stopping conditioned on metric `val_acc` which is not available. Available metrics are: loss,accuracy,val_loss,val_accuracy\n",
            "WARNING:tensorflow:Can save best model only with val_acc available, skipping.\n"
          ]
        },
        {
          "output_type": "stream",
          "name": "stdout",
          "text": [
            "\b\b\b\b\b\b\b\b\b\b\b\b\b\b\b\b\b\b\b\b\b\b\b\b\b\b\b\b\b\b\b\b\b\b\b\b\b\b\b\b\b\b\b\b\b\b\b\b\b\b\b\b\b\b\b\b\b\b\b\b\b\b\b\b\b\b\b\b\b\b\b\b\b\b\b\b\b\b\b\b\b\b\r45/45 [==============================] - 15s 327ms/step - loss: 0.6711 - accuracy: 0.6107 - val_loss: 0.6609 - val_accuracy: 0.6455\n",
            "Epoch 90/100\n",
            "45/45 [==============================] - ETA: 0s - loss: 0.6718 - accuracy: 0.6040"
          ]
        },
        {
          "output_type": "stream",
          "name": "stderr",
          "text": [
            "WARNING:tensorflow:Early stopping conditioned on metric `val_acc` which is not available. Available metrics are: loss,accuracy,val_loss,val_accuracy\n",
            "WARNING:tensorflow:Can save best model only with val_acc available, skipping.\n"
          ]
        },
        {
          "output_type": "stream",
          "name": "stdout",
          "text": [
            "\b\b\b\b\b\b\b\b\b\b\b\b\b\b\b\b\b\b\b\b\b\b\b\b\b\b\b\b\b\b\b\b\b\b\b\b\b\b\b\b\b\b\b\b\b\b\b\b\b\b\b\b\b\b\b\b\b\b\b\b\b\b\b\b\b\b\b\b\b\b\b\b\b\b\b\b\b\b\b\b\b\b\r45/45 [==============================] - 13s 292ms/step - loss: 0.6718 - accuracy: 0.6040 - val_loss: 0.6648 - val_accuracy: 0.6273\n",
            "Epoch 91/100\n",
            "45/45 [==============================] - ETA: 0s - loss: 0.6709 - accuracy: 0.6107"
          ]
        },
        {
          "output_type": "stream",
          "name": "stderr",
          "text": [
            "WARNING:tensorflow:Early stopping conditioned on metric `val_acc` which is not available. Available metrics are: loss,accuracy,val_loss,val_accuracy\n",
            "WARNING:tensorflow:Can save best model only with val_acc available, skipping.\n"
          ]
        },
        {
          "output_type": "stream",
          "name": "stdout",
          "text": [
            "\b\b\b\b\b\b\b\b\b\b\b\b\b\b\b\b\b\b\b\b\b\b\b\b\b\b\b\b\b\b\b\b\b\b\b\b\b\b\b\b\b\b\b\b\b\b\b\b\b\b\b\b\b\b\b\b\b\b\b\b\b\b\b\b\b\b\b\b\b\b\b\b\b\b\b\b\b\b\b\b\b\b\r45/45 [==============================] - 12s 271ms/step - loss: 0.6709 - accuracy: 0.6107 - val_loss: 0.6623 - val_accuracy: 0.6182\n",
            "Epoch 92/100\n",
            "45/45 [==============================] - ETA: 0s - loss: 0.6715 - accuracy: 0.6130"
          ]
        },
        {
          "output_type": "stream",
          "name": "stderr",
          "text": [
            "WARNING:tensorflow:Early stopping conditioned on metric `val_acc` which is not available. Available metrics are: loss,accuracy,val_loss,val_accuracy\n",
            "WARNING:tensorflow:Can save best model only with val_acc available, skipping.\n"
          ]
        },
        {
          "output_type": "stream",
          "name": "stdout",
          "text": [
            "\b\b\b\b\b\b\b\b\b\b\b\b\b\b\b\b\b\b\b\b\b\b\b\b\b\b\b\b\b\b\b\b\b\b\b\b\b\b\b\b\b\b\b\b\b\b\b\b\b\b\b\b\b\b\b\b\b\b\b\b\b\b\b\b\b\b\b\b\b\b\b\b\b\b\b\b\b\b\b\b\b\b\r45/45 [==============================] - 12s 262ms/step - loss: 0.6715 - accuracy: 0.6130 - val_loss: 0.6626 - val_accuracy: 0.6636\n",
            "Epoch 93/100\n",
            "45/45 [==============================] - ETA: 0s - loss: 0.6704 - accuracy: 0.6130"
          ]
        },
        {
          "output_type": "stream",
          "name": "stderr",
          "text": [
            "WARNING:tensorflow:Early stopping conditioned on metric `val_acc` which is not available. Available metrics are: loss,accuracy,val_loss,val_accuracy\n",
            "WARNING:tensorflow:Can save best model only with val_acc available, skipping.\n"
          ]
        },
        {
          "output_type": "stream",
          "name": "stdout",
          "text": [
            "\b\b\b\b\b\b\b\b\b\b\b\b\b\b\b\b\b\b\b\b\b\b\b\b\b\b\b\b\b\b\b\b\b\b\b\b\b\b\b\b\b\b\b\b\b\b\b\b\b\b\b\b\b\b\b\b\b\b\b\b\b\b\b\b\b\b\b\b\b\b\b\b\b\b\b\b\b\b\b\b\b\b\r45/45 [==============================] - 12s 273ms/step - loss: 0.6704 - accuracy: 0.6130 - val_loss: 0.6623 - val_accuracy: 0.6727\n",
            "Epoch 94/100\n",
            "45/45 [==============================] - ETA: 0s - loss: 0.6717 - accuracy: 0.6130"
          ]
        },
        {
          "output_type": "stream",
          "name": "stderr",
          "text": [
            "WARNING:tensorflow:Early stopping conditioned on metric `val_acc` which is not available. Available metrics are: loss,accuracy,val_loss,val_accuracy\n",
            "WARNING:tensorflow:Can save best model only with val_acc available, skipping.\n"
          ]
        },
        {
          "output_type": "stream",
          "name": "stdout",
          "text": [
            "\b\b\b\b\b\b\b\b\b\b\b\b\b\b\b\b\b\b\b\b\b\b\b\b\b\b\b\b\b\b\b\b\b\b\b\b\b\b\b\b\b\b\b\b\b\b\b\b\b\b\b\b\b\b\b\b\b\b\b\b\b\b\b\b\b\b\b\b\b\b\b\b\b\b\b\b\b\b\b\b\b\b\r45/45 [==============================] - 12s 271ms/step - loss: 0.6717 - accuracy: 0.6130 - val_loss: 0.6623 - val_accuracy: 0.6545\n",
            "Epoch 95/100\n",
            "45/45 [==============================] - ETA: 0s - loss: 0.6698 - accuracy: 0.5928"
          ]
        },
        {
          "output_type": "stream",
          "name": "stderr",
          "text": [
            "WARNING:tensorflow:Early stopping conditioned on metric `val_acc` which is not available. Available metrics are: loss,accuracy,val_loss,val_accuracy\n",
            "WARNING:tensorflow:Can save best model only with val_acc available, skipping.\n"
          ]
        },
        {
          "output_type": "stream",
          "name": "stdout",
          "text": [
            "\b\b\b\b\b\b\b\b\b\b\b\b\b\b\b\b\b\b\b\b\b\b\b\b\b\b\b\b\b\b\b\b\b\b\b\b\b\b\b\b\b\b\b\b\b\b\b\b\b\b\b\b\b\b\b\b\b\b\b\b\b\b\b\b\b\b\b\b\b\b\b\b\b\b\b\b\b\b\b\b\b\b\r45/45 [==============================] - 12s 273ms/step - loss: 0.6698 - accuracy: 0.5928 - val_loss: 0.6646 - val_accuracy: 0.6364\n",
            "Epoch 96/100\n",
            "45/45 [==============================] - ETA: 0s - loss: 0.6700 - accuracy: 0.6085"
          ]
        },
        {
          "output_type": "stream",
          "name": "stderr",
          "text": [
            "WARNING:tensorflow:Early stopping conditioned on metric `val_acc` which is not available. Available metrics are: loss,accuracy,val_loss,val_accuracy\n",
            "WARNING:tensorflow:Can save best model only with val_acc available, skipping.\n"
          ]
        },
        {
          "output_type": "stream",
          "name": "stdout",
          "text": [
            "\b\b\b\b\b\b\b\b\b\b\b\b\b\b\b\b\b\b\b\b\b\b\b\b\b\b\b\b\b\b\b\b\b\b\b\b\b\b\b\b\b\b\b\b\b\b\b\b\b\b\b\b\b\b\b\b\b\b\b\b\b\b\b\b\b\b\b\b\b\b\b\b\b\b\b\b\b\b\b\b\b\b\r45/45 [==============================] - 12s 272ms/step - loss: 0.6700 - accuracy: 0.6085 - val_loss: 0.6610 - val_accuracy: 0.6364\n",
            "Epoch 97/100\n",
            "45/45 [==============================] - ETA: 0s - loss: 0.6694 - accuracy: 0.6264"
          ]
        },
        {
          "output_type": "stream",
          "name": "stderr",
          "text": [
            "WARNING:tensorflow:Early stopping conditioned on metric `val_acc` which is not available. Available metrics are: loss,accuracy,val_loss,val_accuracy\n",
            "WARNING:tensorflow:Can save best model only with val_acc available, skipping.\n"
          ]
        },
        {
          "output_type": "stream",
          "name": "stdout",
          "text": [
            "\b\b\b\b\b\b\b\b\b\b\b\b\b\b\b\b\b\b\b\b\b\b\b\b\b\b\b\b\b\b\b\b\b\b\b\b\b\b\b\b\b\b\b\b\b\b\b\b\b\b\b\b\b\b\b\b\b\b\b\b\b\b\b\b\b\b\b\b\b\b\b\b\b\b\b\b\b\b\b\b\b\b\r45/45 [==============================] - 12s 270ms/step - loss: 0.6694 - accuracy: 0.6264 - val_loss: 0.6628 - val_accuracy: 0.6636\n",
            "Epoch 98/100\n",
            "45/45 [==============================] - ETA: 0s - loss: 0.6713 - accuracy: 0.5973"
          ]
        },
        {
          "output_type": "stream",
          "name": "stderr",
          "text": [
            "WARNING:tensorflow:Early stopping conditioned on metric `val_acc` which is not available. Available metrics are: loss,accuracy,val_loss,val_accuracy\n",
            "WARNING:tensorflow:Can save best model only with val_acc available, skipping.\n"
          ]
        },
        {
          "output_type": "stream",
          "name": "stdout",
          "text": [
            "\b\b\b\b\b\b\b\b\b\b\b\b\b\b\b\b\b\b\b\b\b\b\b\b\b\b\b\b\b\b\b\b\b\b\b\b\b\b\b\b\b\b\b\b\b\b\b\b\b\b\b\b\b\b\b\b\b\b\b\b\b\b\b\b\b\b\b\b\b\b\b\b\b\b\b\b\b\b\b\b\b\b\r45/45 [==============================] - 12s 272ms/step - loss: 0.6713 - accuracy: 0.5973 - val_loss: 0.6619 - val_accuracy: 0.6727\n",
            "Epoch 99/100\n",
            "45/45 [==============================] - ETA: 0s - loss: 0.6714 - accuracy: 0.6085"
          ]
        },
        {
          "output_type": "stream",
          "name": "stderr",
          "text": [
            "WARNING:tensorflow:Early stopping conditioned on metric `val_acc` which is not available. Available metrics are: loss,accuracy,val_loss,val_accuracy\n",
            "WARNING:tensorflow:Can save best model only with val_acc available, skipping.\n"
          ]
        },
        {
          "output_type": "stream",
          "name": "stdout",
          "text": [
            "\b\b\b\b\b\b\b\b\b\b\b\b\b\b\b\b\b\b\b\b\b\b\b\b\b\b\b\b\b\b\b\b\b\b\b\b\b\b\b\b\b\b\b\b\b\b\b\b\b\b\b\b\b\b\b\b\b\b\b\b\b\b\b\b\b\b\b\b\b\b\b\b\b\b\b\b\b\b\b\b\b\b\r45/45 [==============================] - 12s 272ms/step - loss: 0.6714 - accuracy: 0.6085 - val_loss: 0.6621 - val_accuracy: 0.6273\n",
            "Epoch 100/100\n",
            "45/45 [==============================] - ETA: 0s - loss: 0.6704 - accuracy: 0.6063"
          ]
        },
        {
          "output_type": "stream",
          "name": "stderr",
          "text": [
            "WARNING:tensorflow:Early stopping conditioned on metric `val_acc` which is not available. Available metrics are: loss,accuracy,val_loss,val_accuracy\n",
            "WARNING:tensorflow:Can save best model only with val_acc available, skipping.\n"
          ]
        },
        {
          "output_type": "stream",
          "name": "stdout",
          "text": [
            "\b\b\b\b\b\b\b\b\b\b\b\b\b\b\b\b\b\b\b\b\b\b\b\b\b\b\b\b\b\b\b\b\b\b\b\b\b\b\b\b\b\b\b\b\b\b\b\b\b\b\b\b\b\b\b\b\b\b\b\b\b\b\b\b\b\b\b\b\b\b\b\b\b\b\b\b\b\b\b\b\b\b\r45/45 [==============================] - 12s 270ms/step - loss: 0.6704 - accuracy: 0.6063 - val_loss: 0.6632 - val_accuracy: 0.6545\n",
            "do want to evaluate the model, y or n? y\n",
            "please provide the path for the testing dataset: /content/test\n",
            "Found 140 images belonging to 2 classes.\n",
            "14/14 [==============================] - 2s 153ms/step - loss: 0.6790 - accuracy: 0.5786\n",
            "[0.6790106892585754, 0.5785714387893677]\n",
            "model saved successfully!!\n"
          ]
        }
      ]
    },
    {
      "cell_type": "code",
      "source": [
        "main()"
      ],
      "metadata": {
        "colab": {
          "base_uri": "https://localhost:8080/"
        },
        "id": "KGkZwB3QK4m0",
        "outputId": "394ada98-ad5a-4789-806d-fd69ec6e90be"
      },
      "execution_count": null,
      "outputs": [
        {
          "output_type": "stream",
          "name": "stdout",
          "text": [
            "now please enter the name of the model: Cats-vs-Dogs3\n",
            "please enter the number of classes: 2\n",
            "Model: \"Cats-vs-Dogs3\"\n",
            "_________________________________________________________________\n",
            " Layer (type)                Output Shape              Param #   \n",
            "=================================================================\n",
            " Input (InputLayer)          [(None, 224, 224, 3)]     0         \n",
            "                                                                 \n",
            " Conv1 (Conv2D)              (None, 224, 224, 64)      1792      \n",
            "                                                                 \n",
            " Conv2 (Conv2D)              (None, 224, 224, 64)      36928     \n",
            "                                                                 \n",
            " Max_pool1 (MaxPooling2D)    (None, 112, 112, 64)      0         \n",
            "                                                                 \n",
            " Conv3 (Conv2D)              (None, 112, 112, 128)     73856     \n",
            "                                                                 \n",
            " Conv4 (Conv2D)              (None, 112, 112, 128)     147584    \n",
            "                                                                 \n",
            " Max_pool2 (MaxPooling2D)    (None, 56, 56, 128)       0         \n",
            "                                                                 \n",
            " Conv5 (Conv2D)              (None, 56, 56, 256)       295168    \n",
            "                                                                 \n",
            " Conv6 (Conv2D)              (None, 56, 56, 256)       590080    \n",
            "                                                                 \n",
            " Conv7 (Conv2D)              (None, 56, 56, 256)       590080    \n",
            "                                                                 \n",
            " Max_pool3 (MaxPooling2D)    (None, 28, 28, 256)       0         \n",
            "                                                                 \n",
            " Conv8 (Conv2D)              (None, 28, 28, 512)       1180160   \n",
            "                                                                 \n",
            " Conv9 (Conv2D)              (None, 28, 28, 512)       2359808   \n",
            "                                                                 \n",
            " Conv10 (Conv2D)             (None, 28, 28, 512)       2359808   \n",
            "                                                                 \n",
            " Max_pool4 (MaxPooling2D)    (None, 14, 14, 512)       0         \n",
            "                                                                 \n",
            " Conv11 (Conv2D)             (None, 14, 14, 512)       2359808   \n",
            "                                                                 \n",
            " Conv12 (Conv2D)             (None, 14, 14, 512)       2359808   \n",
            "                                                                 \n",
            " Conv13 (Conv2D)             (None, 14, 14, 512)       2359808   \n",
            "                                                                 \n",
            " Max_pool5 (MaxPooling2D)    (None, 7, 7, 512)         0         \n",
            "                                                                 \n",
            " flatten_2 (Flatten)         (None, 25088)             0         \n",
            "                                                                 \n",
            " Dense1 (Dense)              (None, 4096)              102764544 \n",
            "                                                                 \n",
            " Dropout1 (Dropout)          (None, 4096)              0         \n",
            "                                                                 \n",
            " Dense2 (Dense)              (None, 4096)              16781312  \n",
            "                                                                 \n",
            " Dropout2 (Dropout)          (None, 4096)              0         \n",
            "                                                                 \n",
            " Dense3 (Dense)              (None, 1000)              4097000   \n",
            "                                                                 \n",
            " Dropout3 (Dropout)          (None, 1000)              0         \n",
            "                                                                 \n",
            " Output (Dense)              (None, 1)                 1001      \n",
            "                                                                 \n",
            "=================================================================\n",
            "Total params: 138358545 (527.80 MB)\n",
            "Trainable params: 138358545 (527.80 MB)\n",
            "Non-trainable params: 0 (0.00 Byte)\n",
            "_________________________________________________________________\n",
            "please enter the path of the train dataset: /content/traincatvsdog\n",
            "want to include a validation set, y or n? n\n",
            "enter the batch size: 32\n",
            "please enter the learning rate:0.000001\n",
            "Found 447 images belonging to 2 classes.\n",
            "Found 110 images belonging to 2 classes.\n",
            "please enter the number of epochs: 50\n",
            "Epoch 1/50\n",
            "14/14 [==============================] - 71s 3s/step - loss: 0.6932 - accuracy: 0.4922 - val_loss: 0.6932 - val_accuracy: 0.5727\n",
            "Epoch 2/50\n",
            "14/14 [==============================] - 11s 735ms/step - loss: 0.6932 - accuracy: 0.4787 - val_loss: 0.6931 - val_accuracy: 0.5000\n",
            "Epoch 3/50\n",
            "14/14 [==============================] - 12s 830ms/step - loss: 0.6932 - accuracy: 0.4944 - val_loss: 0.6931 - val_accuracy: 0.5091\n",
            "Epoch 4/50\n",
            "14/14 [==============================] - 12s 820ms/step - loss: 0.6931 - accuracy: 0.5078 - val_loss: 0.6931 - val_accuracy: 0.4909\n",
            "Epoch 5/50\n",
            "14/14 [==============================] - 12s 823ms/step - loss: 0.6931 - accuracy: 0.5302 - val_loss: 0.6931 - val_accuracy: 0.5000\n",
            "Epoch 6/50\n",
            "14/14 [==============================] - 11s 807ms/step - loss: 0.6931 - accuracy: 0.5145 - val_loss: 0.6931 - val_accuracy: 0.5000\n",
            "do want to evaluate the model, y or n? n\n",
            "model saved successfully!!\n"
          ]
        }
      ]
    },
    {
      "cell_type": "code",
      "source": [
        "main()"
      ],
      "metadata": {
        "colab": {
          "base_uri": "https://localhost:8080/"
        },
        "id": "kUUvKc1IRAbC",
        "outputId": "57d43f21-0e48-4102-bc01-5c4a4371d723"
      },
      "execution_count": null,
      "outputs": [
        {
          "output_type": "stream",
          "name": "stdout",
          "text": [
            "now please enter the name of the model: Cats-vs-Dogs4\n",
            "please enter the number of classes: 2\n",
            "Model: \"Cats-vs-Dogs4\"\n",
            "_________________________________________________________________\n",
            " Layer (type)                Output Shape              Param #   \n",
            "=================================================================\n",
            " Input (InputLayer)          [(None, 224, 224, 3)]     0         \n",
            "                                                                 \n",
            " Conv1 (Conv2D)              (None, 224, 224, 64)      1792      \n",
            "                                                                 \n",
            " Conv2 (Conv2D)              (None, 224, 224, 64)      36928     \n",
            "                                                                 \n",
            " Max_pool1 (MaxPooling2D)    (None, 112, 112, 64)      0         \n",
            "                                                                 \n",
            " Conv3 (Conv2D)              (None, 112, 112, 128)     73856     \n",
            "                                                                 \n",
            " Conv4 (Conv2D)              (None, 112, 112, 128)     147584    \n",
            "                                                                 \n",
            " Max_pool2 (MaxPooling2D)    (None, 56, 56, 128)       0         \n",
            "                                                                 \n",
            " Conv5 (Conv2D)              (None, 56, 56, 256)       295168    \n",
            "                                                                 \n",
            " Conv6 (Conv2D)              (None, 56, 56, 256)       590080    \n",
            "                                                                 \n",
            " Conv7 (Conv2D)              (None, 56, 56, 256)       590080    \n",
            "                                                                 \n",
            " Max_pool3 (MaxPooling2D)    (None, 28, 28, 256)       0         \n",
            "                                                                 \n",
            " Conv8 (Conv2D)              (None, 28, 28, 512)       1180160   \n",
            "                                                                 \n",
            " Conv9 (Conv2D)              (None, 28, 28, 512)       2359808   \n",
            "                                                                 \n",
            " Conv10 (Conv2D)             (None, 28, 28, 512)       2359808   \n",
            "                                                                 \n",
            " Max_pool4 (MaxPooling2D)    (None, 14, 14, 512)       0         \n",
            "                                                                 \n",
            " Conv11 (Conv2D)             (None, 14, 14, 512)       2359808   \n",
            "                                                                 \n",
            " Conv12 (Conv2D)             (None, 14, 14, 512)       2359808   \n",
            "                                                                 \n",
            " Conv13 (Conv2D)             (None, 14, 14, 512)       2359808   \n",
            "                                                                 \n",
            " Max_pool5 (MaxPooling2D)    (None, 7, 7, 512)         0         \n",
            "                                                                 \n",
            " flatten_3 (Flatten)         (None, 25088)             0         \n",
            "                                                                 \n",
            " Dense1 (Dense)              (None, 4096)              102764544 \n",
            "                                                                 \n",
            " Dropout1 (Dropout)          (None, 4096)              0         \n",
            "                                                                 \n",
            " Dense2 (Dense)              (None, 4096)              16781312  \n",
            "                                                                 \n",
            " Dropout2 (Dropout)          (None, 4096)              0         \n",
            "                                                                 \n",
            " Dense3 (Dense)              (None, 1000)              4097000   \n",
            "                                                                 \n",
            " Dropout3 (Dropout)          (None, 1000)              0         \n",
            "                                                                 \n",
            " Output (Dense)              (None, 1)                 1001      \n",
            "                                                                 \n",
            "=================================================================\n",
            "Total params: 138358545 (527.80 MB)\n",
            "Trainable params: 138358545 (527.80 MB)\n",
            "Non-trainable params: 0 (0.00 Byte)\n",
            "_________________________________________________________________\n",
            "please enter the path of the train dataset: /content/traincatvsdog\n",
            "want to include a validation set, y or n? n\n",
            "enter the batch size: 64\n",
            "please enter the learning rate:0.000001\n",
            "Found 447 images belonging to 2 classes.\n",
            "Found 110 images belonging to 2 classes.\n",
            "please enter the number of epochs: 100\n",
            "Epoch 1/100\n",
            "7/7 [==============================] - 114s 12s/step - loss: 0.6932 - accuracy: 0.4586 - val_loss: 0.6931 - val_accuracy: 0.6000\n",
            "Epoch 2/100\n",
            "7/7 [==============================] - 12s 2s/step - loss: 0.6931 - accuracy: 0.5034 - val_loss: 0.6931 - val_accuracy: 0.4909\n",
            "Epoch 3/100\n",
            "7/7 [==============================] - 12s 2s/step - loss: 0.6932 - accuracy: 0.4720 - val_loss: 0.6931 - val_accuracy: 0.4818\n",
            "Epoch 4/100\n",
            "7/7 [==============================] - 12s 2s/step - loss: 0.6931 - accuracy: 0.5213 - val_loss: 0.6931 - val_accuracy: 0.4909\n",
            "Epoch 5/100\n",
            "7/7 [==============================] - 12s 2s/step - loss: 0.6932 - accuracy: 0.4631 - val_loss: 0.6931 - val_accuracy: 0.5000\n",
            "Epoch 6/100\n",
            "7/7 [==============================] - 12s 2s/step - loss: 0.6931 - accuracy: 0.4966 - val_loss: 0.6931 - val_accuracy: 0.5000\n",
            "Epoch 7/100\n",
            "7/7 [==============================] - 12s 2s/step - loss: 0.6931 - accuracy: 0.5235 - val_loss: 0.6931 - val_accuracy: 0.5000\n",
            "Epoch 8/100\n",
            "7/7 [==============================] - 11s 2s/step - loss: 0.6931 - accuracy: 0.5123 - val_loss: 0.6931 - val_accuracy: 0.5000\n",
            "Epoch 9/100\n",
            "7/7 [==============================] - 12s 2s/step - loss: 0.6931 - accuracy: 0.5145 - val_loss: 0.6931 - val_accuracy: 0.5000\n",
            "Epoch 10/100\n",
            "7/7 [==============================] - 12s 2s/step - loss: 0.6931 - accuracy: 0.5123 - val_loss: 0.6931 - val_accuracy: 0.5000\n",
            "Epoch 11/100\n",
            "7/7 [==============================] - 12s 2s/step - loss: 0.6930 - accuracy: 0.5324 - val_loss: 0.6931 - val_accuracy: 0.5000\n",
            "Epoch 12/100\n",
            "7/7 [==============================] - 12s 2s/step - loss: 0.6930 - accuracy: 0.5235 - val_loss: 0.6931 - val_accuracy: 0.5000\n",
            "Epoch 13/100\n",
            "7/7 [==============================] - 12s 2s/step - loss: 0.6930 - accuracy: 0.5190 - val_loss: 0.6930 - val_accuracy: 0.5000\n",
            "Epoch 14/100\n",
            "7/7 [==============================] - 12s 2s/step - loss: 0.6930 - accuracy: 0.5213 - val_loss: 0.6930 - val_accuracy: 0.5000\n",
            "Epoch 15/100\n",
            "7/7 [==============================] - 12s 2s/step - loss: 0.6931 - accuracy: 0.5168 - val_loss: 0.6931 - val_accuracy: 0.5000\n",
            "Epoch 16/100\n",
            "7/7 [==============================] - 12s 2s/step - loss: 0.6931 - accuracy: 0.5078 - val_loss: 0.6930 - val_accuracy: 0.5000\n",
            "Epoch 17/100\n",
            "7/7 [==============================] - 12s 2s/step - loss: 0.6930 - accuracy: 0.5101 - val_loss: 0.6930 - val_accuracy: 0.5000\n",
            "Epoch 18/100\n",
            "7/7 [==============================] - 12s 2s/step - loss: 0.6930 - accuracy: 0.4989 - val_loss: 0.6930 - val_accuracy: 0.5000\n",
            "Epoch 19/100\n",
            "7/7 [==============================] - 12s 2s/step - loss: 0.6931 - accuracy: 0.5101 - val_loss: 0.6930 - val_accuracy: 0.5000\n",
            "Epoch 20/100\n",
            "7/7 [==============================] - 13s 2s/step - loss: 0.6931 - accuracy: 0.5101 - val_loss: 0.6930 - val_accuracy: 0.5000\n",
            "Epoch 21/100\n",
            "7/7 [==============================] - 12s 2s/step - loss: 0.6930 - accuracy: 0.5101 - val_loss: 0.6930 - val_accuracy: 0.5000\n",
            "do want to evaluate the model, y or n? n\n",
            "training done successfully!!\n"
          ]
        }
      ]
    },
    {
      "cell_type": "markdown",
      "source": [
        "# Dataset 2:\n",
        "\n",
        "here we have a bigger dataset to work on, but even with the larger set the model still performs poorly, with the best performing model having a validation accuracy of 51.5% and and a loss of 1.66, even though the model reached 88.7% accuracy in training, the model is still overfitting, we need a bigger dataset."
      ],
      "metadata": {
        "id": "D1TiF9tV6kHH"
      }
    },
    {
      "cell_type": "code",
      "source": [
        "# Extracting the dataset file\n",
        "zip_ref = zipfile.ZipFile('/content/pesticide.zip')\n",
        "zip_ref.extractall()\n",
        "zip_ref.close()"
      ],
      "metadata": {
        "id": "DFwYo09WSsQY"
      },
      "execution_count": null,
      "outputs": []
    },
    {
      "cell_type": "code",
      "source": [
        "main()"
      ],
      "metadata": {
        "colab": {
          "base_uri": "https://localhost:8080/"
        },
        "id": "m5Vl0QIzS6v-",
        "outputId": "12850ec0-e6c4-46ab-ed9f-0cb74a45b675"
      },
      "execution_count": null,
      "outputs": [
        {
          "output_type": "stream",
          "name": "stdout",
          "text": [
            "now please enter the name of the model: Pesticides\n",
            "please enter the number of classes: 12\n",
            "Model: \"Pesticides\"\n",
            "_________________________________________________________________\n",
            " Layer (type)                Output Shape              Param #   \n",
            "=================================================================\n",
            " Input (InputLayer)          [(None, 224, 224, 3)]     0         \n",
            "                                                                 \n",
            " Conv1 (Conv2D)              (None, 224, 224, 64)      1792      \n",
            "                                                                 \n",
            " Conv2 (Conv2D)              (None, 224, 224, 64)      36928     \n",
            "                                                                 \n",
            " Max_pool1 (MaxPooling2D)    (None, 112, 112, 64)      0         \n",
            "                                                                 \n",
            " Conv3 (Conv2D)              (None, 112, 112, 128)     73856     \n",
            "                                                                 \n",
            " Conv4 (Conv2D)              (None, 112, 112, 128)     147584    \n",
            "                                                                 \n",
            " Max_pool2 (MaxPooling2D)    (None, 56, 56, 128)       0         \n",
            "                                                                 \n",
            " Conv5 (Conv2D)              (None, 56, 56, 256)       295168    \n",
            "                                                                 \n",
            " Conv6 (Conv2D)              (None, 56, 56, 256)       590080    \n",
            "                                                                 \n",
            " Conv7 (Conv2D)              (None, 56, 56, 256)       590080    \n",
            "                                                                 \n",
            " Max_pool3 (MaxPooling2D)    (None, 28, 28, 256)       0         \n",
            "                                                                 \n",
            " Conv8 (Conv2D)              (None, 28, 28, 512)       1180160   \n",
            "                                                                 \n",
            " Conv9 (Conv2D)              (None, 28, 28, 512)       2359808   \n",
            "                                                                 \n",
            " Conv10 (Conv2D)             (None, 28, 28, 512)       2359808   \n",
            "                                                                 \n",
            " Max_pool4 (MaxPooling2D)    (None, 14, 14, 512)       0         \n",
            "                                                                 \n",
            " Conv11 (Conv2D)             (None, 14, 14, 512)       2359808   \n",
            "                                                                 \n",
            " Conv12 (Conv2D)             (None, 14, 14, 512)       2359808   \n",
            "                                                                 \n",
            " Conv13 (Conv2D)             (None, 14, 14, 512)       2359808   \n",
            "                                                                 \n",
            " Max_pool5 (MaxPooling2D)    (None, 7, 7, 512)         0         \n",
            "                                                                 \n",
            " flatten_4 (Flatten)         (None, 25088)             0         \n",
            "                                                                 \n",
            " Dense1 (Dense)              (None, 4096)              102764544 \n",
            "                                                                 \n",
            " Dropout1 (Dropout)          (None, 4096)              0         \n",
            "                                                                 \n",
            " Dense2 (Dense)              (None, 4096)              16781312  \n",
            "                                                                 \n",
            " Dropout2 (Dropout)          (None, 4096)              0         \n",
            "                                                                 \n",
            " Dense3 (Dense)              (None, 1000)              4097000   \n",
            "                                                                 \n",
            " Dropout3 (Dropout)          (None, 1000)              0         \n",
            "                                                                 \n",
            " Output (Dense)              (None, 12)                12012     \n",
            "                                                                 \n",
            "=================================================================\n",
            "Total params: 138369556 (527.84 MB)\n",
            "Trainable params: 138369556 (527.84 MB)\n",
            "Non-trainable params: 0 (0.00 Byte)\n",
            "_________________________________________________________________\n",
            "please enter the path of the train dataset: /content/pesticide\n",
            "want to include a validation set, y or n? n\n",
            "enter the batch size: 32\n",
            "please enter the learning rate:0.000001\n",
            "Found 4399 images belonging to 12 classes.\n",
            "Found 1095 images belonging to 12 classes.\n",
            "please enter the number of epochs: 100\n",
            "Epoch 1/100\n",
            "138/138 [==============================] - 118s 822ms/step - loss: 2.4848 - accuracy: 0.0900 - val_loss: 2.4845 - val_accuracy: 0.0904\n",
            "Epoch 2/100\n",
            "138/138 [==============================] - 89s 644ms/step - loss: 2.4842 - accuracy: 0.0914 - val_loss: 2.4835 - val_accuracy: 0.0904\n",
            "Epoch 3/100\n",
            "138/138 [==============================] - 90s 648ms/step - loss: 2.4822 - accuracy: 0.0907 - val_loss: 2.4799 - val_accuracy: 0.0904\n",
            "Epoch 4/100\n",
            "138/138 [==============================] - 90s 648ms/step - loss: 2.4777 - accuracy: 0.0905 - val_loss: 2.4759 - val_accuracy: 0.0904\n",
            "Epoch 5/100\n",
            "138/138 [==============================] - 90s 648ms/step - loss: 2.4745 - accuracy: 0.0914 - val_loss: 2.4748 - val_accuracy: 0.0904\n",
            "Epoch 6/100\n",
            "138/138 [==============================] - 107s 773ms/step - loss: 2.4720 - accuracy: 0.0909 - val_loss: 2.4744 - val_accuracy: 0.0922\n",
            "Epoch 7/100\n",
            "138/138 [==============================] - 90s 650ms/step - loss: 2.4712 - accuracy: 0.0896 - val_loss: 2.4734 - val_accuracy: 0.0922\n",
            "Epoch 8/100\n",
            "138/138 [==============================] - 95s 691ms/step - loss: 2.4709 - accuracy: 0.0937 - val_loss: 2.4730 - val_accuracy: 0.0904\n",
            "Epoch 9/100\n",
            "138/138 [==============================] - 109s 787ms/step - loss: 2.4700 - accuracy: 0.0989 - val_loss: 2.4718 - val_accuracy: 0.0959\n",
            "Epoch 10/100\n",
            "138/138 [==============================] - 109s 792ms/step - loss: 2.4690 - accuracy: 0.0987 - val_loss: 2.4717 - val_accuracy: 0.0986\n",
            "Epoch 11/100\n",
            "138/138 [==============================] - 101s 734ms/step - loss: 2.4691 - accuracy: 0.0973 - val_loss: 2.4704 - val_accuracy: 0.1023\n",
            "Epoch 12/100\n",
            "138/138 [==============================] - 109s 788ms/step - loss: 2.4676 - accuracy: 0.1055 - val_loss: 2.4701 - val_accuracy: 0.1050\n",
            "Epoch 13/100\n",
            "138/138 [==============================] - 100s 721ms/step - loss: 2.4670 - accuracy: 0.1030 - val_loss: 2.4695 - val_accuracy: 0.1105\n",
            "Epoch 14/100\n",
            "138/138 [==============================] - 114s 825ms/step - loss: 2.4661 - accuracy: 0.1082 - val_loss: 2.4689 - val_accuracy: 0.1151\n",
            "Epoch 15/100\n",
            "138/138 [==============================] - 106s 771ms/step - loss: 2.4652 - accuracy: 0.1078 - val_loss: 2.4681 - val_accuracy: 0.1187\n",
            "Epoch 16/100\n",
            "138/138 [==============================] - 105s 761ms/step - loss: 2.4651 - accuracy: 0.1071 - val_loss: 2.4673 - val_accuracy: 0.1205\n",
            "Epoch 17/100\n",
            "138/138 [==============================] - 90s 648ms/step - loss: 2.4631 - accuracy: 0.1155 - val_loss: 2.4674 - val_accuracy: 0.1205\n",
            "Epoch 18/100\n",
            "138/138 [==============================] - 96s 692ms/step - loss: 2.4637 - accuracy: 0.1118 - val_loss: 2.4666 - val_accuracy: 0.1187\n",
            "Epoch 19/100\n",
            "138/138 [==============================] - 114s 824ms/step - loss: 2.4629 - accuracy: 0.1100 - val_loss: 2.4666 - val_accuracy: 0.1224\n",
            "Epoch 20/100\n",
            "138/138 [==============================] - 121s 878ms/step - loss: 2.4624 - accuracy: 0.1128 - val_loss: 2.4658 - val_accuracy: 0.1233\n",
            "Epoch 21/100\n",
            "138/138 [==============================] - 113s 820ms/step - loss: 2.4614 - accuracy: 0.1128 - val_loss: 2.4650 - val_accuracy: 0.1315\n",
            "Epoch 22/100\n",
            "138/138 [==============================] - 90s 649ms/step - loss: 2.4611 - accuracy: 0.1162 - val_loss: 2.4642 - val_accuracy: 0.1269\n",
            "Epoch 23/100\n",
            "138/138 [==============================] - 96s 693ms/step - loss: 2.4618 - accuracy: 0.1162 - val_loss: 2.4638 - val_accuracy: 0.1279\n",
            "Epoch 24/100\n",
            "138/138 [==============================] - 117s 848ms/step - loss: 2.4603 - accuracy: 0.1173 - val_loss: 2.4641 - val_accuracy: 0.1352\n",
            "Epoch 25/100\n",
            "138/138 [==============================] - 90s 653ms/step - loss: 2.4607 - accuracy: 0.1205 - val_loss: 2.4638 - val_accuracy: 0.1297\n",
            "Epoch 26/100\n",
            "138/138 [==============================] - 95s 691ms/step - loss: 2.4592 - accuracy: 0.1203 - val_loss: 2.4630 - val_accuracy: 0.1315\n",
            "Epoch 27/100\n",
            "138/138 [==============================] - 90s 648ms/step - loss: 2.4596 - accuracy: 0.1198 - val_loss: 2.4632 - val_accuracy: 0.1315\n",
            "Epoch 28/100\n",
            "138/138 [==============================] - 96s 696ms/step - loss: 2.4590 - accuracy: 0.1239 - val_loss: 2.4632 - val_accuracy: 0.1315\n",
            "Epoch 29/100\n",
            "138/138 [==============================] - 90s 648ms/step - loss: 2.4587 - accuracy: 0.1232 - val_loss: 2.4625 - val_accuracy: 0.1342\n",
            "Epoch 30/100\n",
            "138/138 [==============================] - 96s 694ms/step - loss: 2.4577 - accuracy: 0.1271 - val_loss: 2.4620 - val_accuracy: 0.1352\n",
            "Epoch 31/100\n",
            "138/138 [==============================] - 124s 897ms/step - loss: 2.4588 - accuracy: 0.1234 - val_loss: 2.4625 - val_accuracy: 0.1370\n",
            "Epoch 32/100\n",
            "138/138 [==============================] - 96s 693ms/step - loss: 2.4586 - accuracy: 0.1237 - val_loss: 2.4630 - val_accuracy: 0.1279\n",
            "Epoch 33/100\n",
            "138/138 [==============================] - 90s 652ms/step - loss: 2.4576 - accuracy: 0.1266 - val_loss: 2.4619 - val_accuracy: 0.1324\n",
            "Epoch 34/100\n",
            "138/138 [==============================] - 96s 695ms/step - loss: 2.4580 - accuracy: 0.1221 - val_loss: 2.4621 - val_accuracy: 0.1342\n",
            "Epoch 35/100\n",
            "138/138 [==============================] - 90s 650ms/step - loss: 2.4575 - accuracy: 0.1289 - val_loss: 2.4618 - val_accuracy: 0.1352\n",
            "Epoch 36/100\n",
            "138/138 [==============================] - 90s 649ms/step - loss: 2.4579 - accuracy: 0.1225 - val_loss: 2.4617 - val_accuracy: 0.1352\n",
            "Epoch 37/100\n",
            "138/138 [==============================] - 122s 882ms/step - loss: 2.4565 - accuracy: 0.1228 - val_loss: 2.4614 - val_accuracy: 0.1434\n",
            "Epoch 38/100\n",
            "138/138 [==============================] - 89s 645ms/step - loss: 2.4566 - accuracy: 0.1216 - val_loss: 2.4611 - val_accuracy: 0.1397\n",
            "Epoch 39/100\n",
            "138/138 [==============================] - 89s 643ms/step - loss: 2.4580 - accuracy: 0.1200 - val_loss: 2.4605 - val_accuracy: 0.1416\n",
            "Epoch 40/100\n",
            "138/138 [==============================] - 127s 924ms/step - loss: 2.4571 - accuracy: 0.1273 - val_loss: 2.4612 - val_accuracy: 0.1452\n",
            "Epoch 41/100\n",
            "138/138 [==============================] - 90s 653ms/step - loss: 2.4569 - accuracy: 0.1223 - val_loss: 2.4607 - val_accuracy: 0.1388\n",
            "Epoch 42/100\n",
            "138/138 [==============================] - 88s 640ms/step - loss: 2.4568 - accuracy: 0.1250 - val_loss: 2.4612 - val_accuracy: 0.1361\n",
            "Epoch 43/100\n",
            "138/138 [==============================] - 90s 648ms/step - loss: 2.4568 - accuracy: 0.1205 - val_loss: 2.4605 - val_accuracy: 0.1361\n",
            "Epoch 44/100\n",
            "138/138 [==============================] - 89s 642ms/step - loss: 2.4584 - accuracy: 0.1289 - val_loss: 2.4610 - val_accuracy: 0.1370\n",
            "Epoch 45/100\n",
            "138/138 [==============================] - 90s 648ms/step - loss: 2.4565 - accuracy: 0.1214 - val_loss: 2.4611 - val_accuracy: 0.1406\n",
            "Epoch 46/100\n",
            "138/138 [==============================] - 90s 648ms/step - loss: 2.4575 - accuracy: 0.1237 - val_loss: 2.4613 - val_accuracy: 0.1342\n",
            "Epoch 47/100\n",
            "138/138 [==============================] - 89s 644ms/step - loss: 2.4567 - accuracy: 0.1259 - val_loss: 2.4611 - val_accuracy: 0.1370\n",
            "Epoch 48/100\n",
            "138/138 [==============================] - 90s 648ms/step - loss: 2.4568 - accuracy: 0.1203 - val_loss: 2.4607 - val_accuracy: 0.1324\n",
            "Epoch 49/100\n",
            "138/138 [==============================] - 90s 649ms/step - loss: 2.4570 - accuracy: 0.1155 - val_loss: 2.4610 - val_accuracy: 0.1416\n",
            "Epoch 50/100\n",
            "138/138 [==============================] - 90s 649ms/step - loss: 2.4567 - accuracy: 0.1259 - val_loss: 2.4607 - val_accuracy: 0.1361\n",
            "Epoch 51/100\n",
            "138/138 [==============================] - 95s 691ms/step - loss: 2.4572 - accuracy: 0.1330 - val_loss: 2.4608 - val_accuracy: 0.1370\n",
            "Epoch 52/100\n",
            "138/138 [==============================] - 90s 651ms/step - loss: 2.4572 - accuracy: 0.1255 - val_loss: 2.4616 - val_accuracy: 0.1342\n",
            "Epoch 53/100\n",
            "138/138 [==============================] - 96s 692ms/step - loss: 2.4567 - accuracy: 0.1259 - val_loss: 2.4608 - val_accuracy: 0.1406\n",
            "Epoch 54/100\n",
            "138/138 [==============================] - 90s 652ms/step - loss: 2.4579 - accuracy: 0.1221 - val_loss: 2.4605 - val_accuracy: 0.1370\n",
            "Epoch 55/100\n",
            "138/138 [==============================] - 90s 650ms/step - loss: 2.4568 - accuracy: 0.1259 - val_loss: 2.4608 - val_accuracy: 0.1416\n",
            "Epoch 56/100\n",
            "138/138 [==============================] - 90s 650ms/step - loss: 2.4572 - accuracy: 0.1221 - val_loss: 2.4612 - val_accuracy: 0.1379\n",
            "Epoch 57/100\n",
            "138/138 [==============================] - 90s 653ms/step - loss: 2.4557 - accuracy: 0.1323 - val_loss: 2.4606 - val_accuracy: 0.1425\n",
            "do want to evaluate the model, y or n? n\n",
            "training done successfully!!\n"
          ]
        }
      ]
    },
    {
      "cell_type": "code",
      "source": [
        "main()"
      ],
      "metadata": {
        "colab": {
          "base_uri": "https://localhost:8080/"
        },
        "id": "HIqkxOKSqy9s",
        "outputId": "d150adac-e14c-420e-e6cf-60cd2294fce6"
      },
      "execution_count": null,
      "outputs": [
        {
          "output_type": "stream",
          "name": "stdout",
          "text": [
            "now please enter the name of the model: Pesticides2\n",
            "please enter the number of classes: 12\n",
            "Model: \"Pesticides2\"\n",
            "_________________________________________________________________\n",
            " Layer (type)                Output Shape              Param #   \n",
            "=================================================================\n",
            " Input (InputLayer)          [(None, 224, 224, 3)]     0         \n",
            "                                                                 \n",
            " Conv1 (Conv2D)              (None, 224, 224, 64)      1792      \n",
            "                                                                 \n",
            " Conv2 (Conv2D)              (None, 224, 224, 64)      36928     \n",
            "                                                                 \n",
            " Max_pool1 (MaxPooling2D)    (None, 112, 112, 64)      0         \n",
            "                                                                 \n",
            " Conv3 (Conv2D)              (None, 112, 112, 128)     73856     \n",
            "                                                                 \n",
            " Conv4 (Conv2D)              (None, 112, 112, 128)     147584    \n",
            "                                                                 \n",
            " Max_pool2 (MaxPooling2D)    (None, 56, 56, 128)       0         \n",
            "                                                                 \n",
            " Conv5 (Conv2D)              (None, 56, 56, 256)       295168    \n",
            "                                                                 \n",
            " Conv6 (Conv2D)              (None, 56, 56, 256)       590080    \n",
            "                                                                 \n",
            " Conv7 (Conv2D)              (None, 56, 56, 256)       590080    \n",
            "                                                                 \n",
            " Max_pool3 (MaxPooling2D)    (None, 28, 28, 256)       0         \n",
            "                                                                 \n",
            " Conv8 (Conv2D)              (None, 28, 28, 512)       1180160   \n",
            "                                                                 \n",
            " Conv9 (Conv2D)              (None, 28, 28, 512)       2359808   \n",
            "                                                                 \n",
            " Conv10 (Conv2D)             (None, 28, 28, 512)       2359808   \n",
            "                                                                 \n",
            " Max_pool4 (MaxPooling2D)    (None, 14, 14, 512)       0         \n",
            "                                                                 \n",
            " Conv11 (Conv2D)             (None, 14, 14, 512)       2359808   \n",
            "                                                                 \n",
            " Conv12 (Conv2D)             (None, 14, 14, 512)       2359808   \n",
            "                                                                 \n",
            " Conv13 (Conv2D)             (None, 14, 14, 512)       2359808   \n",
            "                                                                 \n",
            " Max_pool5 (MaxPooling2D)    (None, 7, 7, 512)         0         \n",
            "                                                                 \n",
            " flatten_5 (Flatten)         (None, 25088)             0         \n",
            "                                                                 \n",
            " Dense1 (Dense)              (None, 4096)              102764544 \n",
            "                                                                 \n",
            " Dropout1 (Dropout)          (None, 4096)              0         \n",
            "                                                                 \n",
            " Dense2 (Dense)              (None, 4096)              16781312  \n",
            "                                                                 \n",
            " Dropout2 (Dropout)          (None, 4096)              0         \n",
            "                                                                 \n",
            " Dense3 (Dense)              (None, 1000)              4097000   \n",
            "                                                                 \n",
            " Dropout3 (Dropout)          (None, 1000)              0         \n",
            "                                                                 \n",
            " Output (Dense)              (None, 12)                12012     \n",
            "                                                                 \n",
            "=================================================================\n",
            "Total params: 138369556 (527.84 MB)\n",
            "Trainable params: 138369556 (527.84 MB)\n",
            "Non-trainable params: 0 (0.00 Byte)\n",
            "_________________________________________________________________\n",
            "please enter the path of the train dataset: /content/pesticide\n",
            "want to include a validation set, y or n? n\n",
            "enter the batch size: 40\n",
            "please enter the learning rate:0.00001\n",
            "Found 4399 images belonging to 12 classes.\n",
            "Found 1095 images belonging to 12 classes.\n",
            "please enter the number of epochs: 200\n",
            "Epoch 1/200\n",
            "110/110 [==============================] - 173s 1s/step - loss: 2.4811 - accuracy: 0.0875 - val_loss: 2.4781 - val_accuracy: 0.0904\n",
            "Epoch 2/200\n",
            "110/110 [==============================] - 132s 1s/step - loss: 2.4721 - accuracy: 0.0973 - val_loss: 2.4681 - val_accuracy: 0.1032\n",
            "Epoch 3/200\n",
            "110/110 [==============================] - 111s 1s/step - loss: 2.4319 - accuracy: 0.1309 - val_loss: 2.4165 - val_accuracy: 0.1479\n",
            "Epoch 4/200\n",
            "110/110 [==============================] - 110s 1s/step - loss: 2.3330 - accuracy: 0.1869 - val_loss: 2.3043 - val_accuracy: 0.1872\n",
            "Epoch 5/200\n",
            "110/110 [==============================] - 170s 2s/step - loss: 2.2341 - accuracy: 0.2255 - val_loss: 2.2354 - val_accuracy: 0.2457\n",
            "Epoch 6/200\n",
            "110/110 [==============================] - 91s 828ms/step - loss: 2.1785 - accuracy: 0.2523 - val_loss: 2.1940 - val_accuracy: 0.2384\n",
            "Epoch 7/200\n",
            "110/110 [==============================] - 117s 1s/step - loss: 2.1270 - accuracy: 0.2642 - val_loss: 2.1497 - val_accuracy: 0.2575\n",
            "Epoch 8/200\n",
            "110/110 [==============================] - 118s 1s/step - loss: 2.0963 - accuracy: 0.2914 - val_loss: 2.1415 - val_accuracy: 0.2721\n",
            "Epoch 9/200\n",
            "110/110 [==============================] - 108s 979ms/step - loss: 2.0528 - accuracy: 0.2964 - val_loss: 2.0952 - val_accuracy: 0.2913\n",
            "Epoch 10/200\n",
            "110/110 [==============================] - 139s 1s/step - loss: 2.0108 - accuracy: 0.3128 - val_loss: 2.0787 - val_accuracy: 0.2986\n",
            "Epoch 11/200\n",
            "110/110 [==============================] - 115s 1s/step - loss: 1.9733 - accuracy: 0.3214 - val_loss: 2.0277 - val_accuracy: 0.3233\n",
            "Epoch 12/200\n",
            "110/110 [==============================] - 147s 1s/step - loss: 1.9464 - accuracy: 0.3367 - val_loss: 2.0046 - val_accuracy: 0.3306\n",
            "Epoch 13/200\n",
            "110/110 [==============================] - 109s 987ms/step - loss: 1.9146 - accuracy: 0.3499 - val_loss: 2.0010 - val_accuracy: 0.3342\n",
            "Epoch 14/200\n",
            "110/110 [==============================] - 91s 828ms/step - loss: 1.8948 - accuracy: 0.3651 - val_loss: 1.9825 - val_accuracy: 0.3279\n",
            "Epoch 15/200\n",
            "110/110 [==============================] - 91s 830ms/step - loss: 1.8777 - accuracy: 0.3660 - val_loss: 1.9671 - val_accuracy: 0.3324\n",
            "Epoch 16/200\n",
            "110/110 [==============================] - 118s 1s/step - loss: 1.8503 - accuracy: 0.3676 - val_loss: 1.9248 - val_accuracy: 0.3543\n",
            "Epoch 17/200\n",
            "110/110 [==============================] - 143s 1s/step - loss: 1.8476 - accuracy: 0.3664 - val_loss: 1.8963 - val_accuracy: 0.3689\n",
            "Epoch 18/200\n",
            "110/110 [==============================] - 91s 830ms/step - loss: 1.8255 - accuracy: 0.3844 - val_loss: 1.9245 - val_accuracy: 0.3534\n",
            "Epoch 19/200\n",
            "110/110 [==============================] - 123s 1s/step - loss: 1.8026 - accuracy: 0.3926 - val_loss: 1.9165 - val_accuracy: 0.3699\n",
            "Epoch 20/200\n",
            "110/110 [==============================] - 117s 1s/step - loss: 1.7820 - accuracy: 0.3987 - val_loss: 1.9012 - val_accuracy: 0.3799\n",
            "Epoch 21/200\n",
            "110/110 [==============================] - 92s 830ms/step - loss: 1.7770 - accuracy: 0.3992 - val_loss: 1.9093 - val_accuracy: 0.3689\n",
            "Epoch 22/200\n",
            "110/110 [==============================] - 91s 830ms/step - loss: 1.7754 - accuracy: 0.4008 - val_loss: 1.8667 - val_accuracy: 0.3772\n",
            "Epoch 23/200\n",
            "110/110 [==============================] - 113s 1s/step - loss: 1.7571 - accuracy: 0.4001 - val_loss: 1.8625 - val_accuracy: 0.3808\n",
            "Epoch 24/200\n",
            "110/110 [==============================] - 91s 826ms/step - loss: 1.7542 - accuracy: 0.4046 - val_loss: 1.8602 - val_accuracy: 0.3699\n",
            "Epoch 25/200\n",
            "110/110 [==============================] - 92s 831ms/step - loss: 1.7372 - accuracy: 0.4137 - val_loss: 1.8579 - val_accuracy: 0.3781\n",
            "Epoch 26/200\n",
            "110/110 [==============================] - 91s 829ms/step - loss: 1.7415 - accuracy: 0.4078 - val_loss: 1.8485 - val_accuracy: 0.3763\n",
            "Epoch 27/200\n",
            "110/110 [==============================] - 113s 1s/step - loss: 1.7329 - accuracy: 0.4128 - val_loss: 1.8489 - val_accuracy: 0.3854\n",
            "Epoch 28/200\n",
            "110/110 [==============================] - 141s 1s/step - loss: 1.7176 - accuracy: 0.4180 - val_loss: 1.8348 - val_accuracy: 0.3982\n",
            "Epoch 29/200\n",
            "110/110 [==============================] - 129s 1s/step - loss: 1.7125 - accuracy: 0.4146 - val_loss: 1.8161 - val_accuracy: 0.4037\n",
            "Epoch 30/200\n",
            "110/110 [==============================] - 91s 830ms/step - loss: 1.7115 - accuracy: 0.4206 - val_loss: 1.8333 - val_accuracy: 0.3872\n",
            "Epoch 31/200\n",
            "110/110 [==============================] - 92s 831ms/step - loss: 1.6998 - accuracy: 0.4301 - val_loss: 1.8237 - val_accuracy: 0.3954\n",
            "Epoch 32/200\n",
            "110/110 [==============================] - 92s 831ms/step - loss: 1.6978 - accuracy: 0.4237 - val_loss: 1.8309 - val_accuracy: 0.3900\n",
            "Epoch 33/200\n",
            "110/110 [==============================] - 91s 830ms/step - loss: 1.7025 - accuracy: 0.4196 - val_loss: 1.8132 - val_accuracy: 0.3945\n",
            "Epoch 34/200\n",
            "110/110 [==============================] - 92s 831ms/step - loss: 1.6805 - accuracy: 0.4292 - val_loss: 1.8236 - val_accuracy: 0.3872\n",
            "Epoch 35/200\n",
            "110/110 [==============================] - 91s 829ms/step - loss: 1.6889 - accuracy: 0.4326 - val_loss: 1.8444 - val_accuracy: 0.3918\n",
            "Epoch 36/200\n",
            "110/110 [==============================] - 117s 1s/step - loss: 1.6869 - accuracy: 0.4296 - val_loss: 1.8237 - val_accuracy: 0.4082\n",
            "Epoch 37/200\n",
            "110/110 [==============================] - 92s 832ms/step - loss: 1.6911 - accuracy: 0.4269 - val_loss: 1.8258 - val_accuracy: 0.3927\n",
            "Epoch 38/200\n",
            "110/110 [==============================] - 92s 835ms/step - loss: 1.6854 - accuracy: 0.4296 - val_loss: 1.8004 - val_accuracy: 0.3799\n",
            "Epoch 39/200\n",
            "110/110 [==============================] - 91s 830ms/step - loss: 1.6833 - accuracy: 0.4258 - val_loss: 1.8200 - val_accuracy: 0.3900\n",
            "Epoch 40/200\n",
            "110/110 [==============================] - 91s 827ms/step - loss: 1.6799 - accuracy: 0.4283 - val_loss: 1.8027 - val_accuracy: 0.3854\n",
            "Epoch 41/200\n",
            "110/110 [==============================] - 92s 831ms/step - loss: 1.6715 - accuracy: 0.4369 - val_loss: 1.8241 - val_accuracy: 0.3817\n",
            "Epoch 42/200\n",
            "110/110 [==============================] - 92s 831ms/step - loss: 1.6656 - accuracy: 0.4449 - val_loss: 1.8214 - val_accuracy: 0.3945\n",
            "Epoch 43/200\n",
            "110/110 [==============================] - 91s 828ms/step - loss: 1.6659 - accuracy: 0.4360 - val_loss: 1.8081 - val_accuracy: 0.4027\n",
            "Epoch 44/200\n",
            "110/110 [==============================] - 92s 835ms/step - loss: 1.6727 - accuracy: 0.4328 - val_loss: 1.8006 - val_accuracy: 0.4009\n",
            "Epoch 45/200\n",
            "110/110 [==============================] - 92s 833ms/step - loss: 1.6760 - accuracy: 0.4360 - val_loss: 1.8058 - val_accuracy: 0.4018\n",
            "Epoch 46/200\n",
            "110/110 [==============================] - 92s 831ms/step - loss: 1.6611 - accuracy: 0.4369 - val_loss: 1.8139 - val_accuracy: 0.3863\n",
            "Epoch 47/200\n",
            "110/110 [==============================] - 91s 827ms/step - loss: 1.6624 - accuracy: 0.4344 - val_loss: 1.7904 - val_accuracy: 0.4009\n",
            "Epoch 48/200\n",
            "110/110 [==============================] - 91s 826ms/step - loss: 1.6697 - accuracy: 0.4331 - val_loss: 1.8161 - val_accuracy: 0.3954\n",
            "Epoch 49/200\n",
            "110/110 [==============================] - 92s 830ms/step - loss: 1.6533 - accuracy: 0.4433 - val_loss: 1.7985 - val_accuracy: 0.3963\n",
            "Epoch 50/200\n",
            "110/110 [==============================] - 92s 831ms/step - loss: 1.6671 - accuracy: 0.4390 - val_loss: 1.7983 - val_accuracy: 0.4018\n",
            "Epoch 51/200\n",
            "110/110 [==============================] - 91s 830ms/step - loss: 1.6711 - accuracy: 0.4351 - val_loss: 1.8057 - val_accuracy: 0.4000\n",
            "Epoch 52/200\n",
            "110/110 [==============================] - 91s 830ms/step - loss: 1.6699 - accuracy: 0.4337 - val_loss: 1.7802 - val_accuracy: 0.3963\n",
            "Epoch 53/200\n",
            "110/110 [==============================] - 92s 832ms/step - loss: 1.6679 - accuracy: 0.4365 - val_loss: 1.7983 - val_accuracy: 0.3973\n",
            "Epoch 54/200\n",
            "110/110 [==============================] - 98s 887ms/step - loss: 1.6538 - accuracy: 0.4385 - val_loss: 1.7860 - val_accuracy: 0.4055\n",
            "Epoch 55/200\n",
            "110/110 [==============================] - 92s 835ms/step - loss: 1.6575 - accuracy: 0.4483 - val_loss: 1.8165 - val_accuracy: 0.4027\n",
            "Epoch 56/200\n",
            "110/110 [==============================] - 91s 830ms/step - loss: 1.6577 - accuracy: 0.4349 - val_loss: 1.8070 - val_accuracy: 0.3963\n",
            "do want to evaluate the model, y or n? N\n",
            "training done successfully!!\n"
          ]
        }
      ]
    },
    {
      "cell_type": "code",
      "source": [
        "main()"
      ],
      "metadata": {
        "colab": {
          "base_uri": "https://localhost:8080/"
        },
        "id": "LXoYFs90Daax",
        "outputId": "7b0d4e84-dd87-4209-9ec8-650a9dd43289"
      },
      "execution_count": null,
      "outputs": [
        {
          "output_type": "stream",
          "name": "stdout",
          "text": [
            "now please enter the name of the model: Pesticides3\n",
            "please enter the number of classes: 12\n",
            "Model: \"Pesticides3\"\n",
            "_________________________________________________________________\n",
            " Layer (type)                Output Shape              Param #   \n",
            "=================================================================\n",
            " Input (InputLayer)          [(None, 224, 224, 3)]     0         \n",
            "                                                                 \n",
            " Conv1 (Conv2D)              (None, 224, 224, 64)      1792      \n",
            "                                                                 \n",
            " Conv2 (Conv2D)              (None, 224, 224, 64)      36928     \n",
            "                                                                 \n",
            " Max_pool1 (MaxPooling2D)    (None, 112, 112, 64)      0         \n",
            "                                                                 \n",
            " Conv3 (Conv2D)              (None, 112, 112, 128)     73856     \n",
            "                                                                 \n",
            " Conv4 (Conv2D)              (None, 112, 112, 128)     147584    \n",
            "                                                                 \n",
            " Max_pool2 (MaxPooling2D)    (None, 56, 56, 128)       0         \n",
            "                                                                 \n",
            " Conv5 (Conv2D)              (None, 56, 56, 256)       295168    \n",
            "                                                                 \n",
            " Conv6 (Conv2D)              (None, 56, 56, 256)       590080    \n",
            "                                                                 \n",
            " Conv7 (Conv2D)              (None, 56, 56, 256)       590080    \n",
            "                                                                 \n",
            " Max_pool3 (MaxPooling2D)    (None, 28, 28, 256)       0         \n",
            "                                                                 \n",
            " Conv8 (Conv2D)              (None, 28, 28, 512)       1180160   \n",
            "                                                                 \n",
            " Conv9 (Conv2D)              (None, 28, 28, 512)       2359808   \n",
            "                                                                 \n",
            " Conv10 (Conv2D)             (None, 28, 28, 512)       2359808   \n",
            "                                                                 \n",
            " Max_pool4 (MaxPooling2D)    (None, 14, 14, 512)       0         \n",
            "                                                                 \n",
            " Conv11 (Conv2D)             (None, 14, 14, 512)       2359808   \n",
            "                                                                 \n",
            " Conv12 (Conv2D)             (None, 14, 14, 512)       2359808   \n",
            "                                                                 \n",
            " Conv13 (Conv2D)             (None, 14, 14, 512)       2359808   \n",
            "                                                                 \n",
            " Max_pool5 (MaxPooling2D)    (None, 7, 7, 512)         0         \n",
            "                                                                 \n",
            " flatten_1 (Flatten)         (None, 25088)             0         \n",
            "                                                                 \n",
            " Dense1 (Dense)              (None, 4096)              102764544 \n",
            "                                                                 \n",
            " Dropout1 (Dropout)          (None, 4096)              0         \n",
            "                                                                 \n",
            " Dense2 (Dense)              (None, 4096)              16781312  \n",
            "                                                                 \n",
            " Dropout2 (Dropout)          (None, 4096)              0         \n",
            "                                                                 \n",
            " Dense3 (Dense)              (None, 1000)              4097000   \n",
            "                                                                 \n",
            " Dropout3 (Dropout)          (None, 1000)              0         \n",
            "                                                                 \n",
            " Output (Dense)              (None, 12)                12012     \n",
            "                                                                 \n",
            "=================================================================\n",
            "Total params: 138369556 (527.84 MB)\n",
            "Trainable params: 138369556 (527.84 MB)\n",
            "Non-trainable params: 0 (0.00 Byte)\n",
            "_________________________________________________________________\n",
            "please enter the path of the train dataset: /content/pesticide\n",
            "want to include a validation set, y or n? n\n",
            "enter the batch size: 64\n",
            "please enter the learning rate:0.00005\n",
            "Found 4399 images belonging to 12 classes.\n",
            "Found 1095 images belonging to 12 classes.\n",
            "please enter the number of epochs: 100\n",
            "Epoch 1/100\n",
            "69/69 [==============================] - 179s 2s/step - loss: 2.4810 - accuracy: 0.0859 - val_loss: 2.4805 - val_accuracy: 0.0904\n",
            "Epoch 2/100\n",
            "69/69 [==============================] - 109s 2s/step - loss: 2.4651 - accuracy: 0.0893 - val_loss: 2.4514 - val_accuracy: 0.1379\n",
            "Epoch 3/100\n",
            "69/69 [==============================] - 128s 2s/step - loss: 2.4254 - accuracy: 0.1266 - val_loss: 2.4064 - val_accuracy: 0.1553\n",
            "Epoch 4/100\n",
            "69/69 [==============================] - 109s 2s/step - loss: 2.3777 - accuracy: 0.1512 - val_loss: 2.3721 - val_accuracy: 0.1699\n",
            "Epoch 5/100\n",
            "69/69 [==============================] - 119s 2s/step - loss: 2.3102 - accuracy: 0.1955 - val_loss: 2.3267 - val_accuracy: 0.2137\n",
            "Epoch 6/100\n",
            "69/69 [==============================] - 123s 2s/step - loss: 2.2230 - accuracy: 0.2321 - val_loss: 2.1867 - val_accuracy: 0.2466\n",
            "Epoch 7/100\n",
            "69/69 [==============================] - 107s 2s/step - loss: 2.0984 - accuracy: 0.2771 - val_loss: 2.0887 - val_accuracy: 0.2785\n",
            "Epoch 8/100\n",
            "69/69 [==============================] - 111s 2s/step - loss: 2.0214 - accuracy: 0.3062 - val_loss: 2.0466 - val_accuracy: 0.3215\n",
            "Epoch 9/100\n",
            "69/69 [==============================] - 111s 2s/step - loss: 1.9252 - accuracy: 0.3487 - val_loss: 1.9491 - val_accuracy: 0.3543\n",
            "Epoch 10/100\n",
            "69/69 [==============================] - 121s 2s/step - loss: 1.8657 - accuracy: 0.3699 - val_loss: 1.9195 - val_accuracy: 0.3589\n",
            "Epoch 11/100\n",
            "69/69 [==============================] - 119s 2s/step - loss: 1.8010 - accuracy: 0.3874 - val_loss: 1.8540 - val_accuracy: 0.3872\n",
            "Epoch 12/100\n",
            "69/69 [==============================] - 96s 1s/step - loss: 1.7287 - accuracy: 0.4180 - val_loss: 1.8791 - val_accuracy: 0.3808\n",
            "Epoch 13/100\n",
            "69/69 [==============================] - 114s 2s/step - loss: 1.7105 - accuracy: 0.4171 - val_loss: 1.8115 - val_accuracy: 0.3881\n",
            "Epoch 14/100\n",
            "69/69 [==============================] - 115s 2s/step - loss: 1.6841 - accuracy: 0.4283 - val_loss: 1.8252 - val_accuracy: 0.4037\n",
            "Epoch 15/100\n",
            "69/69 [==============================] - 106s 2s/step - loss: 1.6294 - accuracy: 0.4517 - val_loss: 1.7443 - val_accuracy: 0.4174\n",
            "Epoch 16/100\n",
            "69/69 [==============================] - 106s 2s/step - loss: 1.6051 - accuracy: 0.4533 - val_loss: 1.8089 - val_accuracy: 0.4201\n",
            "Epoch 17/100\n",
            "69/69 [==============================] - 107s 2s/step - loss: 1.5505 - accuracy: 0.4735 - val_loss: 1.7206 - val_accuracy: 0.4384\n",
            "Epoch 18/100\n",
            "69/69 [==============================] - 96s 1s/step - loss: 1.5289 - accuracy: 0.4733 - val_loss: 1.7354 - val_accuracy: 0.4192\n",
            "Epoch 19/100\n",
            "69/69 [==============================] - 99s 1s/step - loss: 1.4822 - accuracy: 0.4915 - val_loss: 1.7065 - val_accuracy: 0.4256\n",
            "Epoch 20/100\n",
            "69/69 [==============================] - 110s 2s/step - loss: 1.4493 - accuracy: 0.5126 - val_loss: 1.6610 - val_accuracy: 0.4438\n",
            "Epoch 21/100\n",
            "69/69 [==============================] - 111s 2s/step - loss: 1.4177 - accuracy: 0.5194 - val_loss: 1.6462 - val_accuracy: 0.4493\n",
            "Epoch 22/100\n",
            "69/69 [==============================] - 106s 2s/step - loss: 1.3657 - accuracy: 0.5342 - val_loss: 1.6036 - val_accuracy: 0.4575\n",
            "Epoch 23/100\n",
            "69/69 [==============================] - 96s 1s/step - loss: 1.3394 - accuracy: 0.5394 - val_loss: 1.6571 - val_accuracy: 0.4411\n",
            "Epoch 24/100\n",
            "69/69 [==============================] - 96s 1s/step - loss: 1.3068 - accuracy: 0.5533 - val_loss: 1.6370 - val_accuracy: 0.4511\n",
            "Epoch 25/100\n",
            "69/69 [==============================] - 96s 1s/step - loss: 1.2733 - accuracy: 0.5781 - val_loss: 1.7353 - val_accuracy: 0.4210\n",
            "Epoch 26/100\n",
            "69/69 [==============================] - 108s 2s/step - loss: 1.2469 - accuracy: 0.5817 - val_loss: 1.6178 - val_accuracy: 0.4776\n",
            "Epoch 27/100\n",
            "69/69 [==============================] - 96s 1s/step - loss: 1.2136 - accuracy: 0.5885 - val_loss: 1.6226 - val_accuracy: 0.4776\n",
            "Epoch 28/100\n",
            "69/69 [==============================] - 108s 2s/step - loss: 1.1840 - accuracy: 0.6020 - val_loss: 1.5971 - val_accuracy: 0.4813\n",
            "Epoch 29/100\n",
            "69/69 [==============================] - 96s 1s/step - loss: 1.1577 - accuracy: 0.6085 - val_loss: 1.5891 - val_accuracy: 0.4712\n",
            "Epoch 30/100\n",
            "69/69 [==============================] - 112s 2s/step - loss: 1.1227 - accuracy: 0.6274 - val_loss: 1.5923 - val_accuracy: 0.4877\n",
            "Epoch 31/100\n",
            "69/69 [==============================] - 107s 2s/step - loss: 1.0778 - accuracy: 0.6361 - val_loss: 1.5867 - val_accuracy: 0.5005\n",
            "Epoch 32/100\n",
            "69/69 [==============================] - 96s 1s/step - loss: 1.0288 - accuracy: 0.6486 - val_loss: 1.6792 - val_accuracy: 0.4685\n",
            "Epoch 33/100\n",
            "69/69 [==============================] - 95s 1s/step - loss: 1.0123 - accuracy: 0.6622 - val_loss: 1.6841 - val_accuracy: 0.4740\n",
            "Epoch 34/100\n",
            "69/69 [==============================] - 96s 1s/step - loss: 0.9942 - accuracy: 0.6597 - val_loss: 1.6908 - val_accuracy: 0.4840\n",
            "Epoch 35/100\n",
            "69/69 [==============================] - 97s 1s/step - loss: 0.9621 - accuracy: 0.6777 - val_loss: 1.6539 - val_accuracy: 0.4712\n",
            "Epoch 36/100\n",
            "69/69 [==============================] - 117s 2s/step - loss: 0.9513 - accuracy: 0.6804 - val_loss: 1.7017 - val_accuracy: 0.5050\n",
            "Epoch 37/100\n",
            "69/69 [==============================] - 102s 1s/step - loss: 0.9387 - accuracy: 0.6858 - val_loss: 1.6769 - val_accuracy: 0.4904\n",
            "Epoch 38/100\n",
            "69/69 [==============================] - 101s 1s/step - loss: 0.9040 - accuracy: 0.6977 - val_loss: 1.6812 - val_accuracy: 0.4840\n",
            "Epoch 39/100\n",
            "69/69 [==============================] - 103s 1s/step - loss: 0.8736 - accuracy: 0.7045 - val_loss: 1.7955 - val_accuracy: 0.4804\n",
            "Epoch 40/100\n",
            "69/69 [==============================] - 101s 1s/step - loss: 0.8704 - accuracy: 0.7065 - val_loss: 1.7796 - val_accuracy: 0.4712\n",
            "Epoch 41/100\n",
            "69/69 [==============================] - 102s 1s/step - loss: 0.8579 - accuracy: 0.7102 - val_loss: 1.7087 - val_accuracy: 0.4959\n",
            "do want to evaluate the model, y or n? n\n",
            "training done successfully!!\n"
          ]
        }
      ]
    },
    {
      "cell_type": "code",
      "source": [
        "main()"
      ],
      "metadata": {
        "colab": {
          "base_uri": "https://localhost:8080/"
        },
        "id": "I2xGL3UuajC-",
        "outputId": "e866d404-623a-4ba9-ff16-e3de9930e421"
      },
      "execution_count": null,
      "outputs": [
        {
          "output_type": "stream",
          "name": "stdout",
          "text": [
            "now please enter the name of the model: Pesticides4\n",
            "please enter the number of classes: 12\n",
            "Model: \"Pesticides4\"\n",
            "_________________________________________________________________\n",
            " Layer (type)                Output Shape              Param #   \n",
            "=================================================================\n",
            " Input (InputLayer)          [(None, 224, 224, 3)]     0         \n",
            "                                                                 \n",
            " Conv1 (Conv2D)              (None, 224, 224, 64)      1792      \n",
            "                                                                 \n",
            " Conv2 (Conv2D)              (None, 224, 224, 64)      36928     \n",
            "                                                                 \n",
            " Max_pool1 (MaxPooling2D)    (None, 112, 112, 64)      0         \n",
            "                                                                 \n",
            " Conv3 (Conv2D)              (None, 112, 112, 128)     73856     \n",
            "                                                                 \n",
            " Conv4 (Conv2D)              (None, 112, 112, 128)     147584    \n",
            "                                                                 \n",
            " Max_pool2 (MaxPooling2D)    (None, 56, 56, 128)       0         \n",
            "                                                                 \n",
            " Conv5 (Conv2D)              (None, 56, 56, 256)       295168    \n",
            "                                                                 \n",
            " Conv6 (Conv2D)              (None, 56, 56, 256)       590080    \n",
            "                                                                 \n",
            " Conv7 (Conv2D)              (None, 56, 56, 256)       590080    \n",
            "                                                                 \n",
            " Max_pool3 (MaxPooling2D)    (None, 28, 28, 256)       0         \n",
            "                                                                 \n",
            " Conv8 (Conv2D)              (None, 28, 28, 512)       1180160   \n",
            "                                                                 \n",
            " Conv9 (Conv2D)              (None, 28, 28, 512)       2359808   \n",
            "                                                                 \n",
            " Conv10 (Conv2D)             (None, 28, 28, 512)       2359808   \n",
            "                                                                 \n",
            " Max_pool4 (MaxPooling2D)    (None, 14, 14, 512)       0         \n",
            "                                                                 \n",
            " Conv11 (Conv2D)             (None, 14, 14, 512)       2359808   \n",
            "                                                                 \n",
            " Conv12 (Conv2D)             (None, 14, 14, 512)       2359808   \n",
            "                                                                 \n",
            " Conv13 (Conv2D)             (None, 14, 14, 512)       2359808   \n",
            "                                                                 \n",
            " Max_pool5 (MaxPooling2D)    (None, 7, 7, 512)         0         \n",
            "                                                                 \n",
            " flatten_2 (Flatten)         (None, 25088)             0         \n",
            "                                                                 \n",
            " Dense1 (Dense)              (None, 4096)              102764544 \n",
            "                                                                 \n",
            " Dropout1 (Dropout)          (None, 4096)              0         \n",
            "                                                                 \n",
            " Dense2 (Dense)              (None, 4096)              16781312  \n",
            "                                                                 \n",
            " Dropout2 (Dropout)          (None, 4096)              0         \n",
            "                                                                 \n",
            " Dense3 (Dense)              (None, 1000)              4097000   \n",
            "                                                                 \n",
            " Dropout3 (Dropout)          (None, 1000)              0         \n",
            "                                                                 \n",
            " Output (Dense)              (None, 12)                12012     \n",
            "                                                                 \n",
            "=================================================================\n",
            "Total params: 138369556 (527.84 MB)\n",
            "Trainable params: 138369556 (527.84 MB)\n",
            "Non-trainable params: 0 (0.00 Byte)\n",
            "_________________________________________________________________\n",
            "please enter the path of the train dataset: /content/pesticide\n",
            "want to include a validation set, y or n? n\n",
            "enter the batch size: 96\n",
            "please enter the learning rate:0.0001\n",
            "Found 4399 images belonging to 12 classes.\n",
            "Found 1095 images belonging to 12 classes.\n",
            "please enter the number of epochs: 100\n",
            "Epoch 1/100\n",
            "46/46 [==============================] - 208s 3s/step - loss: 2.4796 - accuracy: 0.0830 - val_loss: 2.4553 - val_accuracy: 0.0913\n",
            "Epoch 2/100\n",
            "46/46 [==============================] - 113s 2s/step - loss: 2.4520 - accuracy: 0.1164 - val_loss: 2.4261 - val_accuracy: 0.1589\n",
            "Epoch 3/100\n",
            "46/46 [==============================] - 112s 2s/step - loss: 2.3880 - accuracy: 0.1430 - val_loss: 2.3836 - val_accuracy: 0.1644\n",
            "Epoch 4/100\n",
            "46/46 [==============================] - 109s 2s/step - loss: 2.3177 - accuracy: 0.1739 - val_loss: 2.2351 - val_accuracy: 0.2037\n",
            "Epoch 5/100\n",
            "46/46 [==============================] - 132s 3s/step - loss: 2.2369 - accuracy: 0.2021 - val_loss: 2.1874 - val_accuracy: 0.2201\n",
            "Epoch 6/100\n",
            "46/46 [==============================] - 128s 3s/step - loss: 2.1862 - accuracy: 0.2273 - val_loss: 2.1547 - val_accuracy: 0.2301\n",
            "Epoch 7/100\n",
            "46/46 [==============================] - 129s 3s/step - loss: 2.1218 - accuracy: 0.2578 - val_loss: 2.0206 - val_accuracy: 0.3032\n",
            "Epoch 8/100\n",
            "46/46 [==============================] - 98s 2s/step - loss: 2.0462 - accuracy: 0.2887 - val_loss: 2.0750 - val_accuracy: 0.2858\n",
            "Epoch 9/100\n",
            "46/46 [==============================] - 137s 3s/step - loss: 1.9921 - accuracy: 0.3196 - val_loss: 2.0014 - val_accuracy: 0.3333\n",
            "Epoch 10/100\n",
            "46/46 [==============================] - 98s 2s/step - loss: 1.9377 - accuracy: 0.3439 - val_loss: 1.9706 - val_accuracy: 0.3169\n",
            "Epoch 11/100\n",
            "46/46 [==============================] - 128s 3s/step - loss: 1.8691 - accuracy: 0.3583 - val_loss: 1.8279 - val_accuracy: 0.3863\n",
            "Epoch 12/100\n",
            "46/46 [==============================] - 139s 3s/step - loss: 1.7651 - accuracy: 0.4055 - val_loss: 1.7870 - val_accuracy: 0.3900\n",
            "Epoch 13/100\n",
            "46/46 [==============================] - 120s 3s/step - loss: 1.7291 - accuracy: 0.4208 - val_loss: 1.7404 - val_accuracy: 0.4055\n",
            "Epoch 14/100\n",
            "46/46 [==============================] - 124s 3s/step - loss: 1.6442 - accuracy: 0.4444 - val_loss: 1.7389 - val_accuracy: 0.4228\n",
            "Epoch 15/100\n",
            "46/46 [==============================] - 129s 3s/step - loss: 1.5775 - accuracy: 0.4626 - val_loss: 1.6958 - val_accuracy: 0.4265\n",
            "Epoch 16/100\n",
            "46/46 [==============================] - 131s 3s/step - loss: 1.5124 - accuracy: 0.4897 - val_loss: 1.6765 - val_accuracy: 0.4347\n",
            "Epoch 17/100\n",
            "46/46 [==============================] - 151s 3s/step - loss: 1.4678 - accuracy: 0.5047 - val_loss: 1.6113 - val_accuracy: 0.4594\n",
            "Epoch 18/100\n",
            "46/46 [==============================] - 99s 2s/step - loss: 1.3954 - accuracy: 0.5297 - val_loss: 1.6160 - val_accuracy: 0.4447\n",
            "Epoch 19/100\n",
            "46/46 [==============================] - 129s 3s/step - loss: 1.3469 - accuracy: 0.5385 - val_loss: 1.6251 - val_accuracy: 0.4603\n",
            "Epoch 20/100\n",
            "46/46 [==============================] - 154s 3s/step - loss: 1.2766 - accuracy: 0.5683 - val_loss: 1.5710 - val_accuracy: 0.4858\n",
            "Epoch 21/100\n",
            "46/46 [==============================] - 98s 2s/step - loss: 1.2148 - accuracy: 0.5935 - val_loss: 1.6290 - val_accuracy: 0.4384\n",
            "Epoch 22/100\n",
            "46/46 [==============================] - 161s 4s/step - loss: 1.1720 - accuracy: 0.6017 - val_loss: 1.5685 - val_accuracy: 0.4868\n",
            "Epoch 23/100\n",
            "46/46 [==============================] - 98s 2s/step - loss: 1.1114 - accuracy: 0.6142 - val_loss: 1.5448 - val_accuracy: 0.4758\n",
            "Epoch 24/100\n",
            "46/46 [==============================] - 158s 3s/step - loss: 1.0535 - accuracy: 0.6431 - val_loss: 1.5905 - val_accuracy: 0.5023\n",
            "Epoch 25/100\n",
            "46/46 [==============================] - 101s 2s/step - loss: 1.0052 - accuracy: 0.6529 - val_loss: 1.6360 - val_accuracy: 0.4877\n",
            "Epoch 26/100\n",
            "46/46 [==============================] - 137s 3s/step - loss: 0.9569 - accuracy: 0.6704 - val_loss: 1.5953 - val_accuracy: 0.5059\n",
            "Epoch 27/100\n",
            "46/46 [==============================] - 98s 2s/step - loss: 0.9168 - accuracy: 0.6831 - val_loss: 1.6458 - val_accuracy: 0.4977\n",
            "Epoch 28/100\n",
            "46/46 [==============================] - 98s 2s/step - loss: 0.8493 - accuracy: 0.7122 - val_loss: 1.6730 - val_accuracy: 0.4959\n",
            "Epoch 29/100\n",
            "46/46 [==============================] - 162s 4s/step - loss: 0.7944 - accuracy: 0.7358 - val_loss: 1.6647 - val_accuracy: 0.5151\n",
            "Epoch 30/100\n",
            "46/46 [==============================] - 100s 2s/step - loss: 0.7400 - accuracy: 0.7493 - val_loss: 1.7498 - val_accuracy: 0.4895\n",
            "Epoch 31/100\n",
            "46/46 [==============================] - 98s 2s/step - loss: 0.7027 - accuracy: 0.7604 - val_loss: 1.7046 - val_accuracy: 0.5151\n",
            "Epoch 32/100\n",
            "46/46 [==============================] - 98s 2s/step - loss: 0.6391 - accuracy: 0.7850 - val_loss: 1.8831 - val_accuracy: 0.5068\n",
            "Epoch 33/100\n",
            "46/46 [==============================] - 99s 2s/step - loss: 0.5914 - accuracy: 0.7959 - val_loss: 1.7666 - val_accuracy: 0.5068\n",
            "Epoch 34/100\n",
            "46/46 [==============================] - 98s 2s/step - loss: 0.5696 - accuracy: 0.8145 - val_loss: 1.9935 - val_accuracy: 0.5096\n",
            "Epoch 35/100\n",
            "46/46 [==============================] - 99s 2s/step - loss: 0.5181 - accuracy: 0.8222 - val_loss: 1.8664 - val_accuracy: 0.5078\n",
            "Epoch 36/100\n",
            "46/46 [==============================] - 98s 2s/step - loss: 0.4322 - accuracy: 0.8613 - val_loss: 2.0062 - val_accuracy: 0.4986\n",
            "Epoch 37/100\n",
            "46/46 [==============================] - 98s 2s/step - loss: 0.4190 - accuracy: 0.8627 - val_loss: 2.0925 - val_accuracy: 0.5023\n",
            "Epoch 38/100\n",
            "46/46 [==============================] - 97s 2s/step - loss: 0.3756 - accuracy: 0.8793 - val_loss: 2.2108 - val_accuracy: 0.4932\n",
            "Epoch 39/100\n",
            "46/46 [==============================] - 98s 2s/step - loss: 0.3304 - accuracy: 0.8891 - val_loss: 2.2807 - val_accuracy: 0.4785\n",
            "do want to evaluate the model, y or n? n\n",
            "training done successfully!!\n"
          ]
        }
      ]
    },
    {
      "cell_type": "markdown",
      "source": [
        "# Dataset 3:\n",
        "\n",
        "this was the most viable dataset for the model, it reached a validation accuracy of 88.3% and a loss of 0.36(the model has an accuracy of 92% on the Imagenet test), clearly the best fitting test so far, altough a higher accuracy is achievable, the model still needs more fine tuning and adjustment and with the lack of computational resources, this dataset needs more testing."
      ],
      "metadata": {
        "id": "wFGWN6dn9nWu"
      }
    },
    {
      "cell_type": "code",
      "source": [
        "# Extracting the dataset file\n",
        "zip_ref = zipfile.ZipFile('/content/imagescene.zip')\n",
        "zip_ref.extractall()\n",
        "zip_ref.close()"
      ],
      "metadata": {
        "id": "N7_LIw7u0H_d"
      },
      "execution_count": 25,
      "outputs": []
    },
    {
      "cell_type": "code",
      "source": [
        "main()"
      ],
      "metadata": {
        "colab": {
          "base_uri": "https://localhost:8080/"
        },
        "id": "Fmlw6Rpy0KkJ",
        "outputId": "bbe253f4-07d1-470e-c2cb-c1c7e16d06bb"
      },
      "execution_count": null,
      "outputs": [
        {
          "output_type": "stream",
          "name": "stdout",
          "text": [
            "now please enter the name of the model: Scenery\n",
            "please enter the number of classes: 6\n",
            "Model: \"Scenery\"\n",
            "_________________________________________________________________\n",
            " Layer (type)                Output Shape              Param #   \n",
            "=================================================================\n",
            " Input (InputLayer)          [(None, 224, 224, 3)]     0         \n",
            "                                                                 \n",
            " Conv1 (Conv2D)              (None, 224, 224, 64)      1792      \n",
            "                                                                 \n",
            " Conv2 (Conv2D)              (None, 224, 224, 64)      36928     \n",
            "                                                                 \n",
            " Max_pool1 (MaxPooling2D)    (None, 112, 112, 64)      0         \n",
            "                                                                 \n",
            " Conv3 (Conv2D)              (None, 112, 112, 128)     73856     \n",
            "                                                                 \n",
            " Conv4 (Conv2D)              (None, 112, 112, 128)     147584    \n",
            "                                                                 \n",
            " Max_pool2 (MaxPooling2D)    (None, 56, 56, 128)       0         \n",
            "                                                                 \n",
            " Conv5 (Conv2D)              (None, 56, 56, 256)       295168    \n",
            "                                                                 \n",
            " Conv6 (Conv2D)              (None, 56, 56, 256)       590080    \n",
            "                                                                 \n",
            " Conv7 (Conv2D)              (None, 56, 56, 256)       590080    \n",
            "                                                                 \n",
            " Max_pool3 (MaxPooling2D)    (None, 28, 28, 256)       0         \n",
            "                                                                 \n",
            " Conv8 (Conv2D)              (None, 28, 28, 512)       1180160   \n",
            "                                                                 \n",
            " Conv9 (Conv2D)              (None, 28, 28, 512)       2359808   \n",
            "                                                                 \n",
            " Conv10 (Conv2D)             (None, 28, 28, 512)       2359808   \n",
            "                                                                 \n",
            " Max_pool4 (MaxPooling2D)    (None, 14, 14, 512)       0         \n",
            "                                                                 \n",
            " Conv11 (Conv2D)             (None, 14, 14, 512)       2359808   \n",
            "                                                                 \n",
            " Conv12 (Conv2D)             (None, 14, 14, 512)       2359808   \n",
            "                                                                 \n",
            " Conv13 (Conv2D)             (None, 14, 14, 512)       2359808   \n",
            "                                                                 \n",
            " Max_pool5 (MaxPooling2D)    (None, 7, 7, 512)         0         \n",
            "                                                                 \n",
            " flatten_1 (Flatten)         (None, 25088)             0         \n",
            "                                                                 \n",
            " Dense1 (Dense)              (None, 4096)              102764544 \n",
            "                                                                 \n",
            " Dropout1 (Dropout)          (None, 4096)              0         \n",
            "                                                                 \n",
            " Dense2 (Dense)              (None, 4096)              16781312  \n",
            "                                                                 \n",
            " Dropout2 (Dropout)          (None, 4096)              0         \n",
            "                                                                 \n",
            " Dense3 (Dense)              (None, 1000)              4097000   \n",
            "                                                                 \n",
            " Dropout3 (Dropout)          (None, 1000)              0         \n",
            "                                                                 \n",
            " Output (Dense)              (None, 6)                 6006      \n",
            "                                                                 \n",
            "=================================================================\n",
            "Total params: 138363550 (527.82 MB)\n",
            "Trainable params: 138363550 (527.82 MB)\n",
            "Non-trainable params: 0 (0.00 Byte)\n",
            "_________________________________________________________________\n",
            "please enter the path of the train dataset: /content/seg_train/seg_train\n",
            "want to include a validation set, y or n? y\n",
            "then please enter the path of the validation dataset: /content/seg_test/seg_test\n",
            "enter the batch size: 96\n",
            "please enter the learning rate:0.0001\n",
            "Found 14034 images belonging to 6 classes.\n",
            "Found 3000 images belonging to 6 classes.\n",
            "please enter the number of epochs: 100\n",
            "Epoch 1/100\n",
            "147/147 [==============================] - 374s 2s/step - loss: 1.2869 - accuracy: 0.4802 - val_loss: 0.9824 - val_accuracy: 0.5950\n",
            "Epoch 2/100\n",
            "147/147 [==============================] - 308s 2s/step - loss: 0.9599 - accuracy: 0.6137 - val_loss: 0.9004 - val_accuracy: 0.6287\n",
            "Epoch 3/100\n",
            "147/147 [==============================] - 314s 2s/step - loss: 0.8578 - accuracy: 0.6602 - val_loss: 0.7681 - val_accuracy: 0.6997\n",
            "Epoch 4/100\n",
            "147/147 [==============================] - 346s 2s/step - loss: 0.7312 - accuracy: 0.7232 - val_loss: 0.6733 - val_accuracy: 0.7470\n",
            "Epoch 5/100\n",
            "147/147 [==============================] - 315s 2s/step - loss: 0.6515 - accuracy: 0.7563 - val_loss: 0.6641 - val_accuracy: 0.7510\n",
            "Epoch 6/100\n",
            "147/147 [==============================] - 347s 2s/step - loss: 0.5750 - accuracy: 0.7891 - val_loss: 0.5320 - val_accuracy: 0.8027\n",
            "Epoch 7/100\n",
            "147/147 [==============================] - 297s 2s/step - loss: 0.5203 - accuracy: 0.8126 - val_loss: 0.5938 - val_accuracy: 0.7757\n",
            "Epoch 8/100\n",
            "147/147 [==============================] - 350s 2s/step - loss: 0.4847 - accuracy: 0.8291 - val_loss: 0.5029 - val_accuracy: 0.8217\n",
            "Epoch 9/100\n",
            "147/147 [==============================] - 311s 2s/step - loss: 0.4368 - accuracy: 0.8443 - val_loss: 0.4491 - val_accuracy: 0.8420\n",
            "Epoch 10/100\n",
            "147/147 [==============================] - 314s 2s/step - loss: 0.4176 - accuracy: 0.8506 - val_loss: 0.4179 - val_accuracy: 0.8560\n",
            "Epoch 11/100\n",
            "147/147 [==============================] - 296s 2s/step - loss: 0.4032 - accuracy: 0.8573 - val_loss: 0.4175 - val_accuracy: 0.8517\n",
            "Epoch 12/100\n",
            "147/147 [==============================] - 310s 2s/step - loss: 0.3728 - accuracy: 0.8681 - val_loss: 0.3966 - val_accuracy: 0.8643\n",
            "Epoch 13/100\n",
            "147/147 [==============================] - 306s 2s/step - loss: 0.3595 - accuracy: 0.8720 - val_loss: 0.3732 - val_accuracy: 0.8683\n",
            "Epoch 14/100\n",
            "147/147 [==============================] - 334s 2s/step - loss: 0.3467 - accuracy: 0.8762 - val_loss: 0.3834 - val_accuracy: 0.8667\n",
            "Epoch 15/100\n",
            "147/147 [==============================] - 312s 2s/step - loss: 0.3308 - accuracy: 0.8841 - val_loss: 0.3694 - val_accuracy: 0.8693\n",
            "Epoch 16/100\n",
            "147/147 [==============================] - 308s 2s/step - loss: 0.3139 - accuracy: 0.8898 - val_loss: 0.3741 - val_accuracy: 0.8750\n",
            "Epoch 17/100\n",
            "147/147 [==============================] - 313s 2s/step - loss: 0.3020 - accuracy: 0.8928 - val_loss: 0.3516 - val_accuracy: 0.8803\n",
            "Epoch 18/100\n",
            "147/147 [==============================] - 293s 2s/step - loss: 0.3005 - accuracy: 0.8947 - val_loss: 0.3560 - val_accuracy: 0.8750\n",
            "Epoch 19/100\n",
            "147/147 [==============================] - 294s 2s/step - loss: 0.2850 - accuracy: 0.8992 - val_loss: 0.3547 - val_accuracy: 0.8770\n",
            "Epoch 20/100\n",
            "147/147 [==============================] - 293s 2s/step - loss: 0.2784 - accuracy: 0.9015 - val_loss: 0.3555 - val_accuracy: 0.8777\n",
            "Epoch 21/100\n",
            "147/147 [==============================] - 293s 2s/step - loss: 0.2659 - accuracy: 0.9057 - val_loss: 0.3526 - val_accuracy: 0.8783\n",
            "Epoch 22/100\n",
            "147/147 [==============================] - 293s 2s/step - loss: 0.2603 - accuracy: 0.9067 - val_loss: 0.3524 - val_accuracy: 0.8800\n",
            "Epoch 23/100\n",
            "147/147 [==============================] - 294s 2s/step - loss: 0.2541 - accuracy: 0.9099 - val_loss: 0.3654 - val_accuracy: 0.8753\n",
            "Epoch 24/100\n",
            "147/147 [==============================] - 307s 2s/step - loss: 0.2516 - accuracy: 0.9107 - val_loss: 0.3466 - val_accuracy: 0.8823\n",
            "Epoch 25/100\n",
            "147/147 [==============================] - 349s 2s/step - loss: 0.2443 - accuracy: 0.9124 - val_loss: 0.3451 - val_accuracy: 0.8827\n",
            "Epoch 26/100\n",
            "147/147 [==============================] - 305s 2s/step - loss: 0.2409 - accuracy: 0.9146 - val_loss: 0.3590 - val_accuracy: 0.8837\n",
            "Epoch 27/100\n",
            "147/147 [==============================] - 333s 2s/step - loss: 0.2374 - accuracy: 0.9147 - val_loss: 0.3665 - val_accuracy: 0.8803\n",
            "do want to evaluate the model, y or n? n\n",
            "training done successfully!!\n"
          ]
        }
      ]
    },
    {
      "cell_type": "code",
      "source": [
        "# Extracting the dataset file\n",
        "zip_ref = zipfile.ZipFile('/content/Scenery_model.zip')\n",
        "zip_ref.extractall()\n",
        "zip_ref.close()"
      ],
      "metadata": {
        "id": "bPy2rwNyLBvh"
      },
      "execution_count": 17,
      "outputs": []
    },
    {
      "cell_type": "code",
      "source": [
        "model = modelLoad(\"/content/Scenery_model.keras\")"
      ],
      "metadata": {
        "id": "JNjZcLDcLdK1"
      },
      "execution_count": 8,
      "outputs": []
    },
    {
      "cell_type": "code",
      "source": [
        "model.summary()"
      ],
      "metadata": {
        "colab": {
          "base_uri": "https://localhost:8080/"
        },
        "id": "230rDJosL-tD",
        "outputId": "94ed2818-6405-4f12-a63a-40932897a571"
      },
      "execution_count": 9,
      "outputs": [
        {
          "output_type": "stream",
          "name": "stdout",
          "text": [
            "Model: \"Scenery\"\n",
            "_________________________________________________________________\n",
            " Layer (type)                Output Shape              Param #   \n",
            "=================================================================\n",
            " Input (InputLayer)          [(None, 224, 224, 3)]     0         \n",
            "                                                                 \n",
            " Conv1 (Conv2D)              (None, 224, 224, 64)      1792      \n",
            "                                                                 \n",
            " Conv2 (Conv2D)              (None, 224, 224, 64)      36928     \n",
            "                                                                 \n",
            " Max_pool1 (MaxPooling2D)    (None, 112, 112, 64)      0         \n",
            "                                                                 \n",
            " Conv3 (Conv2D)              (None, 112, 112, 128)     73856     \n",
            "                                                                 \n",
            " Conv4 (Conv2D)              (None, 112, 112, 128)     147584    \n",
            "                                                                 \n",
            " Max_pool2 (MaxPooling2D)    (None, 56, 56, 128)       0         \n",
            "                                                                 \n",
            " Conv5 (Conv2D)              (None, 56, 56, 256)       295168    \n",
            "                                                                 \n",
            " Conv6 (Conv2D)              (None, 56, 56, 256)       590080    \n",
            "                                                                 \n",
            " Conv7 (Conv2D)              (None, 56, 56, 256)       590080    \n",
            "                                                                 \n",
            " Max_pool3 (MaxPooling2D)    (None, 28, 28, 256)       0         \n",
            "                                                                 \n",
            " Conv8 (Conv2D)              (None, 28, 28, 512)       1180160   \n",
            "                                                                 \n",
            " Conv9 (Conv2D)              (None, 28, 28, 512)       2359808   \n",
            "                                                                 \n",
            " Conv10 (Conv2D)             (None, 28, 28, 512)       2359808   \n",
            "                                                                 \n",
            " Max_pool4 (MaxPooling2D)    (None, 14, 14, 512)       0         \n",
            "                                                                 \n",
            " Conv11 (Conv2D)             (None, 14, 14, 512)       2359808   \n",
            "                                                                 \n",
            " Conv12 (Conv2D)             (None, 14, 14, 512)       2359808   \n",
            "                                                                 \n",
            " Conv13 (Conv2D)             (None, 14, 14, 512)       2359808   \n",
            "                                                                 \n",
            " Max_pool5 (MaxPooling2D)    (None, 7, 7, 512)         0         \n",
            "                                                                 \n",
            " flatten_1 (Flatten)         (None, 25088)             0         \n",
            "                                                                 \n",
            " Dense1 (Dense)              (None, 4096)              102764544 \n",
            "                                                                 \n",
            " Dropout1 (Dropout)          (None, 4096)              0         \n",
            "                                                                 \n",
            " Dense2 (Dense)              (None, 4096)              16781312  \n",
            "                                                                 \n",
            " Dropout2 (Dropout)          (None, 4096)              0         \n",
            "                                                                 \n",
            " Dense3 (Dense)              (None, 1000)              4097000   \n",
            "                                                                 \n",
            " Dropout3 (Dropout)          (None, 1000)              0         \n",
            "                                                                 \n",
            " Output (Dense)              (None, 6)                 6006      \n",
            "                                                                 \n",
            "=================================================================\n",
            "Total params: 138363550 (527.82 MB)\n",
            "Trainable params: 138363550 (527.82 MB)\n",
            "Non-trainable params: 0 (0.00 Byte)\n",
            "_________________________________________________________________\n"
          ]
        }
      ]
    },
    {
      "cell_type": "code",
      "source": [
        "singleImageClassification('/content/download.jpeg', model)"
      ],
      "metadata": {
        "colab": {
          "base_uri": "https://localhost:8080/"
        },
        "id": "d-Ri76LnsVup",
        "outputId": "7abd7f52-2aaa-4efb-826d-14eb3e8547ea"
      },
      "execution_count": 10,
      "outputs": [
        {
          "output_type": "stream",
          "name": "stdout",
          "text": [
            "1/1 [==============================] - 1s 926ms/step\n"
          ]
        },
        {
          "output_type": "execute_result",
          "data": {
            "text/plain": [
              "array([5])"
            ]
          },
          "metadata": {},
          "execution_count": 10
        }
      ]
    },
    {
      "cell_type": "code",
      "source": [
        "zip_ref = zipfile.ZipFile('/content/predictimages.zip')\n",
        "zip_ref.extractall()\n",
        "zip_ref.close()"
      ],
      "metadata": {
        "id": "Hp1Odl6QvulU"
      },
      "execution_count": 11,
      "outputs": []
    },
    {
      "cell_type": "code",
      "source": [
        "predlist = classifyPath('/content/predictimages', model)\n",
        "predlist"
      ],
      "metadata": {
        "colab": {
          "base_uri": "https://localhost:8080/"
        },
        "id": "V2ewaBsfv2sQ",
        "outputId": "cca9d362-aa2a-4eca-9cf8-efd2151e7543"
      },
      "execution_count": 12,
      "outputs": [
        {
          "output_type": "stream",
          "name": "stdout",
          "text": [
            "1/1 [==============================] - 1s 687ms/step\n",
            "1/1 [==============================] - 1s 597ms/step\n",
            "1/1 [==============================] - 1s 616ms/step\n",
            "1/1 [==============================] - 1s 579ms/step\n",
            "1/1 [==============================] - 1s 609ms/step\n",
            "1/1 [==============================] - 1s 577ms/step\n",
            "1/1 [==============================] - 1s 583ms/step\n",
            "1/1 [==============================] - 1s 587ms/step\n",
            "1/1 [==============================] - 1s 578ms/step\n",
            "1/1 [==============================] - 1s 582ms/step\n",
            "1/1 [==============================] - 1s 589ms/step\n",
            "1/1 [==============================] - 1s 571ms/step\n"
          ]
        },
        {
          "output_type": "execute_result",
          "data": {
            "text/plain": [
              "{'10012.jpg': array([5]),\n",
              " '10045.jpg': array([5]),\n",
              " '10034.jpg': array([4]),\n",
              " '10005.jpg': array([3]),\n",
              " '10017.jpg': array([2]),\n",
              " '10043.jpg': array([4]),\n",
              " '1003.jpg': array([4]),\n",
              " '10004.jpg': array([0]),\n",
              " '10021.jpg': array([1]),\n",
              " '10040.jpg': array([5]),\n",
              " '10038.jpg': array([4]),\n",
              " '10013.jpg': array([3])}"
            ]
          },
          "metadata": {},
          "execution_count": 12
        }
      ]
    },
    {
      "cell_type": "markdown",
      "source": [
        "# Conclusion:\n",
        "\n",
        "  VGG-16 is a powerful model architecture, but requires\n",
        "  a large dataset inorder to perform efficently, the main point to take from this project is it's fine to train such complex models on a dataset, but your better off transferring a pre-trained model for the use case, especially when lacking a good enough set."
      ],
      "metadata": {
        "id": "MWwoemPdfXR7"
      }
    }
  ],
  "metadata": {
    "colab": {
      "provenance": [],
      "gpuType": "T4"
    },
    "kernelspec": {
      "display_name": "Python 3",
      "name": "python3"
    },
    "language_info": {
      "name": "python"
    },
    "accelerator": "GPU"
  },
  "nbformat": 4,
  "nbformat_minor": 0
}